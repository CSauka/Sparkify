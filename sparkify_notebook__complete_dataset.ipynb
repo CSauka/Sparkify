{
 "cells": [
  {
   "cell_type": "markdown",
   "metadata": {},
   "source": [
    "# Sparkify Project - Complete Dataset"
   ]
  },
  {
   "cell_type": "markdown",
   "metadata": {},
   "source": [
    "This project is based on data from a hypothetical music streaming service named Sparkify. The data comes in two form: The complete set (12 GB) as well as a tiny subset (128 MB). The project's goal is to use the data to predict churning of the service's users.\n",
    "\n",
    "This notebook was run on an AWS cluster utilizing the complete dataset."
   ]
  },
  {
   "cell_type": "code",
   "execution_count": 25,
   "metadata": {},
   "outputs": [
    {
     "data": {
      "application/vnd.jupyter.widget-view+json": {
       "model_id": "b82d001a4afe43c095ef342161dec56b",
       "version_major": 2,
       "version_minor": 0
      },
      "text/plain": [
       "VBox()"
      ]
     },
     "metadata": {},
     "output_type": "display_data"
    },
    {
     "data": {
      "application/vnd.jupyter.widget-view+json": {
       "model_id": "",
       "version_major": 2,
       "version_minor": 0
      },
      "text/plain": [
       "FloatProgress(value=0.0, bar_style='info', description='Progress:', layout=Layout(height='25px', width='50%'),…"
      ]
     },
     "metadata": {},
     "output_type": "display_data"
    },
    {
     "name": "stdout",
     "output_type": "stream",
     "text": [
      "Collecting pandas\n",
      "  Using cached https://files.pythonhosted.org/packages/52/3f/f6a428599e0d4497e1595030965b5ba455fd8ade6e977e3c819973c4b41d/pandas-0.25.3-cp36-cp36m-manylinux1_x86_64.whl\n",
      "Requirement already satisfied: numpy>=1.13.3 in /usr/local/lib64/python3.6/site-packages (from pandas) (1.14.5)\n",
      "Collecting python-dateutil>=2.6.1\n",
      "  Using cached https://files.pythonhosted.org/packages/d4/70/d60450c3dd48ef87586924207ae8907090de0b306af2bce5d134d78615cb/python_dateutil-2.8.1-py2.py3-none-any.whl\n",
      "Requirement already satisfied: pytz>=2017.2 in /usr/local/lib/python3.6/site-packages (from pandas) (2019.3)\n",
      "Requirement already satisfied: six>=1.5 in /usr/local/lib/python3.6/site-packages (from python-dateutil>=2.6.1->pandas) (1.12.0)\n",
      "Installing collected packages: python-dateutil, pandas\n",
      "Successfully installed pandas-0.25.3 python-dateutil-2.8.1\n",
      "\n",
      "Requirement already satisfied: numpy in /usr/local/lib64/python3.6/site-packages (1.14.5)\n",
      "\n",
      "Collecting matplotlib\n",
      "  Using cached https://files.pythonhosted.org/packages/4e/11/06958a2b895a3853206dea1fb2a5b11bf044f626f90745987612af9c8f2c/matplotlib-3.1.2-cp36-cp36m-manylinux1_x86_64.whl\n",
      "Requirement already satisfied: numpy>=1.11 in /usr/local/lib64/python3.6/site-packages (from matplotlib) (1.14.5)\n",
      "Collecting kiwisolver>=1.0.1\n",
      "  Using cached https://files.pythonhosted.org/packages/f8/a1/5742b56282449b1c0968197f63eae486eca2c35dcd334bab75ad524e0de1/kiwisolver-1.1.0-cp36-cp36m-manylinux1_x86_64.whl\n",
      "Requirement already satisfied: python-dateutil>=2.1 in /mnt/tmp/1577034410671-0/lib/python3.6/site-packages (from matplotlib) (2.8.1)\n",
      "Collecting pyparsing!=2.0.4,!=2.1.2,!=2.1.6,>=2.0.1\n",
      "  Using cached https://files.pythonhosted.org/packages/c0/0c/fc2e007d9a992d997f04a80125b0f183da7fb554f1de701bbb70a8e7d479/pyparsing-2.4.5-py2.py3-none-any.whl\n",
      "Collecting cycler>=0.10\n",
      "  Using cached https://files.pythonhosted.org/packages/f7/d2/e07d3ebb2bd7af696440ce7e754c59dd546ffe1bbe732c8ab68b9c834e61/cycler-0.10.0-py2.py3-none-any.whl\n",
      "Requirement already satisfied: setuptools in /mnt/tmp/1577034410671-0/lib/python3.6/site-packages (from kiwisolver>=1.0.1->matplotlib) (42.0.2)\n",
      "Requirement already satisfied: six>=1.5 in /usr/local/lib/python3.6/site-packages (from python-dateutil>=2.1->matplotlib) (1.12.0)\n",
      "Installing collected packages: kiwisolver, pyparsing, cycler, matplotlib\n",
      "Successfully installed cycler-0.10.0 kiwisolver-1.1.0 matplotlib-3.1.2 pyparsing-2.4.5\n",
      "\n",
      "Collecting seaborn\n",
      "  Using cached https://files.pythonhosted.org/packages/a8/76/220ba4420459d9c4c9c9587c6ce607bf56c25b3d3d2de62056efe482dadc/seaborn-0.9.0-py3-none-any.whl\n",
      "Requirement already satisfied: matplotlib>=1.4.3 in /mnt/tmp/1577034410671-0/lib64/python3.6/site-packages (from seaborn) (3.1.2)\n",
      "Collecting scipy>=0.14.0\n",
      "  Using cached https://files.pythonhosted.org/packages/dc/29/162476fd44203116e7980cfbd9352eef9db37c49445d1fec35509022f6aa/scipy-1.4.1-cp36-cp36m-manylinux1_x86_64.whl\n",
      "Requirement already satisfied: pandas>=0.15.2 in /mnt/tmp/1577034410671-0/lib64/python3.6/site-packages (from seaborn) (0.25.3)\n",
      "Requirement already satisfied: numpy>=1.9.3 in /usr/local/lib64/python3.6/site-packages (from seaborn) (1.14.5)\n",
      "Requirement already satisfied: kiwisolver>=1.0.1 in /mnt/tmp/1577034410671-0/lib64/python3.6/site-packages (from matplotlib>=1.4.3->seaborn) (1.1.0)\n",
      "Requirement already satisfied: python-dateutil>=2.1 in /mnt/tmp/1577034410671-0/lib/python3.6/site-packages (from matplotlib>=1.4.3->seaborn) (2.8.1)\n",
      "Requirement already satisfied: pyparsing!=2.0.4,!=2.1.2,!=2.1.6,>=2.0.1 in /mnt/tmp/1577034410671-0/lib/python3.6/site-packages (from matplotlib>=1.4.3->seaborn) (2.4.5)\n",
      "Requirement already satisfied: cycler>=0.10 in /mnt/tmp/1577034410671-0/lib/python3.6/site-packages (from matplotlib>=1.4.3->seaborn) (0.10.0)\n",
      "Requirement already satisfied: pytz>=2017.2 in /usr/local/lib/python3.6/site-packages (from pandas>=0.15.2->seaborn) (2019.3)\n",
      "Requirement already satisfied: setuptools in /mnt/tmp/1577034410671-0/lib/python3.6/site-packages (from kiwisolver>=1.0.1->matplotlib>=1.4.3->seaborn) (42.0.2)\n",
      "Requirement already satisfied: six>=1.5 in /usr/local/lib/python3.6/site-packages (from python-dateutil>=2.1->matplotlib>=1.4.3->seaborn) (1.12.0)\n",
      "Installing collected packages: scipy, seaborn\n",
      "Successfully installed scipy-1.4.1 seaborn-0.9.0"
     ]
    }
   ],
   "source": [
    "sc.install_pypi_package(\"pandas\")\n",
    "sc.install_pypi_package(\"numpy\")\n",
    "sc.install_pypi_package(\"matplotlib\")\n",
    "sc.install_pypi_package(\"seaborn\")"
   ]
  },
  {
   "cell_type": "code",
   "execution_count": 2,
   "metadata": {},
   "outputs": [
    {
     "data": {
      "application/vnd.jupyter.widget-view+json": {
       "model_id": "faa9220cb16f4ce2aaccbbc068f5070c",
       "version_major": 2,
       "version_minor": 0
      },
      "text/plain": [
       "VBox()"
      ]
     },
     "metadata": {},
     "output_type": "display_data"
    },
    {
     "data": {
      "application/vnd.jupyter.widget-view+json": {
       "model_id": "",
       "version_major": 2,
       "version_minor": 0
      },
      "text/plain": [
       "FloatProgress(value=0.0, bar_style='info', description='Progress:', layout=Layout(height='25px', width='50%'),…"
      ]
     },
     "metadata": {},
     "output_type": "display_data"
    },
    {
     "name": "stdout",
     "output_type": "stream",
     "text": [
      "Package                    Version\n",
      "-------------------------- -------\n",
      "beautifulsoup4             4.8.1  \n",
      "boto                       2.49.0 \n",
      "cycler                     0.10.0 \n",
      "jmespath                   0.9.4  \n",
      "kiwisolver                 1.1.0  \n",
      "lxml                       4.4.1  \n",
      "matplotlib                 3.1.2  \n",
      "mysqlclient                1.4.4  \n",
      "nltk                       3.4.5  \n",
      "nose                       1.3.4  \n",
      "numpy                      1.14.5 \n",
      "pandas                     0.25.3 \n",
      "pip                        19.3.1 \n",
      "py-dateutil                2.2    \n",
      "pyparsing                  2.4.5  \n",
      "python-dateutil            2.8.1  \n",
      "python36-sagemaker-pyspark 1.2.6  \n",
      "pytz                       2019.3 \n",
      "PyYAML                     3.11   \n",
      "scipy                      1.4.1  \n",
      "seaborn                    0.9.0  \n",
      "setuptools                 42.0.2 \n",
      "six                        1.12.0 \n",
      "soupsieve                  1.9.4  \n",
      "wheel                      0.33.6 \n",
      "windmill                   1.6"
     ]
    }
   ],
   "source": [
    "sc.list_packages()"
   ]
  },
  {
   "cell_type": "code",
   "execution_count": 26,
   "metadata": {},
   "outputs": [
    {
     "data": {
      "application/vnd.jupyter.widget-view+json": {
       "model_id": "9d25c1bbfe0042eb8c466dc55eab08d0",
       "version_major": 2,
       "version_minor": 0
      },
      "text/plain": [
       "VBox()"
      ]
     },
     "metadata": {},
     "output_type": "display_data"
    },
    {
     "data": {
      "application/vnd.jupyter.widget-view+json": {
       "model_id": "",
       "version_major": 2,
       "version_minor": 0
      },
      "text/plain": [
       "FloatProgress(value=0.0, bar_style='info', description='Progress:', layout=Layout(height='25px', width='50%'),…"
      ]
     },
     "metadata": {},
     "output_type": "display_data"
    }
   ],
   "source": [
    "import sys\n",
    "import time\n",
    "import datetime\n",
    "from pyspark.sql import SparkSession, Window\n",
    "from pyspark.sql.functions import col, sum, count, udf, to_timestamp, min, max, avg, when, length\n",
    "from pyspark.sql.types import TimestampType, FloatType, BooleanType\n",
    "from pyspark.ml.feature import VectorAssembler, Normalizer\n",
    "from pyspark.ml.classification import LogisticRegression, NaiveBayes, RandomForestClassifier\n",
    "from pyspark.ml.evaluation import BinaryClassificationEvaluator, MulticlassClassificationEvaluator\n",
    "from pyspark.ml.tuning import CrossValidator, ParamGridBuilder\n",
    "import matplotlib.pyplot as plt\n",
    "import numpy as np\n",
    "import seaborn as sb\n",
    "\n",
    "%matplot plt\n",
    "sb.set_style(\"whitegrid\")"
   ]
  },
  {
   "cell_type": "code",
   "execution_count": 27,
   "metadata": {},
   "outputs": [
    {
     "data": {
      "application/vnd.jupyter.widget-view+json": {
       "model_id": "2dd72e5d68ce4ad2a68c3138fcc0b145",
       "version_major": 2,
       "version_minor": 0
      },
      "text/plain": [
       "VBox()"
      ]
     },
     "metadata": {},
     "output_type": "display_data"
    },
    {
     "data": {
      "application/vnd.jupyter.widget-view+json": {
       "model_id": "",
       "version_major": 2,
       "version_minor": 0
      },
      "text/plain": [
       "FloatProgress(value=0.0, bar_style='info', description='Progress:', layout=Layout(height='25px', width='50%'),…"
      ]
     },
     "metadata": {},
     "output_type": "display_data"
    }
   ],
   "source": [
    "# Create spark session\n",
    "spark = SparkSession \\\n",
    "    .builder \\\n",
    "    .appName(\"Sparkify\") \\\n",
    "    .getOrCreate()"
   ]
  },
  {
   "cell_type": "markdown",
   "metadata": {},
   "source": [
    "# Load and Clean Dataset"
   ]
  },
  {
   "cell_type": "code",
   "execution_count": 5,
   "metadata": {},
   "outputs": [
    {
     "data": {
      "application/vnd.jupyter.widget-view+json": {
       "model_id": "70b1f5231a90458e8a3da38beca217f6",
       "version_major": 2,
       "version_minor": 0
      },
      "text/plain": [
       "VBox()"
      ]
     },
     "metadata": {},
     "output_type": "display_data"
    },
    {
     "data": {
      "application/vnd.jupyter.widget-view+json": {
       "model_id": "",
       "version_major": 2,
       "version_minor": 0
      },
      "text/plain": [
       "FloatProgress(value=0.0, bar_style='info', description='Progress:', layout=Layout(height='25px', width='50%'),…"
      ]
     },
     "metadata": {},
     "output_type": "display_data"
    },
    {
     "name": "stdout",
     "output_type": "stream",
     "text": [
      "Row(artist='Popol Vuh', auth='Logged In', firstName='Shlok', gender='M', itemInSession=278, lastName='Johnson', length=524.32934, level='paid', location='Dallas-Fort Worth-Arlington, TX', method='PUT', page='NextSong', registration=1533734541000, sessionId=22683, song='Ich mache einen Spiegel - Dream Part 4', status=200, ts=1538352001000, userAgent='\"Mozilla/5.0 (Windows NT 6.1; WOW64) AppleWebKit/537.36 (KHTML, like Gecko) Chrome/36.0.1985.143 Safari/537.36\"', userId='1749042')"
     ]
    }
   ],
   "source": [
    "# Read in sparkify dataset\n",
    "# Full dataset\n",
    "event_data = \"s3n://udacity-dsnd/sparkify/sparkify_event_data.json\"\n",
    "# Reduced dataset\n",
    "mini_event_data = \"s3n://udacity-dsnd/sparkify/mini_sparkify_event_data.json\"\n",
    "\n",
    "df = spark.read.json(event_data)\n",
    "df.head()"
   ]
  },
  {
   "cell_type": "code",
   "execution_count": 6,
   "metadata": {},
   "outputs": [
    {
     "data": {
      "application/vnd.jupyter.widget-view+json": {
       "model_id": "dbb02edc5ef649f185b6107fc977a3ca",
       "version_major": 2,
       "version_minor": 0
      },
      "text/plain": [
       "VBox()"
      ]
     },
     "metadata": {},
     "output_type": "display_data"
    },
    {
     "data": {
      "application/vnd.jupyter.widget-view+json": {
       "model_id": "",
       "version_major": 2,
       "version_minor": 0
      },
      "text/plain": [
       "FloatProgress(value=0.0, bar_style='info', description='Progress:', layout=Layout(height='25px', width='50%'),…"
      ]
     },
     "metadata": {},
     "output_type": "display_data"
    },
    {
     "name": "stdout",
     "output_type": "stream",
     "text": [
      "Row(artist='Popol Vuh', auth='Logged In', firstName='Shlok', gender='M', itemInSession=278, lastName='Johnson', length=524.32934, level='paid', location='Dallas-Fort Worth-Arlington, TX', page='NextSong', registration=1533734541000, sessionId=22683, song='Ich mache einen Spiegel - Dream Part 4', ts=1538352001000, userId='1749042')"
     ]
    }
   ],
   "source": [
    "df = df.drop(\"method\", \"status\", \"userAgent\")\n",
    "df.head()"
   ]
  },
  {
   "cell_type": "code",
   "execution_count": 7,
   "metadata": {},
   "outputs": [
    {
     "data": {
      "application/vnd.jupyter.widget-view+json": {
       "model_id": "a23b0b46ed0c4f1bbf4932edf607324e",
       "version_major": 2,
       "version_minor": 0
      },
      "text/plain": [
       "VBox()"
      ]
     },
     "metadata": {},
     "output_type": "display_data"
    },
    {
     "data": {
      "application/vnd.jupyter.widget-view+json": {
       "model_id": "",
       "version_major": 2,
       "version_minor": 0
      },
      "text/plain": [
       "FloatProgress(value=0.0, bar_style='info', description='Progress:', layout=Layout(height='25px', width='50%'),…"
      ]
     },
     "metadata": {},
     "output_type": "display_data"
    },
    {
     "name": "stdout",
     "output_type": "stream",
     "text": [
      "26259199"
     ]
    }
   ],
   "source": [
    "df.count()"
   ]
  },
  {
   "cell_type": "code",
   "execution_count": 8,
   "metadata": {},
   "outputs": [
    {
     "data": {
      "application/vnd.jupyter.widget-view+json": {
       "model_id": "3f72eb9bd878406db5ac76f765cc39c9",
       "version_major": 2,
       "version_minor": 0
      },
      "text/plain": [
       "VBox()"
      ]
     },
     "metadata": {},
     "output_type": "display_data"
    },
    {
     "data": {
      "application/vnd.jupyter.widget-view+json": {
       "model_id": "",
       "version_major": 2,
       "version_minor": 0
      },
      "text/plain": [
       "FloatProgress(value=0.0, bar_style='info', description='Progress:', layout=Layout(height='25px', width='50%'),…"
      ]
     },
     "metadata": {},
     "output_type": "display_data"
    },
    {
     "name": "stdout",
     "output_type": "stream",
     "text": [
      "root\n",
      " |-- artist: string (nullable = true)\n",
      " |-- auth: string (nullable = true)\n",
      " |-- firstName: string (nullable = true)\n",
      " |-- gender: string (nullable = true)\n",
      " |-- itemInSession: long (nullable = true)\n",
      " |-- lastName: string (nullable = true)\n",
      " |-- length: double (nullable = true)\n",
      " |-- level: string (nullable = true)\n",
      " |-- location: string (nullable = true)\n",
      " |-- page: string (nullable = true)\n",
      " |-- registration: long (nullable = true)\n",
      " |-- sessionId: long (nullable = true)\n",
      " |-- song: string (nullable = true)\n",
      " |-- ts: long (nullable = true)\n",
      " |-- userId: string (nullable = true)"
     ]
    }
   ],
   "source": [
    "df.printSchema()"
   ]
  },
  {
   "cell_type": "code",
   "execution_count": 9,
   "metadata": {},
   "outputs": [
    {
     "data": {
      "application/vnd.jupyter.widget-view+json": {
       "model_id": "9c384373ad3e47a48bca55cc09e68f95",
       "version_major": 2,
       "version_minor": 0
      },
      "text/plain": [
       "VBox()"
      ]
     },
     "metadata": {},
     "output_type": "display_data"
    },
    {
     "data": {
      "application/vnd.jupyter.widget-view+json": {
       "model_id": "",
       "version_major": 2,
       "version_minor": 0
      },
      "text/plain": [
       "FloatProgress(value=0.0, bar_style='info', description='Progress:', layout=Layout(height='25px', width='50%'),…"
      ]
     },
     "metadata": {},
     "output_type": "display_data"
    }
   ],
   "source": [
    "def show_missing_data(df):\n",
    "    \n",
    "    \"\"\"Shows the occurance of nan values in a pyspark dataframe\n",
    "    \n",
    "    Input: \n",
    "    A pyspark dataframe with a number of features and a column\n",
    "    labelled 'page' which specifies the type of the entry.\n",
    "    \n",
    "    Returns:\n",
    "    Nothing but plots a figure which shows the structural occurances\n",
    "    of nan values.\n",
    "    \"\"\"\n",
    "    \n",
    "    # create initial dataframe with column \"page\"\n",
    "    null_vals = df.select(\"page\").distinct()\n",
    "    # inspect the dataframe column by column and count the number of nans and \"\"s in each\n",
    "    for c in df.columns:\n",
    "        next = df.filter((df[c].isNull() == True) | (df[c] == \"\")).groupby(\"page\") \\\n",
    "                                                                  .count() \\\n",
    "                                                                  .withColumnRenamed(\"count\", c)\n",
    "        null_vals = null_vals.join(next, [\"page\"], \"outer\")\n",
    "    df = df.sort(\"page\")\n",
    "\n",
    "    # copy data into a Pandas DataFrame to facilitate plotting\n",
    "    p_null_vals = null_vals.toPandas()\n",
    "\n",
    "    # remove duplicate pages column\n",
    "    pages = p_null_vals[\"page\"].iloc[:,0].values\n",
    "    p_null_vals.drop(\"page\", axis=1, inplace=True)\n",
    "    p_null_vals[\"page\"] = pages\n",
    "    \n",
    "\n",
    "    # convert values into a binary format:\n",
    "    # if null values exist then TRUE else FALSE\n",
    "    for c in p_null_vals.columns[:-1]:\n",
    "        p_null_vals[c] = [False if str(x) in [\"None\", \"nan\"] else True for x in p_null_vals[c]]\n",
    "\n",
    "    \n",
    "    # make a plot which shows the occurances of null values\n",
    "    plt.figure(figsize=(9, 9))\n",
    "    yticklabels = [x.title() for x in p_null_vals.columns[:-1]]\n",
    "    sb.heatmap(p_null_vals.iloc[:, :-1].transpose(), xticklabels=pages, \n",
    "               yticklabels=yticklabels, cmap=[\"white\", \"red\"], cbar=False, \n",
    "               square=True, linewidths=0.05, linecolor=\"grey\");\n",
    "    plt.xlabel(\"Type of page/transaction\", fontsize=11.5);\n",
    "    plt.ylabel(\"Dataset feature\", fontsize=11.5);\n",
    "    title = plt.title(\"The red squares show where in the dataset NULL VALUES occur\", \n",
    "                      loc=\"left\", fontsize=12.5);\n",
    "    title.set_position([0, 1.03]);"
   ]
  },
  {
   "cell_type": "code",
   "execution_count": 10,
   "metadata": {},
   "outputs": [
    {
     "data": {
      "application/vnd.jupyter.widget-view+json": {
       "model_id": "edfd07e6da5a4476be511d882cf79dbb",
       "version_major": 2,
       "version_minor": 0
      },
      "text/plain": [
       "VBox()"
      ]
     },
     "metadata": {},
     "output_type": "display_data"
    },
    {
     "data": {
      "application/vnd.jupyter.widget-view+json": {
       "model_id": "",
       "version_major": 2,
       "version_minor": 0
      },
      "text/plain": [
       "FloatProgress(value=0.0, bar_style='info', description='Progress:', layout=Layout(height='25px', width='50%'),…"
      ]
     },
     "metadata": {},
     "output_type": "display_data"
    },
    {
     "data": {
      "image/png": "[encoded data removed]",
      "text/plain": [
       "<IPython.core.display.Image object>"
      ]
     },
     "metadata": {},
     "output_type": "display_data"
    }
   ],
   "source": [
    "show_missing_data(df)\n",
    "%matplot plt"
   ]
  },
  {
   "cell_type": "code",
   "execution_count": 11,
   "metadata": {},
   "outputs": [
    {
     "data": {
      "application/vnd.jupyter.widget-view+json": {
       "model_id": "d775dcccfc0747908edb8d7c525cd531",
       "version_major": 2,
       "version_minor": 0
      },
      "text/plain": [
       "VBox()"
      ]
     },
     "metadata": {},
     "output_type": "display_data"
    },
    {
     "data": {
      "application/vnd.jupyter.widget-view+json": {
       "model_id": "",
       "version_major": 2,
       "version_minor": 0
      },
      "text/plain": [
       "FloatProgress(value=0.0, bar_style='info', description='Progress:', layout=Layout(height='25px', width='50%'),…"
      ]
     },
     "metadata": {},
     "output_type": "display_data"
    },
    {
     "data": {
      "image/png": "[encoded data removed]",
      "text/plain": [
       "<IPython.core.display.Image object>"
      ]
     },
     "metadata": {},
     "output_type": "display_data"
    }
   ],
   "source": [
    "df = df.filter((df.userId != \"\") & (df.gender != \"\"))\n",
    "show_missing_data(df)\n",
    "%matplot plt"
   ]
  },
  {
   "cell_type": "code",
   "execution_count": 12,
   "metadata": {},
   "outputs": [
    {
     "data": {
      "application/vnd.jupyter.widget-view+json": {
       "model_id": "696c24ea5e8b4c528875c60420ee21a1",
       "version_major": 2,
       "version_minor": 0
      },
      "text/plain": [
       "VBox()"
      ]
     },
     "metadata": {},
     "output_type": "display_data"
    },
    {
     "data": {
      "application/vnd.jupyter.widget-view+json": {
       "model_id": "",
       "version_major": 2,
       "version_minor": 0
      },
      "text/plain": [
       "FloatProgress(value=0.0, bar_style='info', description='Progress:', layout=Layout(height='25px', width='50%'),…"
      ]
     },
     "metadata": {},
     "output_type": "display_data"
    },
    {
     "name": "stdout",
     "output_type": "stream",
     "text": [
      "No duplicates."
     ]
    }
   ],
   "source": [
    "# Combination of columns for which no duplicates should exist\n",
    "columns = [\"userId\", \"sessionId\", \"itemInSession\"]\n",
    "\n",
    "if df.count() > df.dropDuplicates(columns).count():\n",
    "    print(\"Data has duplicates.\")\n",
    "else:\n",
    "    print(\"No duplicates.\")"
   ]
  },
  {
   "cell_type": "code",
   "execution_count": 13,
   "metadata": {},
   "outputs": [
    {
     "data": {
      "application/vnd.jupyter.widget-view+json": {
       "model_id": "cc52d155bced4f078c9b07819e4e2d80",
       "version_major": 2,
       "version_minor": 0
      },
      "text/plain": [
       "VBox()"
      ]
     },
     "metadata": {},
     "output_type": "display_data"
    },
    {
     "data": {
      "application/vnd.jupyter.widget-view+json": {
       "model_id": "",
       "version_major": 2,
       "version_minor": 0
      },
      "text/plain": [
       "FloatProgress(value=0.0, bar_style='info', description='Progress:', layout=Layout(height='25px', width='50%'),…"
      ]
     },
     "metadata": {},
     "output_type": "display_data"
    }
   ],
   "source": [
    "df = df.withColumn(\"timestamp\", to_timestamp(df.ts / 1e3))\n",
    "df = df.drop(\"ts\")"
   ]
  },
  {
   "cell_type": "markdown",
   "metadata": {},
   "source": [
    "# Exploratory Data Analysis\n",
    "\n",
    "### Definion of Churn\n",
    "\n",
    "The `Cancellation Confirmation` event is used to identify user who churn. \n",
    "\n",
    "### Data Exploration"
   ]
  },
  {
   "cell_type": "markdown",
   "metadata": {},
   "source": [
    "**Question**: Of all users in the dataset how many did cancel the service?"
   ]
  },
  {
   "cell_type": "code",
   "execution_count": 14,
   "metadata": {},
   "outputs": [
    {
     "data": {
      "application/vnd.jupyter.widget-view+json": {
       "model_id": "f2e0db4234334041b2d38faa5181803f",
       "version_major": 2,
       "version_minor": 0
      },
      "text/plain": [
       "VBox()"
      ]
     },
     "metadata": {},
     "output_type": "display_data"
    },
    {
     "data": {
      "application/vnd.jupyter.widget-view+json": {
       "model_id": "",
       "version_major": 2,
       "version_minor": 0
      },
      "text/plain": [
       "FloatProgress(value=0.0, bar_style='info', description='Progress:', layout=Layout(height='25px', width='50%'),…"
      ]
     },
     "metadata": {},
     "output_type": "display_data"
    },
    {
     "name": "stdout",
     "output_type": "stream",
     "text": [
      "22.5%"
     ]
    }
   ],
   "source": [
    "canc_rate = df.filter(df.page == \"Cancellation Confirmation\").groupby(\"userId\").count().count() / \\\n",
    "            df.groupby(\"userId\").count().count() * 100\n",
    "print(f\"{canc_rate:.1f}%\")"
   ]
  },
  {
   "cell_type": "markdown",
   "metadata": {},
   "source": [
    "**Question**: How does the proportion of female users who cancelled the service relate to their overall proportion in the dataset?"
   ]
  },
  {
   "cell_type": "code",
   "execution_count": 15,
   "metadata": {},
   "outputs": [
    {
     "data": {
      "application/vnd.jupyter.widget-view+json": {
       "model_id": "e621b78aa04a496cb4d2e2b04b68d469",
       "version_major": 2,
       "version_minor": 0
      },
      "text/plain": [
       "VBox()"
      ]
     },
     "metadata": {},
     "output_type": "display_data"
    },
    {
     "data": {
      "application/vnd.jupyter.widget-view+json": {
       "model_id": "",
       "version_major": 2,
       "version_minor": 0
      },
      "text/plain": [
       "FloatProgress(value=0.0, bar_style='info', description='Progress:', layout=Layout(height='25px', width='50%'),…"
      ]
     },
     "metadata": {},
     "output_type": "display_data"
    },
    {
     "name": "stdout",
     "output_type": "stream",
     "text": [
      "Overall rate of females in the dataset: 47.7%\n",
      "Rate of females among users who cancelled: 46.9%"
     ]
    }
   ],
   "source": [
    "overall_fem_prop = df.filter(df.gender == \"F\").groupby(\"userId\").count().count() \\\n",
    "                   / df.groupby(\"userId\").count().count() * 100\n",
    "print(f\"Overall rate of females in the dataset: {overall_fem_prop:.1f}%\")\n",
    "\n",
    "canc_fem_prop = df.filter((df.gender == \"F\") & (df.page == \"Cancellation Confirmation\")) \\\n",
    "                .groupby(\"userId\").count().count() \\\n",
    "                / df.filter(df.page == \"Cancellation Confirmation\") \\\n",
    "                .groupby(\"userId\").count().count() * 100\n",
    "print(f\"Rate of females among users who cancelled: {canc_fem_prop:.1f}%\")"
   ]
  },
  {
   "cell_type": "markdown",
   "metadata": {},
   "source": [
    "**Question**: How does the proportion of paying users who cancelled the service relate to the overall proportion of paying users in the dataset?"
   ]
  },
  {
   "cell_type": "code",
   "execution_count": 16,
   "metadata": {},
   "outputs": [
    {
     "data": {
      "application/vnd.jupyter.widget-view+json": {
       "model_id": "0b53bf5f0e22401385b0dc529aeaaa69",
       "version_major": 2,
       "version_minor": 0
      },
      "text/plain": [
       "VBox()"
      ]
     },
     "metadata": {},
     "output_type": "display_data"
    },
    {
     "data": {
      "application/vnd.jupyter.widget-view+json": {
       "model_id": "",
       "version_major": 2,
       "version_minor": 0
      },
      "text/plain": [
       "FloatProgress(value=0.0, bar_style='info', description='Progress:', layout=Layout(height='25px', width='50%'),…"
      ]
     },
     "metadata": {},
     "output_type": "display_data"
    },
    {
     "name": "stdout",
     "output_type": "stream",
     "text": [
      "Overall proportion of paying users: 72.6%\n",
      "Proportion of paying users among the users who cancelled: 68.4%"
     ]
    }
   ],
   "source": [
    "overall_pay_prop = df.filter(df.level == \"paid\").groupby(\"userId\").count().count() \\\n",
    "                   / df.groupby(\"userId\").count().count() * 100\n",
    "print(f\"Overall proportion of paying users: {overall_pay_prop:.1f}%\")\n",
    "\n",
    "canc_pay_prop = df.filter((df.level == \"paid\") & (df.page == \"Cancellation Confirmation\")) \\\n",
    "                .groupby(\"userId\").count().count() \\\n",
    "                / df.filter(df.page == \"Cancellation Confirmation\") \\\n",
    "                .groupby(\"userId\").count().count() * 100\n",
    "print(f\"Proportion of paying users among the users who cancelled: {canc_pay_prop:.1f}%\")"
   ]
  },
  {
   "cell_type": "markdown",
   "metadata": {},
   "source": [
    "**Question**: Which time span is covered by the dataset?"
   ]
  },
  {
   "cell_type": "code",
   "execution_count": 17,
   "metadata": {},
   "outputs": [
    {
     "data": {
      "application/vnd.jupyter.widget-view+json": {
       "model_id": "b49a25239e004af5b4987791d4fb760f",
       "version_major": 2,
       "version_minor": 0
      },
      "text/plain": [
       "VBox()"
      ]
     },
     "metadata": {},
     "output_type": "display_data"
    },
    {
     "data": {
      "application/vnd.jupyter.widget-view+json": {
       "model_id": "",
       "version_major": 2,
       "version_minor": 0
      },
      "text/plain": [
       "FloatProgress(value=0.0, bar_style='info', description='Progress:', layout=Layout(height='25px', width='50%'),…"
      ]
     },
     "metadata": {},
     "output_type": "display_data"
    },
    {
     "name": "stdout",
     "output_type": "stream",
     "text": [
      "+-------------------+\n",
      "|     min(timestamp)|\n",
      "+-------------------+\n",
      "|2018-10-01 00:00:01|\n",
      "+-------------------+\n",
      "\n",
      "+-------------------+\n",
      "|     max(timestamp)|\n",
      "+-------------------+\n",
      "|2018-12-01 00:00:02|\n",
      "+-------------------+\n",
      "\n",
      "datetime.timedelta(61, 1)"
     ]
    }
   ],
   "source": [
    "df.agg(min(df.timestamp)).show()\n",
    "df.agg(max(df.timestamp)).show()\n",
    "df.agg(max(df.timestamp)).collect()[0][0] - df.agg(min(df.timestamp)).collect()[0][0]"
   ]
  },
  {
   "cell_type": "markdown",
   "metadata": {},
   "source": [
    "# Feature Engineering"
   ]
  },
  {
   "cell_type": "markdown",
   "metadata": {},
   "source": [
    "**New feature 1**: Number of total interactions (`count_interactions`) of a user."
   ]
  },
  {
   "cell_type": "code",
   "execution_count": 18,
   "metadata": {},
   "outputs": [
    {
     "data": {
      "application/vnd.jupyter.widget-view+json": {
       "model_id": "19d9a875aa974948b6e75b8deb7a46a9",
       "version_major": 2,
       "version_minor": 0
      },
      "text/plain": [
       "VBox()"
      ]
     },
     "metadata": {},
     "output_type": "display_data"
    },
    {
     "data": {
      "application/vnd.jupyter.widget-view+json": {
       "model_id": "",
       "version_major": 2,
       "version_minor": 0
      },
      "text/plain": [
       "FloatProgress(value=0.0, bar_style='info', description='Progress:', layout=Layout(height='25px', width='50%'),…"
      ]
     },
     "metadata": {},
     "output_type": "display_data"
    },
    {
     "name": "stdout",
     "output_type": "stream",
     "text": [
      "+-------+------+------------------+\n",
      "| userId|gender|count_interactions|\n",
      "+-------+------+------------------+\n",
      "|1000025|     M|              2005|\n",
      "|1000035|     F|              1577|\n",
      "|1000083|     M|               596|\n",
      "|1000103|     F|                95|\n",
      "|1000164|     F|              1163|\n",
      "+-------+------+------------------+\n",
      "only showing top 5 rows"
     ]
    }
   ],
   "source": [
    "df_users = df.select(\"userId\", \"gender\").sort(\"userId\").groupby(\"userId\", \"gender\").count()\n",
    "df_users = df_users.withColumnRenamed(\"count\", \"count_interactions\")\n",
    "df_users.show(5)"
   ]
  },
  {
   "cell_type": "markdown",
   "metadata": {},
   "source": [
    "**New feature 2**: User is male (`male`)."
   ]
  },
  {
   "cell_type": "code",
   "execution_count": 19,
   "metadata": {},
   "outputs": [
    {
     "data": {
      "application/vnd.jupyter.widget-view+json": {
       "model_id": "b380bce85642426782ac008b0addf926",
       "version_major": 2,
       "version_minor": 0
      },
      "text/plain": [
       "VBox()"
      ]
     },
     "metadata": {},
     "output_type": "display_data"
    },
    {
     "data": {
      "application/vnd.jupyter.widget-view+json": {
       "model_id": "",
       "version_major": 2,
       "version_minor": 0
      },
      "text/plain": [
       "FloatProgress(value=0.0, bar_style='info', description='Progress:', layout=Layout(height='25px', width='50%'),…"
      ]
     },
     "metadata": {},
     "output_type": "display_data"
    },
    {
     "name": "stdout",
     "output_type": "stream",
     "text": [
      "+-------+------------------+-----+\n",
      "| userId|count_interactions| male|\n",
      "+-------+------------------+-----+\n",
      "|1000025|              2005| true|\n",
      "|1000035|              1577|false|\n",
      "|1000083|               596| true|\n",
      "|1000103|                95|false|\n",
      "|1000164|              1163|false|\n",
      "+-------+------------------+-----+\n",
      "only showing top 5 rows"
     ]
    }
   ],
   "source": [
    "is_male = udf(lambda x: True if x == \"M\" else False, BooleanType())\n",
    "df_users = df_users.withColumn(\"male\", is_male(df_users.gender)).drop(\"gender\")\n",
    "df_users.show(5)"
   ]
  },
  {
   "cell_type": "markdown",
   "metadata": {},
   "source": [
    "**New features 3 and 4**: Number of likes (`count_thumbs_up`) and dislikes (`count_thumbs_down`) provided by a user according to the available records."
   ]
  },
  {
   "cell_type": "code",
   "execution_count": 20,
   "metadata": {},
   "outputs": [
    {
     "data": {
      "application/vnd.jupyter.widget-view+json": {
       "model_id": "75f220c3a6364d8f853507a3a88a4464",
       "version_major": 2,
       "version_minor": 0
      },
      "text/plain": [
       "VBox()"
      ]
     },
     "metadata": {},
     "output_type": "display_data"
    },
    {
     "data": {
      "application/vnd.jupyter.widget-view+json": {
       "model_id": "",
       "version_major": 2,
       "version_minor": 0
      },
      "text/plain": [
       "FloatProgress(value=0.0, bar_style='info', description='Progress:', layout=Layout(height='25px', width='50%'),…"
      ]
     },
     "metadata": {},
     "output_type": "display_data"
    }
   ],
   "source": [
    "def count_interactions(interaction_name, new_col_name, df_interactions=df, df_users=df_users):\n",
    "    \"\"\"Counts interaction in the interaction dataframe and appends a column \n",
    "    with the count to the user dataframe.\n",
    "    \n",
    "    Inputs: \n",
    "    interaction_name (str): the 'page' category in the interactions dataframe\n",
    "    new_col_name (str): the label of the column to be added to the user dataframe\n",
    "    df_interactions (pyspark dataframe): a dataframe containing the interactions \n",
    "                                         labelled in the 'page' column for users\n",
    "                                         labelled in the 'userId' column\n",
    "    df_users (pyspark dataframe): a dataframe containing the users (column 'userId') \n",
    "                                  for whom the interactions are counted\n",
    "    \n",
    "    Returns: \n",
    "    df_users (pyspark dataframe): the user dataframe with a new column containing the \n",
    "                                  interaction counts\n",
    "    \"\"\"\n",
    "    \n",
    "    interaction_count = df.filter(df.page == interaction_name).groupby(\"userId\").count()\n",
    "    df_users = df_users.join(interaction_count, \"userId\", \"left\")\n",
    "    df_users = df_users.fillna(0, [\"count\"])\n",
    "    df_users = df_users.withColumnRenamed(\"count\", new_col_name)\n",
    "    \n",
    "    return df_users"
   ]
  },
  {
   "cell_type": "code",
   "execution_count": 21,
   "metadata": {},
   "outputs": [
    {
     "data": {
      "application/vnd.jupyter.widget-view+json": {
       "model_id": "87299abbdd15416a98f3558dd37e7350",
       "version_major": 2,
       "version_minor": 0
      },
      "text/plain": [
       "VBox()"
      ]
     },
     "metadata": {},
     "output_type": "display_data"
    },
    {
     "data": {
      "application/vnd.jupyter.widget-view+json": {
       "model_id": "",
       "version_major": 2,
       "version_minor": 0
      },
      "text/plain": [
       "FloatProgress(value=0.0, bar_style='info', description='Progress:', layout=Layout(height='25px', width='50%'),…"
      ]
     },
     "metadata": {},
     "output_type": "display_data"
    },
    {
     "name": "stdout",
     "output_type": "stream",
     "text": [
      "+-------+------------------+-----+---------------+-----------------+\n",
      "| userId|count_interactions| male|count_thumbs_up|count_thumbs_down|\n",
      "+-------+------------------+-----+---------------+-----------------+\n",
      "|1000280|              1317| true|             53|               33|\n",
      "|1002185|              2080|false|             92|               14|\n",
      "|1017805|               320|false|              7|                4|\n",
      "|1030587|              1752|false|             66|               16|\n",
      "|1033297|               299| true|             10|                3|\n",
      "+-------+------------------+-----+---------------+-----------------+\n",
      "only showing top 5 rows\n",
      "\n",
      "Operations took 114.1 seconds."
     ]
    }
   ],
   "source": [
    "start_time = time.time()\n",
    "\n",
    "# counting thumbs up per user\n",
    "df_users = count_interactions(\"Thumbs Up\", \"count_thumbs_up\", df, df_users)\n",
    "# counting thumbs down per user\n",
    "df_users = count_interactions(\"Thumbs Down\", \"count_thumbs_down\", df, df_users)\n",
    "\n",
    "df_users.show(5)\n",
    "\n",
    "print(f\"Operations took {time.time() - start_time:.1f} seconds.\")"
   ]
  },
  {
   "cell_type": "markdown",
   "metadata": {},
   "source": [
    "**New features 5 and 6**: Total number of additions to a playlist (`count_playlist`) and total number of friend additions  (`count_friends`) by the user."
   ]
  },
  {
   "cell_type": "code",
   "execution_count": 22,
   "metadata": {},
   "outputs": [
    {
     "data": {
      "application/vnd.jupyter.widget-view+json": {
       "model_id": "c931624740cf4bf686a97e62b41f9668",
       "version_major": 2,
       "version_minor": 0
      },
      "text/plain": [
       "VBox()"
      ]
     },
     "metadata": {},
     "output_type": "display_data"
    },
    {
     "data": {
      "application/vnd.jupyter.widget-view+json": {
       "model_id": "",
       "version_major": 2,
       "version_minor": 0
      },
      "text/plain": [
       "FloatProgress(value=0.0, bar_style='info', description='Progress:', layout=Layout(height='25px', width='50%'),…"
      ]
     },
     "metadata": {},
     "output_type": "display_data"
    },
    {
     "name": "stdout",
     "output_type": "stream",
     "text": [
      "+-------+------------------+-----+---------------+-----------------+--------------+-------------+\n",
      "| userId|count_interactions| male|count_thumbs_up|count_thumbs_down|count_playlist|count_friends|\n",
      "+-------+------------------+-----+---------------+-----------------+--------------+-------------+\n",
      "|1000280|              1317| true|             53|               33|            25|           14|\n",
      "|1002185|              2080|false|             92|               14|            49|           25|\n",
      "|1017805|               320|false|              7|                4|             5|           13|\n",
      "|1030587|              1752|false|             66|               16|            46|           23|\n",
      "|1033297|               299| true|             10|                3|             7|            4|\n",
      "+-------+------------------+-----+---------------+-----------------+--------------+-------------+\n",
      "only showing top 5 rows\n",
      "\n",
      "Operations took 150.8 seconds."
     ]
    }
   ],
   "source": [
    "start_time = time.time()\n",
    "\n",
    "# counting thumbs up per user\n",
    "df_users = count_interactions(\"Add to Playlist\", \"count_playlist\", df, df_users)\n",
    "# counting thumbs down per user\n",
    "df_users = count_interactions(\"Add Friend\", \"count_friends\", df, df_users)\n",
    "\n",
    "df_users.show(5)\n",
    "\n",
    "print(f\"Operations took {time.time() - start_time:.1f} seconds.\")"
   ]
  },
  {
   "cell_type": "markdown",
   "metadata": {},
   "source": [
    "**New features 7 and 8**: Total number of advertisements (`count_ads`) and errors (`count_errors`) the user has seen."
   ]
  },
  {
   "cell_type": "code",
   "execution_count": 23,
   "metadata": {},
   "outputs": [
    {
     "data": {
      "application/vnd.jupyter.widget-view+json": {
       "model_id": "40e5e2c663b44cd1823bacfdec00a0e4",
       "version_major": 2,
       "version_minor": 0
      },
      "text/plain": [
       "VBox()"
      ]
     },
     "metadata": {},
     "output_type": "display_data"
    },
    {
     "data": {
      "application/vnd.jupyter.widget-view+json": {
       "model_id": "",
       "version_major": 2,
       "version_minor": 0
      },
      "text/plain": [
       "FloatProgress(value=0.0, bar_style='info', description='Progress:', layout=Layout(height='25px', width='50%'),…"
      ]
     },
     "metadata": {},
     "output_type": "display_data"
    },
    {
     "name": "stdout",
     "output_type": "stream",
     "text": [
      "+-------+---------+------------+\n",
      "| userId|count_ads|count_errors|\n",
      "+-------+---------+------------+\n",
      "|1000280|       74|           3|\n",
      "|1002185|        1|           2|\n",
      "|1017805|        6|           0|\n",
      "|1030587|        0|           1|\n",
      "|1033297|       10|           0|\n",
      "+-------+---------+------------+\n",
      "only showing top 5 rows\n",
      "\n",
      "Operations took 197.1 seconds."
     ]
    }
   ],
   "source": [
    "start_time = time.time()\n",
    "\n",
    "# counting thumbs up per user\n",
    "df_users = count_interactions(\"Roll Advert\", \"count_ads\", df, df_users)\n",
    "# counting thumbs down per user\n",
    "df_users = count_interactions(\"Error\", \"count_errors\", df, df_users)\n",
    "\n",
    "df_users.select(\"userId\", \"count_ads\", \"count_errors\").show(5)\n",
    "\n",
    "print(f\"Operations took {time.time() - start_time:.1f} seconds.\")"
   ]
  },
  {
   "cell_type": "markdown",
   "metadata": {},
   "source": [
    "**New feature 9**: Time since the last interaction (`duration_inactivity_hrs`) in hours -excluding cancellation- by the user."
   ]
  },
  {
   "cell_type": "code",
   "execution_count": 24,
   "metadata": {},
   "outputs": [
    {
     "data": {
      "application/vnd.jupyter.widget-view+json": {
       "model_id": "d3cb1645475040df9a6d1fcb00ff3e56",
       "version_major": 2,
       "version_minor": 0
      },
      "text/plain": [
       "VBox()"
      ]
     },
     "metadata": {},
     "output_type": "display_data"
    },
    {
     "data": {
      "application/vnd.jupyter.widget-view+json": {
       "model_id": "",
       "version_major": 2,
       "version_minor": 0
      },
      "text/plain": [
       "FloatProgress(value=0.0, bar_style='info', description='Progress:', layout=Layout(height='25px', width='50%'),…"
      ]
     },
     "metadata": {},
     "output_type": "display_data"
    },
    {
     "name": "stdout",
     "output_type": "stream",
     "text": [
      "+-------+-----------------------+\n",
      "| userId|duration_inactivity_hrs|\n",
      "+-------+-----------------------+\n",
      "|1000280|                 409.02|\n",
      "|1002185|                  49.86|\n",
      "|1017805|                 834.51|\n",
      "|1030587|                  24.17|\n",
      "|1033297|                  92.14|\n",
      "+-------+-----------------------+\n",
      "only showing top 5 rows\n",
      "\n",
      "Operations took 241.6 seconds."
     ]
    }
   ],
   "source": [
    "start_time = time.time()\n",
    "\n",
    "# Determine the time of the last user interaction -excluding cancellation- \n",
    "# and append it to the user dataframe\n",
    "df_temp = df.filter(~df.page.isin([\"Cancel\", \"Cancellation Confirmation\"])) \\\n",
    "            .select(\"userId\", \n",
    "                    \"timestamp\", \n",
    "                    max(\"timestamp\").over(Window.partitionBy(\"userId\")).alias(\"time_last_action\"))\n",
    "df_temp = df_temp.groupby(\"userId\").agg(max(df_temp.time_last_action).alias(\"time_last_action\"))\n",
    "df_users = df_users.join(df_temp, \"userId\", \"left\")\n",
    "\n",
    "# Determine the time of the last entry in the df and calculate \n",
    "# the time elapsed since the last action of the user as determined above\n",
    "last_timestamp = df.agg(max(df.timestamp)).collect()[0][0]\n",
    "duration = udf(lambda x: round((last_timestamp - x).total_seconds() / 3600, 2), FloatType())\n",
    "df_users = df_users.withColumn(\"duration_inactivity_hrs\", duration(df_users.time_last_action))\n",
    "df_users = df_users.drop(\"time_last_action\")\n",
    "df_users.select(\"userId\", \"duration_inactivity_hrs\").show(5)\n",
    "\n",
    "print(f\"Operations took {time.time() - start_time:.1f} seconds.\")"
   ]
  },
  {
   "cell_type": "markdown",
   "metadata": {},
   "source": [
    "**New feature 10**: Number of songs (`count_songs_7d`) listened to by a user in the last 7 days."
   ]
  },
  {
   "cell_type": "code",
   "execution_count": 25,
   "metadata": {},
   "outputs": [
    {
     "data": {
      "application/vnd.jupyter.widget-view+json": {
       "model_id": "8e63a48c115a463daab540943ab913d9",
       "version_major": 2,
       "version_minor": 0
      },
      "text/plain": [
       "VBox()"
      ]
     },
     "metadata": {},
     "output_type": "display_data"
    },
    {
     "data": {
      "application/vnd.jupyter.widget-view+json": {
       "model_id": "",
       "version_major": 2,
       "version_minor": 0
      },
      "text/plain": [
       "FloatProgress(value=0.0, bar_style='info', description='Progress:', layout=Layout(height='25px', width='50%'),…"
      ]
     },
     "metadata": {},
     "output_type": "display_data"
    },
    {
     "name": "stdout",
     "output_type": "stream",
     "text": [
      "+-------+------------------+--------------+\n",
      "| userId|count_interactions|count_songs_7d|\n",
      "+-------+------------------+--------------+\n",
      "|1000280|              1317|             0|\n",
      "|1002185|              2080|           294|\n",
      "|1017805|               320|             0|\n",
      "|1030587|              1752|           300|\n",
      "|1033297|               299|           158|\n",
      "+-------+------------------+--------------+\n",
      "only showing top 5 rows\n",
      "\n",
      "Operations took 239.7 seconds."
     ]
    }
   ],
   "source": [
    "start_time = time.time()\n",
    "\n",
    "# Determine the point in time 7 days before the last dataset entry\n",
    "seven_days_ago = last_timestamp - datetime.timedelta(days=7)\n",
    "\n",
    "df_temp = df.filter((df.timestamp >= seven_days_ago) & (df.page == \"NextSong\")).groupby(\"userId\").count()\n",
    "df_users = df_users.join(df_temp, \"userId\", \"left\")\n",
    "df_users = df_users.fillna(0, [\"count\"])\n",
    "df_users = df_users.withColumnRenamed(\"count\", \"count_songs_7d\")\n",
    "df_users.select(\"userId\", \"count_interactions\", \"count_songs_7d\").show(5)\n",
    "\n",
    "print(f\"Operations took {time.time() - start_time:.1f} seconds.\")"
   ]
  },
  {
   "cell_type": "markdown",
   "metadata": {},
   "source": [
    "**New feature 11**: Average time (in minutes) a user listened to a song (`avg_time_song_min`)."
   ]
  },
  {
   "cell_type": "code",
   "execution_count": 26,
   "metadata": {},
   "outputs": [
    {
     "data": {
      "application/vnd.jupyter.widget-view+json": {
       "model_id": "e1fdf935cf9c4fa1b20623c6f802ebea",
       "version_major": 2,
       "version_minor": 0
      },
      "text/plain": [
       "VBox()"
      ]
     },
     "metadata": {},
     "output_type": "display_data"
    },
    {
     "data": {
      "application/vnd.jupyter.widget-view+json": {
       "model_id": "",
       "version_major": 2,
       "version_minor": 0
      },
      "text/plain": [
       "FloatProgress(value=0.0, bar_style='info', description='Progress:', layout=Layout(height='25px', width='50%'),…"
      ]
     },
     "metadata": {},
     "output_type": "display_data"
    },
    {
     "name": "stdout",
     "output_type": "stream",
     "text": [
      "+-------+-----------------+\n",
      "| userId|avg_time_song_min|\n",
      "+-------+-----------------+\n",
      "|1000280|4.229450379321593|\n",
      "|1002185| 4.15398951856018|\n",
      "|1017805|4.218067877333333|\n",
      "|1030587|4.124624801517211|\n",
      "|1033297|4.168063471751411|\n",
      "+-------+-----------------+\n",
      "only showing top 5 rows\n",
      "\n",
      "Operations took 272.5 seconds."
     ]
    }
   ],
   "source": [
    "start_time = time.time()\n",
    "\n",
    "# Calculate for every user the average duration (in minutes) per song he/she played\n",
    "# and append this information to the user dataframe\n",
    "df_temp = df.filter(df.page == \"NextSong\").groupby(\"userId\").agg((avg(\"length\")/60).alias(\"avg_time_song_min\"))\n",
    "df_temp = df_temp.groupby(\"userId\").agg(max(df_temp.avg_time_song_min).alias(\"avg_time_song_min\"))\n",
    "df_users = df_users.join(df_temp, \"userId\", \"left\")\n",
    "df_users.select(\"userId\", \"avg_time_song_min\").show(5)\n",
    "\n",
    "print(f\"Operations took {time.time() - start_time:.1f} seconds.\")"
   ]
  },
  {
   "cell_type": "markdown",
   "metadata": {},
   "source": [
    "**New features 12 and 13**: User has upgraded (`upgrade`) and or downgraded (`downgrade`) the service."
   ]
  },
  {
   "cell_type": "code",
   "execution_count": 27,
   "metadata": {},
   "outputs": [
    {
     "data": {
      "application/vnd.jupyter.widget-view+json": {
       "model_id": "6b0cf2cd581048ce81b1ddb690a6a603",
       "version_major": 2,
       "version_minor": 0
      },
      "text/plain": [
       "VBox()"
      ]
     },
     "metadata": {},
     "output_type": "display_data"
    },
    {
     "data": {
      "application/vnd.jupyter.widget-view+json": {
       "model_id": "",
       "version_major": 2,
       "version_minor": 0
      },
      "text/plain": [
       "FloatProgress(value=0.0, bar_style='info', description='Progress:', layout=Layout(height='25px', width='50%'),…"
      ]
     },
     "metadata": {},
     "output_type": "display_data"
    },
    {
     "name": "stdout",
     "output_type": "stream",
     "text": [
      "+-------+-------+---------+\n",
      "| userId|upgrade|downgrade|\n",
      "+-------+-------+---------+\n",
      "|1000280|   true|     true|\n",
      "|1002185|  false|    false|\n",
      "|1017805|  false|    false|\n",
      "|1030587|   true|     true|\n",
      "|1033297|   true|     true|\n",
      "+-------+-------+---------+\n",
      "only showing top 5 rows\n",
      "\n",
      "Operations took 306.4 seconds."
     ]
    }
   ],
   "source": [
    "start_time = time.time()\n",
    "\n",
    "df_users = count_interactions(\"Submit Upgrade\", \"upgrade\", df, df_users)\n",
    "df_users = count_interactions(\"Submit Downgrade\", \"downgrade\", df, df_users)\n",
    "df_users = df_users.withColumn(\"upgrade\", when(df_users.upgrade != 0, True).otherwise(False))\n",
    "df_users = df_users.withColumn(\"downgrade\", when(df_users.upgrade != 0, True).otherwise(False))\n",
    "df_users.select(\"userId\", \"upgrade\", \"downgrade\").show(5)\n",
    "\n",
    "print(f\"Operations took {time.time() - start_time:.1f} seconds.\")"
   ]
  },
  {
   "cell_type": "markdown",
   "metadata": {},
   "source": [
    "**New feature 14**: User currently paying for the service (`paying`)."
   ]
  },
  {
   "cell_type": "code",
   "execution_count": 28,
   "metadata": {},
   "outputs": [
    {
     "data": {
      "application/vnd.jupyter.widget-view+json": {
       "model_id": "81f95e6e52534fdda48cbe9a81d49269",
       "version_major": 2,
       "version_minor": 0
      },
      "text/plain": [
       "VBox()"
      ]
     },
     "metadata": {},
     "output_type": "display_data"
    },
    {
     "data": {
      "application/vnd.jupyter.widget-view+json": {
       "model_id": "",
       "version_major": 2,
       "version_minor": 0
      },
      "text/plain": [
       "FloatProgress(value=0.0, bar_style='info', description='Progress:', layout=Layout(height='25px', width='50%'),…"
      ]
     },
     "metadata": {},
     "output_type": "display_data"
    },
    {
     "name": "stdout",
     "output_type": "stream",
     "text": [
      "+-------+------+\n",
      "| userId|paying|\n",
      "+-------+------+\n",
      "|1000280| false|\n",
      "|1002185|  true|\n",
      "|1017805|  true|\n",
      "|1030587|  true|\n",
      "|1033297|  true|\n",
      "+-------+------+\n",
      "only showing top 5 rows\n",
      "\n",
      "Operations took 333.6 seconds."
     ]
    }
   ],
   "source": [
    "start_time = time.time()\n",
    "\n",
    "w = Window.partitionBy(\"userId\")\n",
    "df_temp = df.withColumn(\"maxTimestamp\", max(\"timestamp\").over(w)) \\\n",
    "            .where(col(\"timestamp\") == col(\"maxTimestamp\")) \\\n",
    "            .select(\"userId\", \"level\") \\\n",
    "            .dropDuplicates()\n",
    "df_users = df_users.join(df_temp, \"userId\", \"left\")\n",
    "df_users = df_users.withColumn(\"paying\", when(df_users.level == \"paid\", True).otherwise(False)).drop(\"level\")\n",
    "df_users.select(\"userId\", \"paying\").show(5)\n",
    "\n",
    "print(f\"Operations took {time.time() - start_time:.1f} seconds.\")"
   ]
  },
  {
   "cell_type": "markdown",
   "metadata": {},
   "source": [
    "**New feature 15**: User has cancelled the service (`cancelled`)."
   ]
  },
  {
   "cell_type": "code",
   "execution_count": 29,
   "metadata": {},
   "outputs": [
    {
     "data": {
      "application/vnd.jupyter.widget-view+json": {
       "model_id": "87e622ff8c5a47519d46e7bd47dd5d93",
       "version_major": 2,
       "version_minor": 0
      },
      "text/plain": [
       "VBox()"
      ]
     },
     "metadata": {},
     "output_type": "display_data"
    },
    {
     "data": {
      "application/vnd.jupyter.widget-view+json": {
       "model_id": "",
       "version_major": 2,
       "version_minor": 0
      },
      "text/plain": [
       "FloatProgress(value=0.0, bar_style='info', description='Progress:', layout=Layout(height='25px', width='50%'),…"
      ]
     },
     "metadata": {},
     "output_type": "display_data"
    },
    {
     "name": "stdout",
     "output_type": "stream",
     "text": [
      "+-------+---------+\n",
      "| userId|cancelled|\n",
      "+-------+---------+\n",
      "|1000280|     true|\n",
      "|1002185|    false|\n",
      "|1017805|    false|\n",
      "|1030587|    false|\n",
      "|1033297|    false|\n",
      "+-------+---------+\n",
      "only showing top 5 rows\n",
      "\n",
      "Operations took 362.8 seconds."
     ]
    }
   ],
   "source": [
    "start_time = time.time()\n",
    "\n",
    "df_users = count_interactions(\"Cancellation Confirmation\", \"cancelled\", df, df_users)\n",
    "df_users = df_users.withColumn(\"cancelled\", when(df_users.cancelled != 0, True).otherwise(False))\n",
    "df_users.select(\"userId\", \"cancelled\").show(5)\n",
    "\n",
    "print(f\"Operations took {time.time() - start_time:.1f} seconds.\")"
   ]
  },
  {
   "cell_type": "code",
   "execution_count": 30,
   "metadata": {},
   "outputs": [
    {
     "data": {
      "application/vnd.jupyter.widget-view+json": {
       "model_id": "c9f352a92b2f4d6da07759c6371a10d1",
       "version_major": 2,
       "version_minor": 0
      },
      "text/plain": [
       "VBox()"
      ]
     },
     "metadata": {},
     "output_type": "display_data"
    },
    {
     "data": {
      "application/vnd.jupyter.widget-view+json": {
       "model_id": "",
       "version_major": 2,
       "version_minor": 0
      },
      "text/plain": [
       "FloatProgress(value=0.0, bar_style='info', description='Progress:', layout=Layout(height='25px', width='50%'),…"
      ]
     },
     "metadata": {},
     "output_type": "display_data"
    },
    {
     "name": "stdout",
     "output_type": "stream",
     "text": [
      "root\n",
      " |-- userId: string (nullable = true)\n",
      " |-- count_interactions: long (nullable = false)\n",
      " |-- male: boolean (nullable = true)\n",
      " |-- count_thumbs_up: long (nullable = true)\n",
      " |-- count_thumbs_down: long (nullable = true)\n",
      " |-- count_playlist: long (nullable = true)\n",
      " |-- count_friends: long (nullable = true)\n",
      " |-- count_ads: long (nullable = true)\n",
      " |-- count_errors: long (nullable = true)\n",
      " |-- duration_inactivity_hrs: float (nullable = true)\n",
      " |-- count_songs_7d: long (nullable = true)\n",
      " |-- avg_time_song_min: double (nullable = true)\n",
      " |-- upgrade: boolean (nullable = false)\n",
      " |-- downgrade: boolean (nullable = false)\n",
      " |-- paying: boolean (nullable = false)\n",
      " |-- cancelled: boolean (nullable = false)"
     ]
    }
   ],
   "source": [
    "df_users.printSchema()"
   ]
  },
  {
   "cell_type": "code",
   "execution_count": 31,
   "metadata": {},
   "outputs": [
    {
     "data": {
      "application/vnd.jupyter.widget-view+json": {
       "model_id": "e7e1e4559cf8476182ca2ce63ad8d5ce",
       "version_major": 2,
       "version_minor": 0
      },
      "text/plain": [
       "VBox()"
      ]
     },
     "metadata": {},
     "output_type": "display_data"
    },
    {
     "data": {
      "application/vnd.jupyter.widget-view+json": {
       "model_id": "",
       "version_major": 2,
       "version_minor": 0
      },
      "text/plain": [
       "FloatProgress(value=0.0, bar_style='info', description='Progress:', layout=Layout(height='25px', width='50%'),…"
      ]
     },
     "metadata": {},
     "output_type": "display_data"
    },
    {
     "name": "stdout",
     "output_type": "stream",
     "text": [
      "22279"
     ]
    }
   ],
   "source": [
    "df_users.count()"
   ]
  },
  {
   "cell_type": "code",
   "execution_count": 32,
   "metadata": {},
   "outputs": [
    {
     "data": {
      "application/vnd.jupyter.widget-view+json": {
       "model_id": "51d8d29e93554999b377ad7c6eb40c5a",
       "version_major": 2,
       "version_minor": 0
      },
      "text/plain": [
       "VBox()"
      ]
     },
     "metadata": {},
     "output_type": "display_data"
    },
    {
     "data": {
      "application/vnd.jupyter.widget-view+json": {
       "model_id": "",
       "version_major": 2,
       "version_minor": 0
      },
      "text/plain": [
       "FloatProgress(value=0.0, bar_style='info', description='Progress:', layout=Layout(height='25px', width='50%'),…"
      ]
     },
     "metadata": {},
     "output_type": "display_data"
    }
   ],
   "source": [
    "# write user df\n",
    "output_path = 's3://christianfolder123/df_users'\n",
    "df_users.write.mode('overwrite').save(output_path)"
   ]
  },
  {
   "cell_type": "markdown",
   "metadata": {},
   "source": [
    "# Modeling\n",
    "The full dataset is to be split into a train, test, and validation set. Three alternative machine learning methods will be implemented before selecting the most useful model. The model optimization and the model selection will be based on the F1 score."
   ]
  },
  {
   "cell_type": "code",
   "execution_count": 28,
   "metadata": {},
   "outputs": [
    {
     "data": {
      "application/vnd.jupyter.widget-view+json": {
       "model_id": "ed83b43dfb7540dbaf4aa189478be66e",
       "version_major": 2,
       "version_minor": 0
      },
      "text/plain": [
       "VBox()"
      ]
     },
     "metadata": {},
     "output_type": "display_data"
    },
    {
     "data": {
      "application/vnd.jupyter.widget-view+json": {
       "model_id": "",
       "version_major": 2,
       "version_minor": 0
      },
      "text/plain": [
       "FloatProgress(value=0.0, bar_style='info', description='Progress:', layout=Layout(height='25px', width='50%'),…"
      ]
     },
     "metadata": {},
     "output_type": "display_data"
    }
   ],
   "source": [
    "input_path = 's3://christianfolder123/df_users'\n",
    "df_users = spark.read.load(input_path)"
   ]
  },
  {
   "cell_type": "code",
   "execution_count": 29,
   "metadata": {},
   "outputs": [
    {
     "data": {
      "application/vnd.jupyter.widget-view+json": {
       "model_id": "a0bb9a08d69a46d79302258d630d9754",
       "version_major": 2,
       "version_minor": 0
      },
      "text/plain": [
       "VBox()"
      ]
     },
     "metadata": {},
     "output_type": "display_data"
    },
    {
     "data": {
      "application/vnd.jupyter.widget-view+json": {
       "model_id": "",
       "version_major": 2,
       "version_minor": 0
      },
      "text/plain": [
       "FloatProgress(value=0.0, bar_style='info', description='Progress:', layout=Layout(height='25px', width='50%'),…"
      ]
     },
     "metadata": {},
     "output_type": "display_data"
    },
    {
     "name": "stdout",
     "output_type": "stream",
     "text": [
      "+-------+--------------------+\n",
      "| userId|  user_features_norm|\n",
      "+-------+--------------------+\n",
      "|1002324|(14,[0,2,4,5,6,8,...|\n",
      "|1007782|[0.98510629578554...|\n",
      "|1015997|[0.99015156563723...|\n",
      "|1028247|(14,[0,2,3,5,6,8,...|\n",
      "|1028481|[0.78752353701278...|\n",
      "+-------+--------------------+\n",
      "only showing top 5 rows"
     ]
    }
   ],
   "source": [
    "# convert independent features into vector\n",
    "ignore = [\"userId\", \"cancelled\"]\n",
    "inputCols = [c for c in df_users.columns if c not in ignore]\n",
    "vec_assembler = VectorAssembler(inputCols=inputCols, outputCol=\"user_features\", handleInvalid=\"skip\")\n",
    "df_users = vec_assembler.transform(df_users)\n",
    "\n",
    "# normalize features vector\n",
    "scaler = Normalizer(inputCol=\"user_features\", outputCol=\"user_features_norm\")\n",
    "df_users = scaler.transform(df_users)\n",
    "\n",
    "df_users.select(\"userId\", \"user_features_norm\").show(5)"
   ]
  },
  {
   "cell_type": "code",
   "execution_count": 30,
   "metadata": {},
   "outputs": [
    {
     "data": {
      "application/vnd.jupyter.widget-view+json": {
       "model_id": "a0ca72dd0b614596981c8ff3189b3a3e",
       "version_major": 2,
       "version_minor": 0
      },
      "text/plain": [
       "VBox()"
      ]
     },
     "metadata": {},
     "output_type": "display_data"
    },
    {
     "data": {
      "application/vnd.jupyter.widget-view+json": {
       "model_id": "",
       "version_major": 2,
       "version_minor": 0
      },
      "text/plain": [
       "FloatProgress(value=0.0, bar_style='info', description='Progress:', layout=Layout(height='25px', width='50%'),…"
      ]
     },
     "metadata": {},
     "output_type": "display_data"
    },
    {
     "name": "stdout",
     "output_type": "stream",
     "text": [
      "22263"
     ]
    }
   ],
   "source": [
    "df_users.count()"
   ]
  },
  {
   "cell_type": "code",
   "execution_count": 31,
   "metadata": {},
   "outputs": [
    {
     "data": {
      "application/vnd.jupyter.widget-view+json": {
       "model_id": "6fe78640d461471cabe7457c72527f9f",
       "version_major": 2,
       "version_minor": 0
      },
      "text/plain": [
       "VBox()"
      ]
     },
     "metadata": {},
     "output_type": "display_data"
    },
    {
     "data": {
      "application/vnd.jupyter.widget-view+json": {
       "model_id": "",
       "version_major": 2,
       "version_minor": 0
      },
      "text/plain": [
       "FloatProgress(value=0.0, bar_style='info', description='Progress:', layout=Layout(height='25px', width='50%'),…"
      ]
     },
     "metadata": {},
     "output_type": "display_data"
    },
    {
     "name": "stdout",
     "output_type": "stream",
     "text": [
      "22263"
     ]
    }
   ],
   "source": [
    "data = df_users.select(col(\"user_features_norm\").alias(\"features\"),\n",
    "                       col(\"cancelled\").alias(\"label\"))\n",
    "# convert label into numeric\n",
    "data = data.withColumn(\"label\", col(\"label\").cast(\"integer\"))\n",
    "data.count()"
   ]
  },
  {
   "cell_type": "code",
   "execution_count": 32,
   "metadata": {},
   "outputs": [
    {
     "data": {
      "application/vnd.jupyter.widget-view+json": {
       "model_id": "2a7491eae9454198855f812f262f75d1",
       "version_major": 2,
       "version_minor": 0
      },
      "text/plain": [
       "VBox()"
      ]
     },
     "metadata": {},
     "output_type": "display_data"
    },
    {
     "data": {
      "application/vnd.jupyter.widget-view+json": {
       "model_id": "",
       "version_major": 2,
       "version_minor": 0
      },
      "text/plain": [
       "FloatProgress(value=0.0, bar_style='info', description='Progress:', layout=Layout(height='25px', width='50%'),…"
      ]
     },
     "metadata": {},
     "output_type": "display_data"
    },
    {
     "name": "stdout",
     "output_type": "stream",
     "text": [
      "(13299, 4429, 4535)"
     ]
    }
   ],
   "source": [
    "train, temp = data.randomSplit([0.6, 0.4], seed=42)\n",
    "test, validate = temp.randomSplit([0.5, 0.5], seed=42)\n",
    "train.count(), test.count(), validate.count()"
   ]
  },
  {
   "cell_type": "code",
   "execution_count": 33,
   "metadata": {},
   "outputs": [
    {
     "data": {
      "application/vnd.jupyter.widget-view+json": {
       "model_id": "0bafe49fc9214ad189f25a730c0c9328",
       "version_major": 2,
       "version_minor": 0
      },
      "text/plain": [
       "VBox()"
      ]
     },
     "metadata": {},
     "output_type": "display_data"
    },
    {
     "data": {
      "application/vnd.jupyter.widget-view+json": {
       "model_id": "",
       "version_major": 2,
       "version_minor": 0
      },
      "text/plain": [
       "FloatProgress(value=0.0, bar_style='info', description='Progress:', layout=Layout(height='25px', width='50%'),…"
      ]
     },
     "metadata": {},
     "output_type": "display_data"
    }
   ],
   "source": [
    "def evaluation(preds):\n",
    "    \"\"\"Prints aggregated prediction results and calculates evaluation metrics. \n",
    "    \n",
    "    Input \n",
    "    preds: PySpark ml prediction dataframe\n",
    "    \n",
    "    Returns Nothing\n",
    "    \"\"\"\n",
    "    \n",
    "    preds.groupBy('label','prediction').count().show()\n",
    "\n",
    "    accuracy = MulticlassClassificationEvaluator(metricName='accuracy').evaluate(preds)\n",
    "    recall_label0 = preds.filter((preds.label == 0) & (preds.prediction == 0)).count() / \\\n",
    "                    preds.filter(preds.label == 0).count()\n",
    "    recall_label1 = preds.filter((preds.label == 1) & (preds.prediction == 1)).count() / \\\n",
    "                    preds.filter(preds.label == 1).count()\n",
    "    f1 = MulticlassClassificationEvaluator(metricName='f1').evaluate(preds)\n",
    "\n",
    "    print(f\"Accuracy: {accuracy:.2f}\")\n",
    "    print(f\"Recall: [{recall_label0:.2f}, \" \\\n",
    "                     f\"{recall_label1:.2f}]\")\n",
    "    print(f\"F1 score: {f1:.2f}\")"
   ]
  },
  {
   "cell_type": "markdown",
   "metadata": {},
   "source": [
    "### Model 1: Logistic regressor"
   ]
  },
  {
   "cell_type": "code",
   "execution_count": 34,
   "metadata": {},
   "outputs": [
    {
     "data": {
      "application/vnd.jupyter.widget-view+json": {
       "model_id": "6785b52741784e768409230ce24cf91d",
       "version_major": 2,
       "version_minor": 0
      },
      "text/plain": [
       "VBox()"
      ]
     },
     "metadata": {},
     "output_type": "display_data"
    },
    {
     "data": {
      "application/vnd.jupyter.widget-view+json": {
       "model_id": "",
       "version_major": 2,
       "version_minor": 0
      },
      "text/plain": [
       "FloatProgress(value=0.0, bar_style='info', description='Progress:', layout=Layout(height='25px', width='50%'),…"
      ]
     },
     "metadata": {},
     "output_type": "display_data"
    },
    {
     "name": "stdout",
     "output_type": "stream",
     "text": [
      "+--------------------+-----+--------------------+--------------------+----------+\n",
      "|            features|label|       rawPrediction|         probability|prediction|\n",
      "+--------------------+-----+--------------------+--------------------+----------+\n",
      "|(14,[0,1,2,3,4,6,...|  0.0|[1.39426593010389...|[0.80127240138882...|       0.0|\n",
      "|(14,[0,1,2,3,4,6,...|  0.0|[2.54962019249241...|[0.92754799468823...|       0.0|\n",
      "|(14,[0,1,2,3,4,6,...|  0.0|[4.48342273798946...|[0.98883145704838...|       0.0|\n",
      "|(14,[0,1,2,3,4,8,...|  1.0|[-0.2079098301463...|[0.44820897026250...|       1.0|\n",
      "|(14,[0,1,2,3,4,8,...|  0.0|[1.56389845512010...|[0.82691204439180...|       0.0|\n",
      "+--------------------+-----+--------------------+--------------------+----------+\n",
      "only showing top 5 rows\n",
      "\n",
      "Operations took 155.0 seconds."
     ]
    }
   ],
   "source": [
    "start_time = time.time()\n",
    "\n",
    "lr = LogisticRegression(maxIter=10)\n",
    "param_grid = ParamGridBuilder() \\\n",
    "             .addGrid(lr.regParam, [0, 0.05, 0.1]) \\\n",
    "             .addGrid(lr.elasticNetParam, [0.1, 0.2, 0.5, 1]) \\\n",
    "             .addGrid(lr.fitIntercept, [True, False]) \\\n",
    "             .build()\n",
    "lr_cross_val = CrossValidator(estimator=lr,\n",
    "                              estimatorParamMaps=param_grid,\n",
    "                              evaluator=MulticlassClassificationEvaluator(metricName=\"f1\"),\n",
    "                              numFolds=3,\n",
    "                              seed=42)\n",
    "lr_cv_model = lr_cross_val.fit(train)\n",
    "lr_best_model = lr_cv_model.bestModel\n",
    "\n",
    "lr_best_model.summary.predictions.show(5)\n",
    "\n",
    "print(f\"Operations took {time.time() - start_time:.1f} seconds.\")"
   ]
  },
  {
   "cell_type": "code",
   "execution_count": 35,
   "metadata": {},
   "outputs": [
    {
     "data": {
      "application/vnd.jupyter.widget-view+json": {
       "model_id": "a4a58211e6d84546b17f3f7186dbc7d7",
       "version_major": 2,
       "version_minor": 0
      },
      "text/plain": [
       "VBox()"
      ]
     },
     "metadata": {},
     "output_type": "display_data"
    },
    {
     "data": {
      "application/vnd.jupyter.widget-view+json": {
       "model_id": "",
       "version_major": 2,
       "version_minor": 0
      },
      "text/plain": [
       "FloatProgress(value=0.0, bar_style='info', description='Progress:', layout=Layout(height='25px', width='50%'),…"
      ]
     },
     "metadata": {},
     "output_type": "display_data"
    },
    {
     "name": "stderr",
     "output_type": "stream",
     "text": [
      "Exception in thread cell_monitor-34:\n",
      "Traceback (most recent call last):\n",
      "  File \"/opt/conda/lib/python3.7/threading.py\", line 917, in _bootstrap_inner\n",
      "    self.run()\n",
      "  File \"/opt/conda/lib/python3.7/threading.py\", line 865, in run\n",
      "    self._target(*self._args, **self._kwargs)\n",
      "  File \"/opt/conda/lib/python3.7/site-packages/awseditorssparkmonitoringwidget-1.0-py3.7.egg/awseditorssparkmonitoringwidget/cellmonitor.py\", line 178, in cell_monitor\n",
      "    job_binned_stages[job_id][stage_id] = all_stages[stage_id]\n",
      "KeyError: 1499\n",
      "\n"
     ]
    },
    {
     "name": "stdout",
     "output_type": "stream",
     "text": [
      "Logistic Regression - TRAINING Evaluation\n",
      "+-----+----------+-----+\n",
      "|label|prediction|count|\n",
      "+-----+----------+-----+\n",
      "|  1.0|       1.0| 2053|\n",
      "|  0.0|       1.0|  724|\n",
      "|  1.0|       0.0|  927|\n",
      "|  0.0|       0.0| 9595|\n",
      "+-----+----------+-----+\n",
      "\n",
      "Accuracy: 0.88\n",
      "Recall: [0.93, 0.69]\n",
      "F1 score: 0.87"
     ]
    }
   ],
   "source": [
    "print(\"Logistic Regression - TRAINING Evaluation\")\n",
    "lr_best_model.summary.predictions.groupBy('label','prediction').count().show()\n",
    "print(f\"Accuracy: {lr_best_model.summary.accuracy:.2f}\")\n",
    "print(f\"Recall: [{lr_best_model.summary.recallByLabel[0]:.2f}, \" \\\n",
    "                 f\"{lr_best_model.summary.recallByLabel[1]:.2f}]\")\n",
    "f1 = MulticlassClassificationEvaluator(metricName='f1').evaluate(lr_best_model.summary.predictions)\n",
    "print(f\"F1 score: {f1:.2f}\")"
   ]
  },
  {
   "cell_type": "code",
   "execution_count": 36,
   "metadata": {},
   "outputs": [
    {
     "data": {
      "application/vnd.jupyter.widget-view+json": {
       "model_id": "3ba5dd01781141c183c294ee7125aa9e",
       "version_major": 2,
       "version_minor": 0
      },
      "text/plain": [
       "VBox()"
      ]
     },
     "metadata": {},
     "output_type": "display_data"
    },
    {
     "data": {
      "application/vnd.jupyter.widget-view+json": {
       "model_id": "",
       "version_major": 2,
       "version_minor": 0
      },
      "text/plain": [
       "FloatProgress(value=0.0, bar_style='info', description='Progress:', layout=Layout(height='25px', width='50%'),…"
      ]
     },
     "metadata": {},
     "output_type": "display_data"
    },
    {
     "name": "stdout",
     "output_type": "stream",
     "text": [
      "{Param(parent='LogisticRegression_c48011db1703', name='aggregationDepth', doc='suggested depth for treeAggregate (>= 2)'): 2, Param(parent='LogisticRegression_c48011db1703', name='elasticNetParam', doc='the ElasticNet mixing parameter, in range [0, 1]. For alpha = 0, the penalty is an L2 penalty. For alpha = 1, it is an L1 penalty'): 0.1, Param(parent='LogisticRegression_c48011db1703', name='family', doc='The name of family which is a description of the label distribution to be used in the model. Supported options: auto, binomial, multinomial.'): 'auto', Param(parent='LogisticRegression_c48011db1703', name='featuresCol', doc='features column name'): 'features', Param(parent='LogisticRegression_c48011db1703', name='fitIntercept', doc='whether to fit an intercept term'): True, Param(parent='LogisticRegression_c48011db1703', name='labelCol', doc='label column name'): 'label', Param(parent='LogisticRegression_c48011db1703', name='maxIter', doc='maximum number of iterations (>= 0)'): 10, Param(parent='LogisticRegression_c48011db1703', name='predictionCol', doc='prediction column name'): 'prediction', Param(parent='LogisticRegression_c48011db1703', name='probabilityCol', doc='Column name for predicted class conditional probabilities. Note: Not all models output well-calibrated probability estimates! These probabilities should be treated as confidences, not precise probabilities'): 'probability', Param(parent='LogisticRegression_c48011db1703', name='rawPredictionCol', doc='raw prediction (a.k.a. confidence) column name'): 'rawPrediction', Param(parent='LogisticRegression_c48011db1703', name='regParam', doc='regularization parameter (>= 0)'): 0.0, Param(parent='LogisticRegression_c48011db1703', name='standardization', doc='whether to standardize the training features before fitting the model'): True, Param(parent='LogisticRegression_c48011db1703', name='threshold', doc='threshold in binary classification prediction, in range [0, 1]'): 0.5, Param(parent='LogisticRegression_c48011db1703', name='tol', doc='the convergence tolerance for iterative algorithms (>= 0)'): 1e-06}"
     ]
    }
   ],
   "source": [
    "lr_best_model.extractParamMap()"
   ]
  },
  {
   "cell_type": "code",
   "execution_count": 37,
   "metadata": {},
   "outputs": [
    {
     "data": {
      "application/vnd.jupyter.widget-view+json": {
       "model_id": "14e0a603b3ec48a5a5efadaeaf54e13b",
       "version_major": 2,
       "version_minor": 0
      },
      "text/plain": [
       "VBox()"
      ]
     },
     "metadata": {},
     "output_type": "display_data"
    },
    {
     "data": {
      "application/vnd.jupyter.widget-view+json": {
       "model_id": "",
       "version_major": 2,
       "version_minor": 0
      },
      "text/plain": [
       "FloatProgress(value=0.0, bar_style='info', description='Progress:', layout=Layout(height='25px', width='50%'),…"
      ]
     },
     "metadata": {},
     "output_type": "display_data"
    },
    {
     "name": "stdout",
     "output_type": "stream",
     "text": [
      "+--------------------+-----+--------------------+--------------------+----------+\n",
      "|            features|label|       rawPrediction|         probability|prediction|\n",
      "+--------------------+-----+--------------------+--------------------+----------+\n",
      "|(14,[0,1,2,3,4,8,...|    0|[1.28543611889496...|[0.78337370322590...|       0.0|\n",
      "|(14,[0,1,2,3,6,8,...|    1|[-0.4405978892144...|[0.39159851344704...|       1.0|\n",
      "|(14,[0,1,2,3,6,8,...|    0|[0.35724852513486...|[0.58837421678443...|       0.0|\n",
      "|(14,[0,1,2,4,5,6,...|    0|[1.28804783201217...|[0.78381658120777...|       0.0|\n",
      "|(14,[0,1,2,4,5,6,...|    0|[3.44564556023446...|[0.96910101627558...|       0.0|\n",
      "+--------------------+-----+--------------------+--------------------+----------+\n",
      "only showing top 5 rows"
     ]
    }
   ],
   "source": [
    "lr_test_preds = lr_best_model.transform(test)\n",
    "lr_test_preds.show(5)"
   ]
  },
  {
   "cell_type": "code",
   "execution_count": 38,
   "metadata": {},
   "outputs": [
    {
     "data": {
      "application/vnd.jupyter.widget-view+json": {
       "model_id": "08ea8e0d5bfb4bfea41287453a58c7a3",
       "version_major": 2,
       "version_minor": 0
      },
      "text/plain": [
       "VBox()"
      ]
     },
     "metadata": {},
     "output_type": "display_data"
    },
    {
     "data": {
      "application/vnd.jupyter.widget-view+json": {
       "model_id": "",
       "version_major": 2,
       "version_minor": 0
      },
      "text/plain": [
       "FloatProgress(value=0.0, bar_style='info', description='Progress:', layout=Layout(height='25px', width='50%'),…"
      ]
     },
     "metadata": {},
     "output_type": "display_data"
    },
    {
     "name": "stdout",
     "output_type": "stream",
     "text": [
      "Logistic Regression - TEST Evalutation\n",
      "+-----+----------+-----+\n",
      "|label|prediction|count|\n",
      "+-----+----------+-----+\n",
      "|    1|       0.0|  294|\n",
      "|    0|       0.0| 3196|\n",
      "|    1|       1.0|  704|\n",
      "|    0|       1.0|  235|\n",
      "+-----+----------+-----+\n",
      "\n",
      "Accuracy: 0.88\n",
      "Recall: [0.93, 0.71]\n",
      "F1 score: 0.88"
     ]
    }
   ],
   "source": [
    "print(\"Logistic Regression - TEST Evalutation\")\n",
    "evaluation(lr_test_preds)"
   ]
  },
  {
   "cell_type": "markdown",
   "metadata": {},
   "source": [
    "### Model 2: Naive Bayes classifier"
   ]
  },
  {
   "cell_type": "code",
   "execution_count": 39,
   "metadata": {},
   "outputs": [
    {
     "data": {
      "application/vnd.jupyter.widget-view+json": {
       "model_id": "a24eb7032b434e169839dc3f95135dd3",
       "version_major": 2,
       "version_minor": 0
      },
      "text/plain": [
       "VBox()"
      ]
     },
     "metadata": {},
     "output_type": "display_data"
    },
    {
     "data": {
      "application/vnd.jupyter.widget-view+json": {
       "model_id": "",
       "version_major": 2,
       "version_minor": 0
      },
      "text/plain": [
       "FloatProgress(value=0.0, bar_style='info', description='Progress:', layout=Layout(height='25px', width='50%'),…"
      ]
     },
     "metadata": {},
     "output_type": "display_data"
    },
    {
     "name": "stdout",
     "output_type": "stream",
     "text": [
      "+--------------------+-----+--------------------+--------------------+----------+\n",
      "|            features|label|       rawPrediction|         probability|prediction|\n",
      "+--------------------+-----+--------------------+--------------------+----------+\n",
      "|(14,[0,1,2,3,4,6,...|    0|[-2.1119635061177...|[0.65681628369297...|       1.0|\n",
      "|(14,[0,1,2,3,4,6,...|    0|[-2.1616755336117...|[0.67743767990024...|       1.0|\n",
      "|(14,[0,1,2,3,4,6,...|    0|[-2.1293385684032...|[0.71219246293730...|       0.0|\n",
      "|(14,[0,1,2,3,4,8,...|    1|[-1.8437242043182...|[0.61910927424871...|       1.0|\n",
      "|(14,[0,1,2,3,4,8,...|    0|[-1.9238789898309...|[0.62271697502637...|       1.0|\n",
      "|(14,[0,1,2,3,4,8,...|    0|[-2.0679790838076...|[0.64066217495154...|       1.0|\n",
      "|(14,[0,1,2,3,5,6,...|    0|[-1.9004599875145...|[0.62785081615470...|       1.0|\n",
      "|(14,[0,1,2,3,5,8,...|    0|[-1.8171387563251...|[0.61598719619860...|       1.0|\n",
      "|(14,[0,1,2,3,6,8,...|    0|[-3.0674283485924...|[0.80661387311200...|       0.0|\n",
      "|(14,[0,1,2,3,6,8,...|    0|[-1.8110091882474...|[0.61571248434561...|       1.0|\n",
      "+--------------------+-----+--------------------+--------------------+----------+\n",
      "only showing top 10 rows\n",
      "\n",
      "Operations took 162.6 seconds."
     ]
    }
   ],
   "source": [
    "start_time = time.time()\n",
    "\n",
    "nb = NaiveBayes()\n",
    "\n",
    "param_grid = ParamGridBuilder() \\\n",
    "             .addGrid(nb.smoothing, [0, 0.1, 0.3, 0.5]) \\\n",
    "             .addGrid(nb.thresholds, [[0.75, 0.25], [0.7, 0.3], [0.65, 0.35]]) \\\n",
    "             .build()\n",
    "nb_cross_val = CrossValidator(estimator=nb,\n",
    "                              estimatorParamMaps=param_grid,\n",
    "                              evaluator=MulticlassClassificationEvaluator(metricName=\"f1\"),\n",
    "                              numFolds=5,\n",
    "                              seed=42)\n",
    "nb_cv_model = nb_cross_val.fit(train)\n",
    "nb_best_model = nb_cv_model.bestModel\n",
    "\n",
    "nb_train_preds = nb_best_model.transform(train)\n",
    "nb_train_preds.show(10)\n",
    "\n",
    "print(f\"Operations took {time.time() - start_time:.1f} seconds.\")"
   ]
  },
  {
   "cell_type": "code",
   "execution_count": 40,
   "metadata": {},
   "outputs": [
    {
     "data": {
      "application/vnd.jupyter.widget-view+json": {
       "model_id": "66158d86415948a9b7295957fb076e26",
       "version_major": 2,
       "version_minor": 0
      },
      "text/plain": [
       "VBox()"
      ]
     },
     "metadata": {},
     "output_type": "display_data"
    },
    {
     "data": {
      "application/vnd.jupyter.widget-view+json": {
       "model_id": "",
       "version_major": 2,
       "version_minor": 0
      },
      "text/plain": [
       "FloatProgress(value=0.0, bar_style='info', description='Progress:', layout=Layout(height='25px', width='50%'),…"
      ]
     },
     "metadata": {},
     "output_type": "display_data"
    },
    {
     "name": "stdout",
     "output_type": "stream",
     "text": [
      "{Param(parent='NaiveBayes_280154c7728b', name='featuresCol', doc='features column name'): 'features', Param(parent='NaiveBayes_280154c7728b', name='labelCol', doc='label column name'): 'label', Param(parent='NaiveBayes_280154c7728b', name='modelType', doc='The model type which is a string (case-sensitive). Supported options: multinomial (default) and bernoulli.'): 'multinomial', Param(parent='NaiveBayes_280154c7728b', name='predictionCol', doc='prediction column name'): 'prediction', Param(parent='NaiveBayes_280154c7728b', name='probabilityCol', doc='Column name for predicted class conditional probabilities. Note: Not all models output well-calibrated probability estimates! These probabilities should be treated as confidences, not precise probabilities'): 'probability', Param(parent='NaiveBayes_280154c7728b', name='rawPredictionCol', doc='raw prediction (a.k.a. confidence) column name'): 'rawPrediction', Param(parent='NaiveBayes_280154c7728b', name='smoothing', doc='The smoothing parameter.'): 0.3, Param(parent='NaiveBayes_280154c7728b', name='thresholds', doc=\"Thresholds in multi-class classification to adjust the probability of predicting each class. Array must have length equal to the number of classes, with values > 0 excepting that at most one value may be 0. The class with largest value p/t is predicted, where p is the original probability of that class and t is the class's threshold\"): [0.7, 0.3]}"
     ]
    }
   ],
   "source": [
    "nb_best_model.extractParamMap()"
   ]
  },
  {
   "cell_type": "code",
   "execution_count": 41,
   "metadata": {},
   "outputs": [
    {
     "data": {
      "application/vnd.jupyter.widget-view+json": {
       "model_id": "a923262af70841579e517f48de7f2906",
       "version_major": 2,
       "version_minor": 0
      },
      "text/plain": [
       "VBox()"
      ]
     },
     "metadata": {},
     "output_type": "display_data"
    },
    {
     "data": {
      "application/vnd.jupyter.widget-view+json": {
       "model_id": "",
       "version_major": 2,
       "version_minor": 0
      },
      "text/plain": [
       "FloatProgress(value=0.0, bar_style='info', description='Progress:', layout=Layout(height='25px', width='50%'),…"
      ]
     },
     "metadata": {},
     "output_type": "display_data"
    },
    {
     "name": "stdout",
     "output_type": "stream",
     "text": [
      "Naive Bayes - TRAINING Evalutation\n",
      "+-----+----------+-----+\n",
      "|label|prediction|count|\n",
      "+-----+----------+-----+\n",
      "|    1|       0.0| 1590|\n",
      "|    0|       0.0| 8599|\n",
      "|    1|       1.0| 1390|\n",
      "|    0|       1.0| 1720|\n",
      "+-----+----------+-----+\n",
      "\n",
      "Accuracy: 0.75\n",
      "Recall: [0.83, 0.47]\n",
      "F1 score: 0.75"
     ]
    }
   ],
   "source": [
    "print(\"Naive Bayes - TRAINING Evalutation\")\n",
    "evaluation(nb_train_preds)"
   ]
  },
  {
   "cell_type": "code",
   "execution_count": 42,
   "metadata": {},
   "outputs": [
    {
     "data": {
      "application/vnd.jupyter.widget-view+json": {
       "model_id": "fe77122d82334da0b725130932c4a2e0",
       "version_major": 2,
       "version_minor": 0
      },
      "text/plain": [
       "VBox()"
      ]
     },
     "metadata": {},
     "output_type": "display_data"
    },
    {
     "data": {
      "application/vnd.jupyter.widget-view+json": {
       "model_id": "",
       "version_major": 2,
       "version_minor": 0
      },
      "text/plain": [
       "FloatProgress(value=0.0, bar_style='info', description='Progress:', layout=Layout(height='25px', width='50%'),…"
      ]
     },
     "metadata": {},
     "output_type": "display_data"
    },
    {
     "name": "stdout",
     "output_type": "stream",
     "text": [
      "+--------------------+-----+--------------------+--------------------+----------+\n",
      "|            features|label|       rawPrediction|         probability|prediction|\n",
      "+--------------------+-----+--------------------+--------------------+----------+\n",
      "|(14,[0,1,2,3,4,8,...|    0|[-1.9589444951047...|[0.62920549460105...|       1.0|\n",
      "|(14,[0,1,2,3,6,8,...|    1|[-1.8081660656103...|[0.61572900554718...|       1.0|\n",
      "|(14,[0,1,2,3,6,8,...|    0|[-1.8409405863930...|[0.61761714124633...|       1.0|\n",
      "|(14,[0,1,2,4,5,6,...|    0|[-1.9510724025705...|[0.62794044548848...|       1.0|\n",
      "|(14,[0,1,2,4,5,6,...|    0|[-2.1107013641575...|[0.65321385622604...|       1.0|\n",
      "+--------------------+-----+--------------------+--------------------+----------+\n",
      "only showing top 5 rows"
     ]
    }
   ],
   "source": [
    "nb_test_preds = nb_best_model.transform(test)\n",
    "nb_test_preds.show(5)"
   ]
  },
  {
   "cell_type": "code",
   "execution_count": 43,
   "metadata": {},
   "outputs": [
    {
     "data": {
      "application/vnd.jupyter.widget-view+json": {
       "model_id": "9a0cfba9fe6443e7913995e37b7b4a1e",
       "version_major": 2,
       "version_minor": 0
      },
      "text/plain": [
       "VBox()"
      ]
     },
     "metadata": {},
     "output_type": "display_data"
    },
    {
     "data": {
      "application/vnd.jupyter.widget-view+json": {
       "model_id": "",
       "version_major": 2,
       "version_minor": 0
      },
      "text/plain": [
       "FloatProgress(value=0.0, bar_style='info', description='Progress:', layout=Layout(height='25px', width='50%'),…"
      ]
     },
     "metadata": {},
     "output_type": "display_data"
    },
    {
     "name": "stdout",
     "output_type": "stream",
     "text": [
      "Naive Bayes - TEST Evalutation\n",
      "+-----+----------+-----+\n",
      "|label|prediction|count|\n",
      "+-----+----------+-----+\n",
      "|    1|       0.0|  538|\n",
      "|    0|       0.0| 2861|\n",
      "|    1|       1.0|  460|\n",
      "|    0|       1.0|  570|\n",
      "+-----+----------+-----+\n",
      "\n",
      "Accuracy: 0.75\n",
      "Recall: [0.83, 0.46]\n",
      "F1 score: 0.75"
     ]
    }
   ],
   "source": [
    "print(\"Naive Bayes - TEST Evalutation\")\n",
    "evaluation(nb_test_preds)"
   ]
  },
  {
   "cell_type": "markdown",
   "metadata": {},
   "source": [
    "### Model 3: Random forest classifier"
   ]
  },
  {
   "cell_type": "code",
   "execution_count": 44,
   "metadata": {},
   "outputs": [
    {
     "data": {
      "application/vnd.jupyter.widget-view+json": {
       "model_id": "57be9912854f49afb525e31391d1bf15",
       "version_major": 2,
       "version_minor": 0
      },
      "text/plain": [
       "VBox()"
      ]
     },
     "metadata": {},
     "output_type": "display_data"
    },
    {
     "data": {
      "application/vnd.jupyter.widget-view+json": {
       "model_id": "",
       "version_major": 2,
       "version_minor": 0
      },
      "text/plain": [
       "FloatProgress(value=0.0, bar_style='info', description='Progress:', layout=Layout(height='25px', width='50%'),…"
      ]
     },
     "metadata": {},
     "output_type": "display_data"
    },
    {
     "name": "stdout",
     "output_type": "stream",
     "text": [
      "+--------------------+-----+--------------------+--------------------+----------+\n",
      "|            features|label|       rawPrediction|         probability|prediction|\n",
      "+--------------------+-----+--------------------+--------------------+----------+\n",
      "|(14,[0,1,2,3,4,6,...|    0|[27.0161154033843...|[0.90053718011281...|       0.0|\n",
      "|(14,[0,1,2,3,4,6,...|    0|[28.6934268315906...|[0.95644756105302...|       0.0|\n",
      "|(14,[0,1,2,3,4,6,...|    0|[28.8278295660629...|[0.96092765220209...|       0.0|\n",
      "|(14,[0,1,2,3,4,8,...|    1|[4.74177900552809...|[0.15805930018426...|       1.0|\n",
      "|(14,[0,1,2,3,4,8,...|    0|[27.8938824944043...|[0.92979608314681...|       0.0|\n",
      "|(14,[0,1,2,3,4,8,...|    0|[29.025003899678,...|[0.96750012998926...|       0.0|\n",
      "|(14,[0,1,2,3,5,6,...|    0|[27.9163476189272...|[0.93054492063090...|       0.0|\n",
      "|(14,[0,1,2,3,5,8,...|    0|[21.8967021761245...|[0.72989007253748...|       0.0|\n",
      "|(14,[0,1,2,3,6,8,...|    0|[29.4259337394661...|[0.98086445798220...|       0.0|\n",
      "|(14,[0,1,2,3,6,8,...|    0|[6.99493701182188...|[0.23316456706072...|       1.0|\n",
      "+--------------------+-----+--------------------+--------------------+----------+\n",
      "only showing top 10 rows\n",
      "\n",
      "Operations took 297.4 seconds."
     ]
    }
   ],
   "source": [
    "start_time = time.time()\n",
    "\n",
    "rfc = RandomForestClassifier()\n",
    "\n",
    "param_grid = ParamGridBuilder() \\\n",
    "             .addGrid(rfc.maxDepth, [5, 10, 15]) \\\n",
    "             .addGrid(rfc.numTrees, [10, 20, 30]) \\\n",
    "             .build()\n",
    "rfc_cross_val = CrossValidator(estimator=rfc,\n",
    "                               estimatorParamMaps=param_grid,\n",
    "                               evaluator=MulticlassClassificationEvaluator(metricName=\"f1\"),\n",
    "                               numFolds=5,\n",
    "                               seed=42)\n",
    "rfc_cv_model = rfc_cross_val.fit(train)\n",
    "rfc_best_model = rfc_cv_model.bestModel\n",
    "\n",
    "rfc_train_preds = rfc_best_model.transform(train)\n",
    "rfc_train_preds.show(10)\n",
    "\n",
    "print(f\"Operations took {time.time() - start_time:.1f} seconds.\")"
   ]
  },
  {
   "cell_type": "code",
   "execution_count": 45,
   "metadata": {},
   "outputs": [
    {
     "data": {
      "application/vnd.jupyter.widget-view+json": {
       "model_id": "d1a689f55dfb48caa71a75dd55dea9b7",
       "version_major": 2,
       "version_minor": 0
      },
      "text/plain": [
       "VBox()"
      ]
     },
     "metadata": {},
     "output_type": "display_data"
    },
    {
     "data": {
      "application/vnd.jupyter.widget-view+json": {
       "model_id": "",
       "version_major": 2,
       "version_minor": 0
      },
      "text/plain": [
       "FloatProgress(value=0.0, bar_style='info', description='Progress:', layout=Layout(height='25px', width='50%'),…"
      ]
     },
     "metadata": {},
     "output_type": "display_data"
    },
    {
     "name": "stdout",
     "output_type": "stream",
     "text": [
      "Random Forest - TRAINING Evalutation\n",
      "+-----+----------+-----+\n",
      "|label|prediction|count|\n",
      "+-----+----------+-----+\n",
      "|    1|       0.0|  590|\n",
      "|    0|       0.0|10081|\n",
      "|    1|       1.0| 2390|\n",
      "|    0|       1.0|  238|\n",
      "+-----+----------+-----+\n",
      "\n",
      "Accuracy: 0.94\n",
      "Recall: [0.98, 0.80]\n",
      "F1 score: 0.94"
     ]
    }
   ],
   "source": [
    "print(\"Random Forest - TRAINING Evalutation\")\n",
    "evaluation(rfc_train_preds)"
   ]
  },
  {
   "cell_type": "code",
   "execution_count": 46,
   "metadata": {},
   "outputs": [
    {
     "data": {
      "application/vnd.jupyter.widget-view+json": {
       "model_id": "9cd9c69e4dc4449f898997d9a435504f",
       "version_major": 2,
       "version_minor": 0
      },
      "text/plain": [
       "VBox()"
      ]
     },
     "metadata": {},
     "output_type": "display_data"
    },
    {
     "data": {
      "application/vnd.jupyter.widget-view+json": {
       "model_id": "",
       "version_major": 2,
       "version_minor": 0
      },
      "text/plain": [
       "FloatProgress(value=0.0, bar_style='info', description='Progress:', layout=Layout(height='25px', width='50%'),…"
      ]
     },
     "metadata": {},
     "output_type": "display_data"
    },
    {
     "name": "stdout",
     "output_type": "stream",
     "text": [
      "{Param(parent='RandomForestClassifier_7e18eef9ec8a', name='cacheNodeIds', doc='If false, the algorithm will pass trees to executors to match instances with nodes. If true, the algorithm will cache node IDs for each instance. Caching can speed up training of deeper trees.'): False, Param(parent='RandomForestClassifier_7e18eef9ec8a', name='checkpointInterval', doc='set checkpoint interval (>= 1) or disable checkpoint (-1). E.g. 10 means that the cache will get checkpointed every 10 iterations. Note: this setting will be ignored if the checkpoint directory is not set in the SparkContext'): 10, Param(parent='RandomForestClassifier_7e18eef9ec8a', name='featureSubsetStrategy', doc='The number of features to consider for splits at each tree node. Supported options: auto, all, onethird, sqrt, log2, (0.0-1.0], [1-n].'): 'auto', Param(parent='RandomForestClassifier_7e18eef9ec8a', name='featuresCol', doc='features column name'): 'features', Param(parent='RandomForestClassifier_7e18eef9ec8a', name='impurity', doc='Criterion used for information gain calculation (case-insensitive). Supported options: entropy, gini'): 'gini', Param(parent='RandomForestClassifier_7e18eef9ec8a', name='labelCol', doc='label column name'): 'label', Param(parent='RandomForestClassifier_7e18eef9ec8a', name='maxBins', doc='Max number of bins for discretizing continuous features.  Must be >=2 and >= number of categories for any categorical feature.'): 32, Param(parent='RandomForestClassifier_7e18eef9ec8a', name='maxDepth', doc='Maximum depth of the tree. (>= 0) E.g., depth 0 means 1 leaf node; depth 1 means 1 internal node + 2 leaf nodes.'): 10, Param(parent='RandomForestClassifier_7e18eef9ec8a', name='maxMemoryInMB', doc='Maximum memory in MB allocated to histogram aggregation.'): 256, Param(parent='RandomForestClassifier_7e18eef9ec8a', name='minInfoGain', doc='Minimum information gain for a split to be considered at a tree node.'): 0.0, Param(parent='RandomForestClassifier_7e18eef9ec8a', name='minInstancesPerNode', doc='Minimum number of instances each child must have after split.  If a split causes the left or right child to have fewer than minInstancesPerNode, the split will be discarded as invalid. Should be >= 1.'): 1, Param(parent='RandomForestClassifier_7e18eef9ec8a', name='numTrees', doc='Number of trees to train (>= 1)'): 30, Param(parent='RandomForestClassifier_7e18eef9ec8a', name='predictionCol', doc='prediction column name'): 'prediction', Param(parent='RandomForestClassifier_7e18eef9ec8a', name='probabilityCol', doc='Column name for predicted class conditional probabilities. Note: Not all models output well-calibrated probability estimates! These probabilities should be treated as confidences, not precise probabilities'): 'probability', Param(parent='RandomForestClassifier_7e18eef9ec8a', name='rawPredictionCol', doc='raw prediction (a.k.a. confidence) column name'): 'rawPrediction', Param(parent='RandomForestClassifier_7e18eef9ec8a', name='seed', doc='random seed'): -5387697053847413545, Param(parent='RandomForestClassifier_7e18eef9ec8a', name='subsamplingRate', doc='Fraction of the training data used for learning each decision tree, in range (0, 1].'): 1.0}"
     ]
    }
   ],
   "source": [
    "rfc_best_model.extractParamMap()"
   ]
  },
  {
   "cell_type": "code",
   "execution_count": 47,
   "metadata": {},
   "outputs": [
    {
     "data": {
      "application/vnd.jupyter.widget-view+json": {
       "model_id": "b97daf166c434a9eacf87bcf1d19e7a2",
       "version_major": 2,
       "version_minor": 0
      },
      "text/plain": [
       "VBox()"
      ]
     },
     "metadata": {},
     "output_type": "display_data"
    },
    {
     "data": {
      "application/vnd.jupyter.widget-view+json": {
       "model_id": "",
       "version_major": 2,
       "version_minor": 0
      },
      "text/plain": [
       "FloatProgress(value=0.0, bar_style='info', description='Progress:', layout=Layout(height='25px', width='50%'),…"
      ]
     },
     "metadata": {},
     "output_type": "display_data"
    },
    {
     "name": "stdout",
     "output_type": "stream",
     "text": [
      "+--------------------+-----+--------------------+--------------------+----------+\n",
      "|            features|label|       rawPrediction|         probability|prediction|\n",
      "+--------------------+-----+--------------------+--------------------+----------+\n",
      "|(14,[0,1,2,3,4,8,...|    0|[28.0125805142093...|[0.93375268380697...|       0.0|\n",
      "|(14,[0,1,2,3,6,8,...|    1|[7.17608413410283...|[0.23920280447009...|       1.0|\n",
      "|(14,[0,1,2,3,6,8,...|    0|[27.5071403365890...|[0.91690467788630...|       0.0|\n",
      "|(14,[0,1,2,4,5,6,...|    0|[28.6828456305810...|[0.95609485435270...|       0.0|\n",
      "|(14,[0,1,2,4,5,6,...|    0|[29.4368926467483...|[0.98122975489161...|       0.0|\n",
      "+--------------------+-----+--------------------+--------------------+----------+\n",
      "only showing top 5 rows"
     ]
    }
   ],
   "source": [
    "rfc_test_preds = rfc_best_model.transform(test)\n",
    "rfc_test_preds.show(5)"
   ]
  },
  {
   "cell_type": "code",
   "execution_count": 48,
   "metadata": {},
   "outputs": [
    {
     "data": {
      "application/vnd.jupyter.widget-view+json": {
       "model_id": "a1bd0e25edb14426a16f810ff21e4db9",
       "version_major": 2,
       "version_minor": 0
      },
      "text/plain": [
       "VBox()"
      ]
     },
     "metadata": {},
     "output_type": "display_data"
    },
    {
     "data": {
      "application/vnd.jupyter.widget-view+json": {
       "model_id": "",
       "version_major": 2,
       "version_minor": 0
      },
      "text/plain": [
       "FloatProgress(value=0.0, bar_style='info', description='Progress:', layout=Layout(height='25px', width='50%'),…"
      ]
     },
     "metadata": {},
     "output_type": "display_data"
    },
    {
     "name": "stdout",
     "output_type": "stream",
     "text": [
      "Random Forest - TEST Evalutation\n",
      "+-----+----------+-----+\n",
      "|label|prediction|count|\n",
      "+-----+----------+-----+\n",
      "|    1|       0.0|  245|\n",
      "|    0|       0.0| 3304|\n",
      "|    1|       1.0|  753|\n",
      "|    0|       1.0|  127|\n",
      "+-----+----------+-----+\n",
      "\n",
      "Accuracy: 0.92\n",
      "Recall: [0.96, 0.75]\n",
      "F1 score: 0.91"
     ]
    }
   ],
   "source": [
    "print(\"Random Forest - TEST Evalutation\")\n",
    "evaluation(rfc_test_preds)"
   ]
  },
  {
   "cell_type": "markdown",
   "metadata": {},
   "source": [
    "### Model selection and validation"
   ]
  },
  {
   "cell_type": "markdown",
   "metadata": {},
   "source": [
    "**Best model** of the models tested: **Random forest model** with 30 trees to train and a maximum depth of 10. The model's f1 score on the test set was 0.91, which was significantly higher than that of the Naive Bayes model (0.75) and slightly higher than the Logistic regression model (0.88). \n",
    "\n",
    "**Next step**: Valdidate the result."
   ]
  },
  {
   "cell_type": "code",
   "execution_count": 49,
   "metadata": {},
   "outputs": [
    {
     "data": {
      "application/vnd.jupyter.widget-view+json": {
       "model_id": "90fb0caba3234b3a8c17c107129fab8c",
       "version_major": 2,
       "version_minor": 0
      },
      "text/plain": [
       "VBox()"
      ]
     },
     "metadata": {},
     "output_type": "display_data"
    },
    {
     "data": {
      "application/vnd.jupyter.widget-view+json": {
       "model_id": "",
       "version_major": 2,
       "version_minor": 0
      },
      "text/plain": [
       "FloatProgress(value=0.0, bar_style='info', description='Progress:', layout=Layout(height='25px', width='50%'),…"
      ]
     },
     "metadata": {},
     "output_type": "display_data"
    },
    {
     "name": "stdout",
     "output_type": "stream",
     "text": [
      "+--------------------+-----+--------------------+--------------------+----------+\n",
      "|            features|label|       rawPrediction|         probability|prediction|\n",
      "+--------------------+-----+--------------------+--------------------+----------+\n",
      "|(14,[0,1,2,3,4,6,...|    0|[28.1836873745067...|[0.93945624581689...|       0.0|\n",
      "|(14,[0,1,2,3,4,6,...|    0|[28.0314965604109...|[0.93438321868036...|       0.0|\n",
      "|(14,[0,1,2,3,4,6,...|    0|[18.9708268293384...|[0.63236089431128...|       0.0|\n",
      "|(14,[0,1,2,3,4,6,...|    0|[27.0863325776140...|[0.90287775258713...|       0.0|\n",
      "|(14,[0,1,2,3,6,8,...|    0|[27.8706846449030...|[0.92902282149676...|       0.0|\n",
      "+--------------------+-----+--------------------+--------------------+----------+\n",
      "only showing top 5 rows"
     ]
    }
   ],
   "source": [
    "rfc_validation_preds = rfc_best_model.transform(validate)\n",
    "rfc_validation_preds.show(5)"
   ]
  },
  {
   "cell_type": "code",
   "execution_count": 50,
   "metadata": {},
   "outputs": [
    {
     "data": {
      "application/vnd.jupyter.widget-view+json": {
       "model_id": "8db706d200f94af5a74ff957c246fd90",
       "version_major": 2,
       "version_minor": 0
      },
      "text/plain": [
       "VBox()"
      ]
     },
     "metadata": {},
     "output_type": "display_data"
    },
    {
     "data": {
      "application/vnd.jupyter.widget-view+json": {
       "model_id": "",
       "version_major": 2,
       "version_minor": 0
      },
      "text/plain": [
       "FloatProgress(value=0.0, bar_style='info', description='Progress:', layout=Layout(height='25px', width='50%'),…"
      ]
     },
     "metadata": {},
     "output_type": "display_data"
    },
    {
     "name": "stdout",
     "output_type": "stream",
     "text": [
      "Logistic Regression - VALIDATION\n",
      "+-----+----------+-----+\n",
      "|label|prediction|count|\n",
      "+-----+----------+-----+\n",
      "|    1|       0.0|  254|\n",
      "|    0|       0.0| 3369|\n",
      "|    1|       1.0|  770|\n",
      "|    0|       1.0|  142|\n",
      "+-----+----------+-----+\n",
      "\n",
      "Accuracy: 0.91\n",
      "Recall: [0.96, 0.75]\n",
      "F1 score: 0.91"
     ]
    }
   ],
   "source": [
    "print(\"Logistic Regression - VALIDATION\")\n",
    "evaluation(rfc_validation_preds)"
   ]
  },
  {
   "cell_type": "markdown",
   "metadata": {},
   "source": [
    "**Successfully validated!**"
   ]
  }
 ],
 "metadata": {
  "kernelspec": {
   "display_name": "PySpark",
   "language": "",
   "name": "pysparkkernel"
  },
  "language_info": {
   "codemirror_mode": {
    "name": "python",
    "version": 2
   },
   "mimetype": "text/x-python",
   "name": "pyspark",
   "pygments_lexer": "python2"
  }
 },
 "nbformat": 4,
 "nbformat_minor": 4
}
