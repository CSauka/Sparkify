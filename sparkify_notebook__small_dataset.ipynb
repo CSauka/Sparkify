{
 "cells": [
  {
   "cell_type": "markdown",
   "metadata": {},
   "source": [
    "# Sparkify Project - Small Dataset"
   ]
  },
  {
   "cell_type": "markdown",
   "metadata": {},
   "source": [
    "This project is based on data from a hypothetical music streaming service named Sparkify. The data comes in two form: The complete set (12 GB) as well as a tiny subset (128 MB). The project's goal is to use the data to predict churning of the service's users.\n",
    "\n",
    "This notebook is run on a local machine and, therefore, only uses the smaller dataset."
   ]
  },
  {
   "cell_type": "code",
   "execution_count": 1,
   "metadata": {
    "scrolled": false
   },
   "outputs": [],
   "source": [
    "import sys\n",
    "import time\n",
    "import datetime\n",
    "from pyspark.sql import SparkSession, Window\n",
    "from pyspark.sql.functions import col, sum, count, udf, to_timestamp, min, max, avg, when, length\n",
    "from pyspark.sql.types import TimestampType, FloatType, BooleanType\n",
    "from pyspark.ml.feature import VectorAssembler, Normalizer\n",
    "from pyspark.ml.classification import LogisticRegression, NaiveBayes, RandomForestClassifier\n",
    "from pyspark.ml.evaluation import BinaryClassificationEvaluator, MulticlassClassificationEvaluator\n",
    "from pyspark.ml.tuning import CrossValidator, ParamGridBuilder\n",
    "import matplotlib.pyplot as plt\n",
    "import numpy as np\n",
    "import seaborn as sb\n",
    "\n",
    "%matplotlib inline\n",
    "sb.set_style(\"whitegrid\")"
   ]
  },
  {
   "cell_type": "code",
   "execution_count": 2,
   "metadata": {
    "scrolled": false
   },
   "outputs": [],
   "source": [
    "# create a Spark session\n",
    "spark = SparkSession \\\n",
    "    .builder \\\n",
    "    .appName(\"Sparkify\") \\\n",
    "    .getOrCreate()"
   ]
  },
  {
   "cell_type": "code",
   "execution_count": 3,
   "metadata": {
    "scrolled": false
   },
   "outputs": [
    {
     "data": {
      "text/plain": [
       "Row(artist='Martha Tilston', auth='Logged In', firstName='Colin', gender='M', itemInSession=50, lastName='Freeman', length=277.89016, level='paid', location='Bakersfield, CA', method='PUT', page='NextSong', registration=1538173362000, sessionId=29, song='Rockpools', status=200, ts=1538352117000, userAgent='Mozilla/5.0 (Windows NT 6.1; WOW64; rv:31.0) Gecko/20100101 Firefox/31.0', userId='30')"
      ]
     },
     "execution_count": 3,
     "metadata": {},
     "output_type": "execute_result"
    }
   ],
   "source": [
    "# Load reduced sparkify dataset\n",
    "mini_event_data = \"mini_sparkify_event_data.json\"\n",
    "\n",
    "df = spark.read.json(mini_event_data)\n",
    "df.head()"
   ]
  },
  {
   "cell_type": "code",
   "execution_count": 4,
   "metadata": {},
   "outputs": [
    {
     "data": {
      "text/plain": [
       "286500"
      ]
     },
     "execution_count": 4,
     "metadata": {},
     "output_type": "execute_result"
    }
   ],
   "source": [
    "df.count()"
   ]
  },
  {
   "cell_type": "markdown",
   "metadata": {},
   "source": [
    "# Cleaning the Dataset"
   ]
  },
  {
   "cell_type": "markdown",
   "metadata": {},
   "source": [
    "### Checking for and excluding dispensable features"
   ]
  },
  {
   "cell_type": "markdown",
   "metadata": {},
   "source": [
    "**First step**: Get an overview regarding the structure of the data."
   ]
  },
  {
   "cell_type": "code",
   "execution_count": 5,
   "metadata": {
    "scrolled": false
   },
   "outputs": [
    {
     "name": "stdout",
     "output_type": "stream",
     "text": [
      "root\n",
      " |-- artist: string (nullable = true)\n",
      " |-- auth: string (nullable = true)\n",
      " |-- firstName: string (nullable = true)\n",
      " |-- gender: string (nullable = true)\n",
      " |-- itemInSession: long (nullable = true)\n",
      " |-- lastName: string (nullable = true)\n",
      " |-- length: double (nullable = true)\n",
      " |-- level: string (nullable = true)\n",
      " |-- location: string (nullable = true)\n",
      " |-- method: string (nullable = true)\n",
      " |-- page: string (nullable = true)\n",
      " |-- registration: long (nullable = true)\n",
      " |-- sessionId: long (nullable = true)\n",
      " |-- song: string (nullable = true)\n",
      " |-- status: long (nullable = true)\n",
      " |-- ts: long (nullable = true)\n",
      " |-- userAgent: string (nullable = true)\n",
      " |-- userId: string (nullable = true)\n",
      "\n"
     ]
    }
   ],
   "source": [
    "df.printSchema()"
   ]
  },
  {
   "cell_type": "markdown",
   "metadata": {},
   "source": [
    "Have a closer look at the numeric features."
   ]
  },
  {
   "cell_type": "code",
   "execution_count": 6,
   "metadata": {
    "scrolled": true
   },
   "outputs": [
    {
     "name": "stdout",
     "output_type": "stream",
     "text": [
      "+-------+------------------+-----------------+--------------------+\n",
      "|summary|     itemInSession|           length|        registration|\n",
      "+-------+------------------+-----------------+--------------------+\n",
      "|  count|            286500|           228108|              278154|\n",
      "|   mean|114.41421291448516|249.1171819778458|1.535358834084427...|\n",
      "| stddev|129.76726201140994|99.23517921058361| 3.291321616327586E9|\n",
      "|    min|                 0|          0.78322|       1521380675000|\n",
      "|    max|              1321|       3024.66567|       1543247354000|\n",
      "+-------+------------------+-----------------+--------------------+\n",
      "\n"
     ]
    }
   ],
   "source": [
    "df.describe(\"itemInSession\", \"length\", \"registration\").show()"
   ]
  },
  {
   "cell_type": "code",
   "execution_count": 7,
   "metadata": {
    "scrolled": false
   },
   "outputs": [
    {
     "name": "stdout",
     "output_type": "stream",
     "text": [
      "+-------+-----------------+------------------+--------------------+\n",
      "|summary|        sessionId|            status|                  ts|\n",
      "+-------+-----------------+------------------+--------------------+\n",
      "|  count|           286500|            286500|              286500|\n",
      "|   mean|1041.526554973822|210.05459685863875|1.540956889810483...|\n",
      "| stddev|726.7762634630741| 31.50507848842214|1.5075439608226302E9|\n",
      "|    min|                1|               200|       1538352117000|\n",
      "|    max|             2474|               404|       1543799476000|\n",
      "+-------+-----------------+------------------+--------------------+\n",
      "\n"
     ]
    }
   ],
   "source": [
    "df.describe(\"sessionId\", \"status\", \"ts\").show()"
   ]
  },
  {
   "cell_type": "markdown",
   "metadata": {},
   "source": [
    "Have a look at the range of values of the categorical features."
   ]
  },
  {
   "cell_type": "code",
   "execution_count": 8,
   "metadata": {
    "scrolled": false
   },
   "outputs": [
    {
     "name": "stdout",
     "output_type": "stream",
     "text": [
      "AUTH\n",
      "+----------+\n",
      "|      auth|\n",
      "+----------+\n",
      "|Logged Out|\n",
      "| Cancelled|\n",
      "|     Guest|\n",
      "| Logged In|\n",
      "+----------+\n",
      "\n",
      "None\n",
      "GENDER\n",
      "+------+\n",
      "|gender|\n",
      "+------+\n",
      "|     F|\n",
      "|  null|\n",
      "|     M|\n",
      "+------+\n",
      "\n",
      "None\n",
      "LEVEL\n",
      "+-----+\n",
      "|level|\n",
      "+-----+\n",
      "| free|\n",
      "| paid|\n",
      "+-----+\n",
      "\n",
      "None\n",
      "LOCATION\n",
      "+--------------------+\n",
      "|            location|\n",
      "+--------------------+\n",
      "|     Gainesville, FL|\n",
      "|Atlantic City-Ham...|\n",
      "|Deltona-Daytona B...|\n",
      "|San Diego-Carlsba...|\n",
      "|Cleveland-Elyria, OH|\n",
      "|Kingsport-Bristol...|\n",
      "|New Haven-Milford...|\n",
      "|Birmingham-Hoover...|\n",
      "|  Corpus Christi, TX|\n",
      "|         Dubuque, IA|\n",
      "|Las Vegas-Henders...|\n",
      "|Indianapolis-Carm...|\n",
      "|Seattle-Tacoma-Be...|\n",
      "|          Albany, OR|\n",
      "|   Winston-Salem, NC|\n",
      "|     Bakersfield, CA|\n",
      "|Los Angeles-Long ...|\n",
      "|Minneapolis-St. P...|\n",
      "|San Francisco-Oak...|\n",
      "|Phoenix-Mesa-Scot...|\n",
      "|Allentown-Bethleh...|\n",
      "|Miami-Fort Lauder...|\n",
      "|           Selma, AL|\n",
      "|          Dayton, OH|\n",
      "|San Jose-Sunnyval...|\n",
      "+--------------------+\n",
      "only showing top 25 rows\n",
      "\n",
      "None\n",
      "METHOD\n",
      "+------+\n",
      "|method|\n",
      "+------+\n",
      "|   PUT|\n",
      "|   GET|\n",
      "+------+\n",
      "\n",
      "None\n",
      "REGISTRATION\n",
      "+-------------+\n",
      "| registration|\n",
      "+-------------+\n",
      "|1529027541000|\n",
      "|1533192032000|\n",
      "|1537779419000|\n",
      "|1534627466000|\n",
      "|1535389443000|\n",
      "|1536642109000|\n",
      "|1537167593000|\n",
      "|1536854322000|\n",
      "|1533908361000|\n",
      "|1536817381000|\n",
      "|1536663902000|\n",
      "|1537672236000|\n",
      "|1536956945000|\n",
      "|1537611935000|\n",
      "|1537751138000|\n",
      "|1533532298000|\n",
      "|1537057938000|\n",
      "|1537964483000|\n",
      "|1528772084000|\n",
      "|1537440271000|\n",
      "|1536303841000|\n",
      "|1534768517000|\n",
      "|1537484200000|\n",
      "|1538050164000|\n",
      "|1532450666000|\n",
      "+-------------+\n",
      "only showing top 25 rows\n",
      "\n",
      "None\n",
      "STATUS\n",
      "+------+\n",
      "|status|\n",
      "+------+\n",
      "|   307|\n",
      "|   404|\n",
      "|   200|\n",
      "+------+\n",
      "\n",
      "None\n"
     ]
    }
   ],
   "source": [
    "for feat in [\"auth\", \"gender\", \"level\", \"location\", \"method\", \"registration\", \"status\"]:\n",
    "    print(feat.upper())\n",
    "    print(df.select(feat).distinct().show(25))"
   ]
  },
  {
   "cell_type": "code",
   "execution_count": 9,
   "metadata": {
    "scrolled": false
   },
   "outputs": [
    {
     "name": "stdout",
     "output_type": "stream",
     "text": [
      "+--------------------+------+\n",
      "|                page| count|\n",
      "+--------------------+------+\n",
      "|            NextSong|228108|\n",
      "|                Home| 14457|\n",
      "|           Thumbs Up| 12551|\n",
      "|     Add to Playlist|  6526|\n",
      "|          Add Friend|  4277|\n",
      "|         Roll Advert|  3933|\n",
      "|               Login|  3241|\n",
      "|              Logout|  3226|\n",
      "|         Thumbs Down|  2546|\n",
      "|           Downgrade|  2055|\n",
      "|                Help|  1726|\n",
      "|            Settings|  1514|\n",
      "|               About|   924|\n",
      "|             Upgrade|   499|\n",
      "|       Save Settings|   310|\n",
      "|               Error|   258|\n",
      "|      Submit Upgrade|   159|\n",
      "|    Submit Downgrade|    63|\n",
      "|              Cancel|    52|\n",
      "|Cancellation Conf...|    52|\n",
      "|            Register|    18|\n",
      "| Submit Registration|     5|\n",
      "+--------------------+------+\n",
      "\n"
     ]
    }
   ],
   "source": [
    "df.groupby(\"page\").count().sort(\"count\", ascending=False).show(100)"
   ]
  },
  {
   "cell_type": "markdown",
   "metadata": {},
   "source": [
    "Look at the `status` variable to see how it relates to the `page` variable."
   ]
  },
  {
   "cell_type": "code",
   "execution_count": 10,
   "metadata": {
    "scrolled": false
   },
   "outputs": [
    {
     "name": "stdout",
     "output_type": "stream",
     "text": [
      "+--------------------+------+------+\n",
      "|                page|status| count|\n",
      "+--------------------+------+------+\n",
      "| Submit Registration|   307|     5|\n",
      "|           Downgrade|   200|  2055|\n",
      "|       Save Settings|   307|   310|\n",
      "|                Help|   200|  1726|\n",
      "|Cancellation Conf...|   200|    52|\n",
      "|            Settings|   200|  1514|\n",
      "|          Add Friend|   307|  4277|\n",
      "|             Upgrade|   200|   499|\n",
      "|         Roll Advert|   200|  3933|\n",
      "|      Submit Upgrade|   307|   159|\n",
      "|               Error|   404|   258|\n",
      "|                Home|   200| 14457|\n",
      "|               About|   200|   924|\n",
      "|               Login|   307|  3241|\n",
      "|     Add to Playlist|   200|  6526|\n",
      "|              Logout|   307|  3226|\n",
      "|         Thumbs Down|   307|  2546|\n",
      "|              Cancel|   307|    52|\n",
      "|            Register|   200|    18|\n",
      "|           Thumbs Up|   307| 12551|\n",
      "|            NextSong|   200|228108|\n",
      "|    Submit Downgrade|   307|    63|\n",
      "+--------------------+------+------+\n",
      "\n"
     ]
    }
   ],
   "source": [
    "df.groupby(\"page\", \"status\").count().show(100)"
   ]
  },
  {
   "cell_type": "markdown",
   "metadata": {},
   "source": [
    "Look at the `method` variable to see how it relates to the `page` variable."
   ]
  },
  {
   "cell_type": "code",
   "execution_count": 11,
   "metadata": {
    "scrolled": false
   },
   "outputs": [
    {
     "name": "stdout",
     "output_type": "stream",
     "text": [
      "+--------------------+------+------+\n",
      "|                page|method| count|\n",
      "+--------------------+------+------+\n",
      "|          Add Friend|   PUT|  4277|\n",
      "|              Logout|   PUT|  3226|\n",
      "|               About|   GET|   924|\n",
      "|      Submit Upgrade|   PUT|   159|\n",
      "|     Add to Playlist|   PUT|  6526|\n",
      "|              Cancel|   PUT|    52|\n",
      "|    Submit Downgrade|   PUT|    63|\n",
      "|            Settings|   GET|  1514|\n",
      "|               Login|   PUT|  3241|\n",
      "|       Save Settings|   PUT|   310|\n",
      "|                Help|   GET|  1726|\n",
      "|           Downgrade|   GET|  2055|\n",
      "|            Register|   GET|    18|\n",
      "|             Upgrade|   GET|   499|\n",
      "|               Error|   GET|   258|\n",
      "|Cancellation Conf...|   GET|    52|\n",
      "|         Thumbs Down|   PUT|  2546|\n",
      "|                Home|   GET| 14457|\n",
      "| Submit Registration|   PUT|     5|\n",
      "|         Roll Advert|   GET|  3933|\n",
      "|            NextSong|   PUT|228108|\n",
      "|           Thumbs Up|   PUT| 12551|\n",
      "+--------------------+------+------+\n",
      "\n"
     ]
    }
   ],
   "source": [
    "df.groupby(\"page\", \"method\").count().show(100)"
   ]
  },
  {
   "cell_type": "markdown",
   "metadata": {},
   "source": [
    "**Findings / Next step**: The features `method`, `status`, and `userAgent` seem to be primarily technical in nature. Therefore, the next step will be to exclude these features from the dataset."
   ]
  },
  {
   "cell_type": "code",
   "execution_count": 12,
   "metadata": {
    "scrolled": false
   },
   "outputs": [
    {
     "data": {
      "text/plain": [
       "Row(artist='Martha Tilston', auth='Logged In', firstName='Colin', gender='M', itemInSession=50, lastName='Freeman', length=277.89016, level='paid', location='Bakersfield, CA', page='NextSong', registration=1538173362000, sessionId=29, song='Rockpools', ts=1538352117000, userId='30')"
      ]
     },
     "execution_count": 12,
     "metadata": {},
     "output_type": "execute_result"
    }
   ],
   "source": [
    "df = df.drop(\"method\", \"status\", \"userAgent\")\n",
    "df.head()"
   ]
  },
  {
   "cell_type": "markdown",
   "metadata": {},
   "source": [
    "### Checking for and handling missing data"
   ]
  },
  {
   "cell_type": "code",
   "execution_count": 13,
   "metadata": {
    "scrolled": false
   },
   "outputs": [
    {
     "name": "stdout",
     "output_type": "stream",
     "text": [
      "artist: 58392\n",
      "auth: 0\n",
      "firstName: 8346\n",
      "gender: 8346\n",
      "itemInSession: 0\n",
      "lastName: 8346\n",
      "length: 58392\n",
      "level: 0\n",
      "location: 8346\n",
      "page: 0\n",
      "registration: 8346\n",
      "sessionId: 0\n",
      "song: 58392\n",
      "ts: 0\n",
      "userId: 8346\n"
     ]
    }
   ],
   "source": [
    "# count NaNs per column\n",
    "for c in df.columns:\n",
    "    count = df.filter((col(c).isNull() == True) | (col(c) == \"\")).count()\n",
    "    print(f\"{c}: {count}\")"
   ]
  },
  {
   "cell_type": "markdown",
   "metadata": {},
   "source": [
    "**Finding**: Lots of missing values which might, however, be due to the nature of the records.\n",
    "\n",
    "**Next step**: Analyze the missing data per type of page. This should help to understand the structure of the dataset."
   ]
  },
  {
   "cell_type": "code",
   "execution_count": 14,
   "metadata": {
    "scrolled": true
   },
   "outputs": [],
   "source": [
    "def show_missing_data(df, save_fig):\n",
    "    \n",
    "    \"\"\"Shows the occurance of nan values in a pyspark dataframe\n",
    "    \n",
    "    Inputs \n",
    "    df (pyspark dataframe):   A pyspark dataframe with a number of features and a column \n",
    "                              labelled 'page' which specifies the type of the entry.\n",
    "    save_fig (boolean):       Indicates whether the plot is to be saved to the current \n",
    "                              working directory.\n",
    "    \n",
    "    Returns\n",
    "    Nothing but plots a figure which shows the structural occurances\n",
    "    of nan values.\n",
    "    \"\"\"\n",
    "    \n",
    "    # create initial dataframe with column \"page\"\n",
    "    null_vals = df.select(\"page\").distinct()\n",
    "    # inspect the dataframe column by column and count the number of nans and \"\"s in each\n",
    "    for c in df.columns:\n",
    "        next = df.filter((df[c].isNull() == True) | (df[c] == \"\")).groupby(\"page\") \\\n",
    "                                                                  .count() \\\n",
    "                                                                  .withColumnRenamed(\"count\", c)\n",
    "        null_vals = null_vals.join(next, [\"page\"], \"outer\")\n",
    "    df = df.sort(\"page\")\n",
    "\n",
    "    # copy data into a Pandas DataFrame to facilitate plotting\n",
    "    p_null_vals = null_vals.toPandas()\n",
    "\n",
    "    # remove duplicate pages column\n",
    "    pages = p_null_vals[\"page\"].iloc[:,0].values\n",
    "    p_null_vals.drop(\"page\", axis=1, inplace=True)\n",
    "    p_null_vals[\"page\"] = pages\n",
    "    \n",
    "\n",
    "    # convert values into a binary format:\n",
    "    # if null values exist then TRUE else FALSE\n",
    "    for c in p_null_vals.columns[:-1]:\n",
    "        p_null_vals[c] = [False if str(x) in [\"None\", \"nan\"] else True for x in p_null_vals[c]]\n",
    "\n",
    "    \n",
    "    # make a plot which shows the occurances of null values\n",
    "    plt.figure(figsize=(9, 9))\n",
    "    yticklabels = [x.title() for x in p_null_vals.columns[:-1]]\n",
    "    sb.heatmap(p_null_vals.iloc[:, :-1].transpose(), xticklabels=pages, \n",
    "               yticklabels=yticklabels, cmap=[\"white\", \"red\"], cbar=False, \n",
    "               square=True, linewidths=0.05, linecolor=\"grey\");\n",
    "    plt.xlabel(\"Type of page/transaction\", fontsize=11.5);\n",
    "    plt.ylabel(\"Dataset feature\", fontsize=11.5);\n",
    "    title = plt.title(\"The red squares show where in the dataset NULL VALUES occur\", \n",
    "                      loc=\"left\", fontsize=12.5);\n",
    "    title.set_position([0, 1.03]);\n",
    "    \n",
    "    if save_fig:\n",
    "        plt.savefig(\"features_after_cleaning.jpeg\", format=\"jpeg\", dpi=300, bbox_inches=\"tight\")"
   ]
  },
  {
   "cell_type": "code",
   "execution_count": 15,
   "metadata": {
    "scrolled": false
   },
   "outputs": [
    {
     "data": {
      "image/png": "[encoded data removed]",
      "text/plain": [
       "<matplotlib.figure.Figure at 0x7f37f4d05828>"
      ]
     },
     "metadata": {
      "needs_background": "light"
     },
     "output_type": "display_data"
    }
   ],
   "source": [
    "show_missing_data(df, False)"
   ]
  },
  {
   "cell_type": "markdown",
   "metadata": {},
   "source": [
    "**Findings**: \n",
    "- `Artist`, `Song`, and `Length` are only specified for `NextSong` records.\n",
    "- There are some types of pages for which the personal attributes of the user (`UserId`, `Firstname`, `Lastname`, `Gender`, `Location`, `Registration`) are not recorded.\n",
    "\n",
    "**Next step**: The objective of this analysis is to make predictions on user behavior. Therefore, I will remove interactions for which no user information is available."
   ]
  },
  {
   "cell_type": "code",
   "execution_count": 16,
   "metadata": {
    "scrolled": false
   },
   "outputs": [],
   "source": [
    "df = df.filter(df.userId != \"\")"
   ]
  },
  {
   "cell_type": "code",
   "execution_count": 17,
   "metadata": {
    "scrolled": false
   },
   "outputs": [
    {
     "data": {
      "image/png": "[encoded data removed]",
      "text/plain": [
       "<matplotlib.figure.Figure at 0x7f37cf32a828>"
      ]
     },
     "metadata": {
      "needs_background": "light"
     },
     "output_type": "display_data"
    }
   ],
   "source": [
    "show_missing_data(df, True)"
   ]
  },
  {
   "cell_type": "markdown",
   "metadata": {},
   "source": [
    "### Ensuring data tidiness"
   ]
  },
  {
   "cell_type": "markdown",
   "metadata": {},
   "source": [
    "**First step**: Check for duplicates in those columns where duplicates are not to be expected."
   ]
  },
  {
   "cell_type": "code",
   "execution_count": 18,
   "metadata": {
    "scrolled": false
   },
   "outputs": [
    {
     "name": "stdout",
     "output_type": "stream",
     "text": [
      "No duplicates.\n"
     ]
    }
   ],
   "source": [
    "# Combination of columns for which no duplicates should exist\n",
    "columns = [\"userId\", \"sessionId\", \"itemInSession\"]\n",
    "\n",
    "if df.count() > df.dropDuplicates(columns).count():\n",
    "    print(\"Data has duplicates.\")\n",
    "else:\n",
    "    print(\"No duplicates.\")"
   ]
  },
  {
   "cell_type": "markdown",
   "metadata": {},
   "source": [
    "**Next step**: Check for adequacy of data types."
   ]
  },
  {
   "cell_type": "code",
   "execution_count": 19,
   "metadata": {
    "scrolled": true
   },
   "outputs": [
    {
     "name": "stdout",
     "output_type": "stream",
     "text": [
      "root\n",
      " |-- artist: string (nullable = true)\n",
      " |-- auth: string (nullable = true)\n",
      " |-- firstName: string (nullable = true)\n",
      " |-- gender: string (nullable = true)\n",
      " |-- itemInSession: long (nullable = true)\n",
      " |-- lastName: string (nullable = true)\n",
      " |-- length: double (nullable = true)\n",
      " |-- level: string (nullable = true)\n",
      " |-- location: string (nullable = true)\n",
      " |-- page: string (nullable = true)\n",
      " |-- registration: long (nullable = true)\n",
      " |-- sessionId: long (nullable = true)\n",
      " |-- song: string (nullable = true)\n",
      " |-- ts: long (nullable = true)\n",
      " |-- userId: string (nullable = true)\n",
      "\n"
     ]
    }
   ],
   "source": [
    "df.printSchema()"
   ]
  },
  {
   "cell_type": "markdown",
   "metadata": {},
   "source": [
    "**Finding / Next step**: Timestamp (`ts`) should be a datetime (or similar) variable."
   ]
  },
  {
   "cell_type": "code",
   "execution_count": 20,
   "metadata": {
    "scrolled": false
   },
   "outputs": [],
   "source": [
    "df = df.withColumn(\"timestamp\", to_timestamp(df.ts / 1e3))\n",
    "df = df.drop(\"ts\")"
   ]
  },
  {
   "cell_type": "code",
   "execution_count": 21,
   "metadata": {},
   "outputs": [
    {
     "data": {
      "text/plain": [
       "278154"
      ]
     },
     "execution_count": 21,
     "metadata": {},
     "output_type": "execute_result"
    }
   ],
   "source": [
    "df.count()"
   ]
  },
  {
   "cell_type": "markdown",
   "metadata": {},
   "source": [
    "# Exploratory Data Analysis\n",
    "\n",
    "### Definion of Churn\n",
    "\n",
    "The `Cancellation Confirmation` event is used to identify user who churn. \n",
    "\n",
    "### Data Exploration"
   ]
  },
  {
   "cell_type": "code",
   "execution_count": 22,
   "metadata": {
    "scrolled": false
   },
   "outputs": [
    {
     "name": "stdout",
     "output_type": "stream",
     "text": [
      "+------+---------+------+---------+-------------+-----+-------------------+\n",
      "|userId|     auth|gender|sessionId|itemInSession|level|          timestamp|\n",
      "+------+---------+------+---------+-------------+-----+-------------------+\n",
      "|    18|Cancelled|     M|      514|          104| paid|2018-10-07 20:26:30|\n",
      "|    32|Cancelled|     M|      540|           56| paid|2018-10-08 21:10:46|\n",
      "|   125|Cancelled|     M|      174|           10| free|2018-10-12 04:35:18|\n",
      "|   105|Cancelled|     M|      508|          332| paid|2018-10-12 20:17:21|\n",
      "|    17|Cancelled|     F|      797|          273| paid|2018-10-13 21:19:44|\n",
      "|   143|Cancelled|     F|      843|           29| free|2018-10-15 07:34:14|\n",
      "|   101|Cancelled|     M|      842|          145| paid|2018-10-16 22:30:37|\n",
      "|   129|Cancelled|     M|      802|           34| paid|2018-10-17 00:29:21|\n",
      "|   121|Cancelled|     M|      881|          287| paid|2018-10-17 07:02:29|\n",
      "|    51|Cancelled|     M|      934|          176| paid|2018-10-17 07:39:32|\n",
      "|    87|Cancelled|     M|     1092|          100| paid|2018-10-20 15:49:16|\n",
      "|   122|Cancelled|     F|     1029|           43| paid|2018-10-20 19:01:08|\n",
      "|    12|Cancelled|     F|     1072|           72| paid|2018-10-22 07:29:34|\n",
      "|    58|Cancelled|     M|     1112|           48| paid|2018-10-22 15:43:26|\n",
      "|    73|Cancelled|     F|     1059|           11| paid|2018-10-24 17:33:07|\n",
      "|     3|Cancelled|     M|     1324|           46| paid|2018-10-30 04:59:03|\n",
      "|   106|Cancelled|     F|     1383|           18| paid|2018-11-02 13:47:04|\n",
      "|   103|Cancelled|     F|     1583|            8| paid|2018-11-04 14:01:31|\n",
      "|    28|Cancelled|     F|     1519|          306| paid|2018-11-06 00:20:32|\n",
      "|    54|Cancelled|     F|     1819|           42| paid|2018-11-12 19:40:08|\n",
      "|    29|Cancelled|     M|     1864|           49| paid|2018-11-14 07:37:11|\n",
      "|    70|Cancelled|     M|     1940|           91| paid|2018-11-14 22:34:27|\n",
      "|    53|Cancelled|     M|     2003|          110| paid|2018-11-19 12:34:56|\n",
      "|100011|Cancelled|     M|       40|           22| free|2018-10-01 18:04:45|\n",
      "|100001|Cancelled|     F|       53|           23| free|2018-10-02 16:36:45|\n",
      "|100024|Cancelled|     M|       42|           36| free|2018-10-04 23:17:18|\n",
      "|100006|Cancelled|     F|        6|           45| free|2018-10-05 15:24:30|\n",
      "|100019|Cancelled|     M|       71|           65| free|2018-10-07 22:57:51|\n",
      "|100003|Cancelled|     F|       86|           81| free|2018-10-11 16:19:41|\n",
      "|100023|Cancelled|     M|      109|           18| paid|2018-10-14 00:00:37|\n",
      "|100005|Cancelled|     M|      115|           73| free|2018-10-19 17:57:05|\n",
      "|100017|Cancelled|     M|       17|           74| free|2018-10-20 19:14:07|\n",
      "|100025|Cancelled|     F|      129|           49| free|2018-10-23 12:52:32|\n",
      "|100009|Cancelled|     M|      145|           61| free|2018-10-27 03:31:44|\n",
      "|100012|Cancelled|     M|      156|           74| free|2018-11-01 19:35:00|\n",
      "|100013|Cancelled|     F|      165|           51| paid|2018-11-02 18:53:36|\n",
      "|100022|Cancelled|     F|      191|           17| free|2018-11-12 16:04:05|\n",
      "|100014|Cancelled|     M|      185|           73| paid|2018-11-20 19:04:09|\n",
      "|100015|Cancelled|     F|      188|          115| paid|2018-11-24 15:35:53|\n",
      "|100021|Cancelled|     M|      172|          185| free|2018-11-25 11:03:02|\n",
      "|100007|Cancelled|     F|      205|          201| paid|2018-11-29 11:45:09|\n",
      "|200001|Cancelled|     M|      136|           19| free|2018-10-15 18:55:20|\n",
      "|200024|Cancelled|     M|      208|           46| paid|2018-10-24 03:59:37|\n",
      "|200011|Cancelled|     M|      267|            7| free|2018-11-02 01:09:24|\n",
      "|200021|Cancelled|     F|      276|           85| paid|2018-11-02 05:58:53|\n",
      "|200018|Cancelled|     M|      268|           78| free|2018-11-02 10:07:54|\n",
      "|200015|Cancelled|     M|      270|           33| free|2018-11-09 07:01:03|\n",
      "|200017|Cancelled|     M|      301|           44| paid|2018-11-15 20:16:43|\n",
      "|200016|Cancelled|     F|      347|          122| free|2018-11-16 08:17:58|\n",
      "|200020|Cancelled|     M|      351|           46| free|2018-11-17 16:40:42|\n",
      "|300007|Cancelled|     M|       44|          142| paid|2018-10-05 02:08:58|\n",
      "|300001|Cancelled|     F|      397|          311| paid|2018-11-23 21:42:24|\n",
      "+------+---------+------+---------+-------------+-----+-------------------+\n",
      "\n"
     ]
    }
   ],
   "source": [
    "columns = [\"userId\", \"auth\", \"gender\", \"sessionId\", \"itemInSession\", \"level\", \"timestamp\"]\n",
    "df.filter(df.page == \"Cancellation Confirmation\").select(columns).show(52)"
   ]
  },
  {
   "cell_type": "markdown",
   "metadata": {},
   "source": [
    "**Question**: Of all users in the dataset how many did cancel the service?"
   ]
  },
  {
   "cell_type": "code",
   "execution_count": 23,
   "metadata": {
    "scrolled": false
   },
   "outputs": [
    {
     "name": "stdout",
     "output_type": "stream",
     "text": [
      "23.1%\n"
     ]
    }
   ],
   "source": [
    "canc_rate = df.filter(df.page == \"Cancellation Confirmation\").groupby(\"userId\").count().count() / \\\n",
    "            df.groupby(\"userId\").count().count() * 100\n",
    "print(f\"{canc_rate:.1f}%\")"
   ]
  },
  {
   "cell_type": "markdown",
   "metadata": {},
   "source": [
    "**Question**: How does the proportion of female users who cancelled the service relate to their overall proportion in the dataset?"
   ]
  },
  {
   "cell_type": "code",
   "execution_count": 24,
   "metadata": {
    "scrolled": false
   },
   "outputs": [
    {
     "name": "stdout",
     "output_type": "stream",
     "text": [
      "Overall rate of females in the dataset: 46.2%\n",
      "Rate of females among users who cancelled: 38.5%\n"
     ]
    }
   ],
   "source": [
    "overall_fem_prop = df.filter(df.gender == \"F\").groupby(\"userId\").count().count() \\\n",
    "                   / df.groupby(\"userId\").count().count() * 100\n",
    "print(f\"Overall rate of females in the dataset: {overall_fem_prop:.1f}%\")\n",
    "\n",
    "canc_fem_prop = df.filter((df.gender == \"F\") & (df.page == \"Cancellation Confirmation\")) \\\n",
    "                .groupby(\"userId\").count().count() \\\n",
    "                / df.filter(df.page == \"Cancellation Confirmation\") \\\n",
    "                .groupby(\"userId\").count().count() * 100\n",
    "print(f\"Rate of females among users who cancelled: {canc_fem_prop:.1f}%\")"
   ]
  },
  {
   "cell_type": "markdown",
   "metadata": {},
   "source": [
    "**Question**: How does the proportion of paying users who cancelled the service relate to the overall proportion of paying users in the dataset?"
   ]
  },
  {
   "cell_type": "code",
   "execution_count": 25,
   "metadata": {},
   "outputs": [
    {
     "name": "stdout",
     "output_type": "stream",
     "text": [
      "Overall proportion of paying users: 73.3%\n",
      "Proportion of paying users among the users who cancelled: 59.6%\n"
     ]
    }
   ],
   "source": [
    "overall_pay_prop = df.filter(df.level == \"paid\").groupby(\"userId\").count().count() \\\n",
    "                   / df.groupby(\"userId\").count().count() * 100\n",
    "print(f\"Overall proportion of paying users: {overall_pay_prop:.1f}%\")\n",
    "\n",
    "canc_pay_prop = df.filter((df.level == \"paid\") & (df.page == \"Cancellation Confirmation\")) \\\n",
    "                .groupby(\"userId\").count().count() \\\n",
    "                / df.filter(df.page == \"Cancellation Confirmation\") \\\n",
    "                .groupby(\"userId\").count().count() * 100\n",
    "print(f\"Proportion of paying users among the users who cancelled: {canc_pay_prop:.1f}%\")"
   ]
  },
  {
   "cell_type": "markdown",
   "metadata": {},
   "source": [
    "**Question**: What were the last actions of users who cancelled the service? Look at some examples."
   ]
  },
  {
   "cell_type": "code",
   "execution_count": 26,
   "metadata": {},
   "outputs": [
    {
     "name": "stdout",
     "output_type": "stream",
     "text": [
      "+------+--------------------+\n",
      "|userId|                page|\n",
      "+------+--------------------+\n",
      "|    18|Cancellation Conf...|\n",
      "|    32|Cancellation Conf...|\n",
      "|   125|Cancellation Conf...|\n",
      "|   105|Cancellation Conf...|\n",
      "|    17|Cancellation Conf...|\n",
      "|   143|Cancellation Conf...|\n",
      "|   101|Cancellation Conf...|\n",
      "|   129|Cancellation Conf...|\n",
      "|   121|Cancellation Conf...|\n",
      "|    51|Cancellation Conf...|\n",
      "+------+--------------------+\n",
      "only showing top 10 rows\n",
      "\n"
     ]
    }
   ],
   "source": [
    "df.filter(df.page == \"Cancellation Confirmation\").select(\"userId\", \"page\").show(10)"
   ]
  },
  {
   "cell_type": "code",
   "execution_count": 27,
   "metadata": {
    "scrolled": false
   },
   "outputs": [
    {
     "name": "stdout",
     "output_type": "stream",
     "text": [
      "+------+--------------------+---------+------+---------+-------------+-----+-------------------+---------+\n",
      "|userId|                page|     auth|gender|sessionId|itemInSession|level|          timestamp|   length|\n",
      "+------+--------------------+---------+------+---------+-------------+-----+-------------------+---------+\n",
      "|    17|Cancellation Conf...|Cancelled|     F|      797|          273| paid|2018-10-13 21:19:44|     null|\n",
      "|    17|              Cancel|Logged In|     F|      797|          272| paid|2018-10-13 21:17:31|     null|\n",
      "|    17|            Settings|Logged In|     F|      797|          271| paid|2018-10-13 21:17:30|     null|\n",
      "|    17|            NextSong|Logged In|     F|      797|          270| paid|2018-10-13 21:09:26|236.45995|\n",
      "|    17|            NextSong|Logged In|     F|      797|          269| paid|2018-10-13 21:03:19|367.12444|\n",
      "|    17|            NextSong|Logged In|     F|      797|          268| paid|2018-10-13 20:59:04|255.92118|\n",
      "|    17|            NextSong|Logged In|     F|      797|          267| paid|2018-10-13 20:56:17|167.83628|\n",
      "|    17|            NextSong|Logged In|     F|      797|          266| paid|2018-10-13 20:50:29|348.57751|\n",
      "|    17|            NextSong|Logged In|     F|      797|          265| paid|2018-10-13 20:47:17|  192.522|\n",
      "|    17|     Add to Playlist|Logged In|     F|      797|          264| paid|2018-10-13 20:46:19|     null|\n",
      "+------+--------------------+---------+------+---------+-------------+-----+-------------------+---------+\n",
      "only showing top 10 rows\n",
      "\n"
     ]
    }
   ],
   "source": [
    "columns = [\"userId\", \"page\", \"auth\", \"gender\", \"sessionId\", \"itemInSession\", \"level\", \"timestamp\", \"length\"]\n",
    "df.filter(df.userId == 17).select(columns).sort(\"timestamp\", ascending=False).show(10)"
   ]
  },
  {
   "cell_type": "code",
   "execution_count": 28,
   "metadata": {},
   "outputs": [
    {
     "name": "stdout",
     "output_type": "stream",
     "text": [
      "+------+--------+---------+------+---------+-------------+-----+-------------------+---------+\n",
      "|userId|    page|     auth|gender|sessionId|itemInSession|level|          timestamp|   length|\n",
      "+------+--------+---------+------+---------+-------------+-----+-------------------+---------+\n",
      "|   124|    Home|Logged In|     F|     2426|            0| paid|2018-11-30 15:12:46|     null|\n",
      "|   124|    Home|Logged In|     F|     2372|          130| paid|2018-11-29 19:48:06|     null|\n",
      "|   124|    Home|Logged In|     F|     2372|          129| paid|2018-11-29 19:47:22|     null|\n",
      "|   124|  Logout|Logged In|     F|     2372|          126| paid|2018-11-29 19:45:18|     null|\n",
      "|   124|NextSong|Logged In|     F|     2372|          125| paid|2018-11-29 19:45:17| 67.44771|\n",
      "|   124|NextSong|Logged In|     F|     2372|          124| paid|2018-11-29 19:40:03|314.72281|\n",
      "|   124|NextSong|Logged In|     F|     2372|          123| paid|2018-11-29 19:36:49|194.76853|\n",
      "|   124|NextSong|Logged In|     F|     2372|          122| paid|2018-11-29 19:32:52|237.00853|\n",
      "|   124|NextSong|Logged In|     F|     2372|          121| paid|2018-11-29 19:29:58|174.88934|\n",
      "|   124|NextSong|Logged In|     F|     2372|          120| paid|2018-11-29 19:26:28|210.07628|\n",
      "+------+--------+---------+------+---------+-------------+-----+-------------------+---------+\n",
      "only showing top 10 rows\n",
      "\n"
     ]
    }
   ],
   "source": [
    "df.filter(df.userId == 124).select(columns).sort(\"timestamp\", ascending=False).show(10)"
   ]
  },
  {
   "cell_type": "code",
   "execution_count": 29,
   "metadata": {},
   "outputs": [
    {
     "name": "stdout",
     "output_type": "stream",
     "text": [
      "+------+--------------------+---------+------+---------+-------------+-----+-------------------+---------+\n",
      "|userId|                page|     auth|gender|sessionId|itemInSession|level|          timestamp|   length|\n",
      "+------+--------------------+---------+------+---------+-------------+-----+-------------------+---------+\n",
      "|    51|Cancellation Conf...|Cancelled|     M|      934|          176| paid|2018-10-17 07:39:32|     null|\n",
      "|    51|              Cancel|Logged In|     M|      934|          175| paid|2018-10-17 07:37:10|     null|\n",
      "|    51|            Settings|Logged In|     M|      934|          174| paid|2018-10-17 07:37:09|     null|\n",
      "|    51|            NextSong|Logged In|     M|      934|          173| paid|2018-10-17 07:35:26|212.34893|\n",
      "|    51|            NextSong|Logged In|     M|      934|          172| paid|2018-10-17 07:31:48|218.93179|\n",
      "|    51|            NextSong|Logged In|     M|      934|          171| paid|2018-10-17 07:27:49|239.85587|\n",
      "|    51|            NextSong|Logged In|     M|      934|          170| paid|2018-10-17 07:23:50|239.17669|\n",
      "|    51|            NextSong|Logged In|     M|      934|          169| paid|2018-10-17 07:20:49|181.21098|\n",
      "|    51|            NextSong|Logged In|     M|      934|          168| paid|2018-10-17 07:15:49|300.32934|\n",
      "|    51|            NextSong|Logged In|     M|      934|          167| paid|2018-10-17 07:07:32|497.13587|\n",
      "+------+--------------------+---------+------+---------+-------------+-----+-------------------+---------+\n",
      "only showing top 10 rows\n",
      "\n"
     ]
    }
   ],
   "source": [
    "df.filter(df.userId == 51).select(columns).sort(\"timestamp\", ascending=False).show(10)"
   ]
  },
  {
   "cell_type": "markdown",
   "metadata": {
    "scrolled": false
   },
   "source": [
    "**Question**: Which time span is covered by the dataset?"
   ]
  },
  {
   "cell_type": "code",
   "execution_count": 30,
   "metadata": {
    "scrolled": false
   },
   "outputs": [
    {
     "name": "stdout",
     "output_type": "stream",
     "text": [
      "+-------------------+\n",
      "|     min(timestamp)|\n",
      "+-------------------+\n",
      "|2018-10-01 00:01:57|\n",
      "+-------------------+\n",
      "\n",
      "+-------------------+\n",
      "|     max(timestamp)|\n",
      "+-------------------+\n",
      "|2018-12-03 01:11:16|\n",
      "+-------------------+\n",
      "\n"
     ]
    },
    {
     "data": {
      "text/plain": [
       "datetime.timedelta(63, 4159)"
      ]
     },
     "execution_count": 30,
     "metadata": {},
     "output_type": "execute_result"
    }
   ],
   "source": [
    "df.agg(min(df.timestamp)).show()\n",
    "df.agg(max(df.timestamp)).show()\n",
    "df.agg(max(df.timestamp)).collect()[0][0] - df.agg(min(df.timestamp)).collect()[0][0]"
   ]
  },
  {
   "cell_type": "code",
   "execution_count": 31,
   "metadata": {},
   "outputs": [
    {
     "data": {
      "text/plain": [
       "1.1552777777777778"
      ]
     },
     "execution_count": 31,
     "metadata": {},
     "output_type": "execute_result"
    }
   ],
   "source": [
    "4159/3600"
   ]
  },
  {
   "cell_type": "markdown",
   "metadata": {},
   "source": [
    "The dataset covers a time span of roughly 63 days and 1 hour."
   ]
  },
  {
   "cell_type": "markdown",
   "metadata": {},
   "source": [
    "# Feature Engineering"
   ]
  },
  {
   "cell_type": "code",
   "execution_count": 32,
   "metadata": {
    "scrolled": true
   },
   "outputs": [
    {
     "data": {
      "text/plain": [
       "Row(artist='Martha Tilston', auth='Logged In', firstName='Colin', gender='M', itemInSession=50, lastName='Freeman', length=277.89016, level='paid', location='Bakersfield, CA', page='NextSong', registration=1538173362000, sessionId=29, song='Rockpools', userId='30', timestamp=datetime.datetime(2018, 10, 1, 0, 1, 57))"
      ]
     },
     "execution_count": 32,
     "metadata": {},
     "output_type": "execute_result"
    }
   ],
   "source": [
    "df.head()"
   ]
  },
  {
   "cell_type": "markdown",
   "metadata": {},
   "source": [
    "**New feature 1**: Number of total interactions (`count_interactions`) of a user."
   ]
  },
  {
   "cell_type": "code",
   "execution_count": 33,
   "metadata": {},
   "outputs": [
    {
     "name": "stdout",
     "output_type": "stream",
     "text": [
      "+------+------+------------------+\n",
      "|userId|gender|count_interactions|\n",
      "+------+------+------------------+\n",
      "|    10|     M|               795|\n",
      "|   100|     M|              3214|\n",
      "|100001|     F|               187|\n",
      "|100002|     F|               218|\n",
      "|100003|     F|                78|\n",
      "+------+------+------------------+\n",
      "only showing top 5 rows\n",
      "\n"
     ]
    }
   ],
   "source": [
    "df_users = df.select(\"userId\", \"gender\").sort(\"userId\").groupby(\"userId\", \"gender\").count()\n",
    "df_users = df_users.withColumnRenamed(\"count\", \"count_interactions\")\n",
    "df_users.show(5)"
   ]
  },
  {
   "cell_type": "markdown",
   "metadata": {},
   "source": [
    "**New feature 2**: User is male (`male`)."
   ]
  },
  {
   "cell_type": "code",
   "execution_count": 34,
   "metadata": {},
   "outputs": [
    {
     "name": "stdout",
     "output_type": "stream",
     "text": [
      "+------+------------------+-----+\n",
      "|userId|count_interactions| male|\n",
      "+------+------------------+-----+\n",
      "|    10|               795| true|\n",
      "|   100|              3214| true|\n",
      "|100001|               187|false|\n",
      "|100002|               218|false|\n",
      "|100003|                78|false|\n",
      "+------+------------------+-----+\n",
      "only showing top 5 rows\n",
      "\n"
     ]
    }
   ],
   "source": [
    "is_male = udf(lambda x: True if x == \"M\" else False, BooleanType())\n",
    "df_users = df_users.withColumn(\"male\", is_male(df_users.gender)).drop(\"gender\")\n",
    "df_users.show(5)"
   ]
  },
  {
   "cell_type": "markdown",
   "metadata": {},
   "source": [
    "**New features 3 and 4**: Number of likes (`count_thumbs_up`) and dislikes (`count_thumbs_down`) provided by a user according to the available records."
   ]
  },
  {
   "cell_type": "code",
   "execution_count": 35,
   "metadata": {},
   "outputs": [],
   "source": [
    "def count_interactions(interaction_name, new_col_name, df_interactions=df, df_users=df_users):\n",
    "    \"\"\"Counts interaction in the interaction dataframe and appends a column \n",
    "    with the count to the user dataframe.\n",
    "    \n",
    "    Inputs: \n",
    "    interaction_name (str): the 'page' category in the interactions dataframe\n",
    "    new_col_name (str): the label of the column to be added to the user dataframe\n",
    "    df_interactions (pyspark dataframe): a dataframe containing the interactions \n",
    "                                         labelled in the 'page' column for users\n",
    "                                         labelled in the 'userId' column\n",
    "    df_users (pyspark dataframe): a dataframe containing the users (column 'userId') \n",
    "                                  for whom the interactions are counted\n",
    "    \n",
    "    Returns: \n",
    "    df_users (pyspark dataframe): the user dataframe with a new column containing the \n",
    "                                  interaction counts\n",
    "    \"\"\"\n",
    "    \n",
    "    interaction_count = df.filter(df.page == interaction_name).groupby(\"userId\").count()\n",
    "    df_users = df_users.join(interaction_count, \"userId\", \"left\")\n",
    "    df_users = df_users.fillna(0, [\"count\"])\n",
    "    df_users = df_users.withColumnRenamed(\"count\", new_col_name)\n",
    "    \n",
    "    return df_users"
   ]
  },
  {
   "cell_type": "code",
   "execution_count": 36,
   "metadata": {},
   "outputs": [
    {
     "name": "stdout",
     "output_type": "stream",
     "text": [
      "+------+------------------+-----+---------------+-----------------+\n",
      "|userId|count_interactions| male|count_thumbs_up|count_thumbs_down|\n",
      "+------+------------------+-----+---------------+-----------------+\n",
      "|100010|               381|false|             17|                5|\n",
      "|200002|               474| true|             21|                6|\n",
      "|   125|                11| true|              0|                0|\n",
      "|   124|              4825|false|            171|               41|\n",
      "|    51|              2464| true|            100|               21|\n",
      "+------+------------------+-----+---------------+-----------------+\n",
      "only showing top 5 rows\n",
      "\n",
      "Operations took 19.7 seconds.\n"
     ]
    }
   ],
   "source": [
    "start_time = time.time()\n",
    "\n",
    "# counting thumbs up per user\n",
    "df_users = count_interactions(\"Thumbs Up\", \"count_thumbs_up\", df, df_users)\n",
    "# counting thumbs down per user\n",
    "df_users = count_interactions(\"Thumbs Down\", \"count_thumbs_down\", df, df_users)\n",
    "\n",
    "df_users.show(5)\n",
    "\n",
    "print(f\"Operations took {time.time() - start_time:.1f} seconds.\")"
   ]
  },
  {
   "cell_type": "markdown",
   "metadata": {},
   "source": [
    "**New features 5 and 6**: Total number of additions to a playlist (`count_playlist`) and total number of friend additions  (`count_friends`) by the user."
   ]
  },
  {
   "cell_type": "code",
   "execution_count": 37,
   "metadata": {
    "scrolled": true
   },
   "outputs": [
    {
     "name": "stdout",
     "output_type": "stream",
     "text": [
      "+------+------------------+-----+---------------+-----------------+--------------+-------------+\n",
      "|userId|count_interactions| male|count_thumbs_up|count_thumbs_down|count_playlist|count_friends|\n",
      "+------+------------------+-----+---------------+-----------------+--------------+-------------+\n",
      "|100010|               381|false|             17|                5|             7|            4|\n",
      "|200002|               474| true|             21|                6|             8|            4|\n",
      "|   125|                11| true|              0|                0|             0|            0|\n",
      "|   124|              4825|false|            171|               41|           118|           74|\n",
      "|    51|              2464| true|            100|               21|            52|           28|\n",
      "+------+------------------+-----+---------------+-----------------+--------------+-------------+\n",
      "only showing top 5 rows\n",
      "\n",
      "Operations took 21.3 seconds.\n"
     ]
    }
   ],
   "source": [
    "start_time = time.time()\n",
    "\n",
    "# counting thumbs up per user\n",
    "df_users = count_interactions(\"Add to Playlist\", \"count_playlist\", df, df_users)\n",
    "# counting thumbs down per user\n",
    "df_users = count_interactions(\"Add Friend\", \"count_friends\", df, df_users)\n",
    "\n",
    "df_users.show(5)\n",
    "\n",
    "print(f\"Operations took {time.time() - start_time:.1f} seconds.\")"
   ]
  },
  {
   "cell_type": "markdown",
   "metadata": {},
   "source": [
    "**New features 7 and 8**: Total number of advertisements (`count_ads`) and errors (`count_errors`) the user has seen."
   ]
  },
  {
   "cell_type": "code",
   "execution_count": 38,
   "metadata": {},
   "outputs": [
    {
     "name": "stdout",
     "output_type": "stream",
     "text": [
      "+------+---------+------------+\n",
      "|userId|count_ads|count_errors|\n",
      "+------+---------+------------+\n",
      "|100010|       52|           0|\n",
      "|200002|        7|           0|\n",
      "|   125|        1|           0|\n",
      "|   124|        4|           6|\n",
      "|    51|        0|           1|\n",
      "+------+---------+------------+\n",
      "only showing top 5 rows\n",
      "\n",
      "Operations took 14.5 seconds.\n"
     ]
    }
   ],
   "source": [
    "start_time = time.time()\n",
    "\n",
    "# counting thumbs up per user\n",
    "df_users = count_interactions(\"Roll Advert\", \"count_ads\", df, df_users)\n",
    "# counting thumbs down per user\n",
    "df_users = count_interactions(\"Error\", \"count_errors\", df, df_users)\n",
    "\n",
    "df_users.select(\"userId\", \"count_ads\", \"count_errors\").show(5)\n",
    "\n",
    "print(f\"Operations took {time.time() - start_time:.1f} seconds.\")"
   ]
  },
  {
   "cell_type": "markdown",
   "metadata": {},
   "source": [
    "**New feature 9**: Time since the last interaction (`duration_inactivity_hrs`) in hours -excluding cancellation- by the user."
   ]
  },
  {
   "cell_type": "code",
   "execution_count": 39,
   "metadata": {},
   "outputs": [
    {
     "name": "stdout",
     "output_type": "stream",
     "text": [
      "+------+-----------------------+\n",
      "|userId|duration_inactivity_hrs|\n",
      "+------+-----------------------+\n",
      "|100010|                 270.98|\n",
      "|200002|                 409.76|\n",
      "|   125|                 1244.6|\n",
      "|   124|                  57.98|\n",
      "|    51|                1121.57|\n",
      "+------+-----------------------+\n",
      "only showing top 5 rows\n",
      "\n",
      "Operations took 21.3 seconds.\n"
     ]
    }
   ],
   "source": [
    "start_time = time.time()\n",
    "\n",
    "# Determine the time of the last user interaction -excluding cancellation- \n",
    "# and append it to the user dataframe\n",
    "df_temp = df.filter(~df.page.isin([\"Cancel\", \"Cancellation Confirmation\"])) \\\n",
    "            .select(\"userId\", \n",
    "                    \"timestamp\", \n",
    "                    max(\"timestamp\").over(Window.partitionBy(\"userId\")).alias(\"time_last_action\"))\n",
    "df_temp = df_temp.groupby(\"userId\").agg(max(df_temp.time_last_action).alias(\"time_last_action\"))\n",
    "df_users = df_users.join(df_temp, \"userId\", \"left\")\n",
    "\n",
    "# Determine the time of the last entry in the df and calculate \n",
    "# the time elapsed since the last action of the user as determined above\n",
    "last_timestamp = df.agg(max(df.timestamp)).collect()[0][0]\n",
    "duration = udf(lambda x: round((last_timestamp - x).total_seconds() / 3600, 2), FloatType())\n",
    "df_users = df_users.withColumn(\"duration_inactivity_hrs\", duration(df_users.time_last_action))\n",
    "df_users = df_users.drop(\"time_last_action\")\n",
    "df_users.select(\"userId\", \"duration_inactivity_hrs\").show(5)\n",
    "\n",
    "print(f\"Operations took {time.time() - start_time:.1f} seconds.\")"
   ]
  },
  {
   "cell_type": "markdown",
   "metadata": {},
   "source": [
    "**New feature 10**: Number of songs (`count_songs_7d`) listened to by a user in the last 7 days."
   ]
  },
  {
   "cell_type": "code",
   "execution_count": 40,
   "metadata": {
    "scrolled": true
   },
   "outputs": [
    {
     "name": "stdout",
     "output_type": "stream",
     "text": [
      "+------+------------------+--------------+\n",
      "|userId|count_interactions|count_songs_7d|\n",
      "+------+------------------+--------------+\n",
      "|100010|               381|             0|\n",
      "|200002|               474|             0|\n",
      "|   125|                11|             0|\n",
      "|   124|              4825|           216|\n",
      "|    51|              2464|             0|\n",
      "+------+------------------+--------------+\n",
      "only showing top 5 rows\n",
      "\n",
      "Operations took 21.2 seconds.\n"
     ]
    }
   ],
   "source": [
    "start_time = time.time()\n",
    "\n",
    "# Determine the point in time 7 days before the last dataset entry\n",
    "seven_days_ago = last_timestamp - datetime.timedelta(days=7)\n",
    "\n",
    "df_temp = df.filter((df.timestamp >= seven_days_ago) & (df.page == \"NextSong\")).groupby(\"userId\").count()\n",
    "df_users = df_users.join(df_temp, \"userId\", \"left\")\n",
    "df_users = df_users.fillna(0, [\"count\"])\n",
    "df_users = df_users.withColumnRenamed(\"count\", \"count_songs_7d\")\n",
    "df_users.select(\"userId\", \"count_interactions\", \"count_songs_7d\").show(5)\n",
    "\n",
    "print(f\"Operations took {time.time() - start_time:.1f} seconds.\")"
   ]
  },
  {
   "cell_type": "markdown",
   "metadata": {},
   "source": [
    "**New feature 11**: Average time (in minutes) a user listened to a song (`avg_time_song_min`)."
   ]
  },
  {
   "cell_type": "code",
   "execution_count": 41,
   "metadata": {},
   "outputs": [
    {
     "name": "stdout",
     "output_type": "stream",
     "text": [
      "+------+------------------+\n",
      "|userId| avg_time_song_min|\n",
      "+------+------------------+\n",
      "|100010|4.0570240818181835|\n",
      "|200002| 4.048616534883718|\n",
      "|   125| 4.352318958333334|\n",
      "|   124|4.1362756099942795|\n",
      "|    51| 4.131342513816519|\n",
      "+------+------------------+\n",
      "only showing top 5 rows\n",
      "\n",
      "Operations took 22.6 seconds.\n"
     ]
    }
   ],
   "source": [
    "start_time = time.time()\n",
    "\n",
    "# Calculate for every user the average duration (in minutes) per song he/she played\n",
    "# and append this information to the user dataframe\n",
    "df_temp = df.filter(df.page == \"NextSong\").groupby(\"userId\").agg((avg(\"length\")/60).alias(\"avg_time_song_min\"))\n",
    "df_temp = df_temp.groupby(\"userId\").agg(max(df_temp.avg_time_song_min).alias(\"avg_time_song_min\"))\n",
    "df_users = df_users.join(df_temp, \"userId\", \"left\")\n",
    "df_users.select(\"userId\", \"avg_time_song_min\").show(5)\n",
    "\n",
    "print(f\"Operations took {time.time() - start_time:.1f} seconds.\")"
   ]
  },
  {
   "cell_type": "markdown",
   "metadata": {},
   "source": [
    "**New features 12 and 13**: User has upgraded (`upgrade`) and or downgraded (`downgrade`) the service."
   ]
  },
  {
   "cell_type": "code",
   "execution_count": 42,
   "metadata": {
    "scrolled": false
   },
   "outputs": [
    {
     "name": "stdout",
     "output_type": "stream",
     "text": [
      "+------+-------+---------+\n",
      "|userId|upgrade|downgrade|\n",
      "+------+-------+---------+\n",
      "|100010|  false|    false|\n",
      "|200002|   true|     true|\n",
      "|   125|  false|    false|\n",
      "|   124|  false|    false|\n",
      "|    51|  false|    false|\n",
      "+------+-------+---------+\n",
      "only showing top 5 rows\n",
      "\n",
      "Operations took 25.4 seconds.\n"
     ]
    }
   ],
   "source": [
    "start_time = time.time()\n",
    "\n",
    "df_users = count_interactions(\"Submit Upgrade\", \"upgrade\", df, df_users)\n",
    "df_users = count_interactions(\"Submit Downgrade\", \"downgrade\", df, df_users)\n",
    "df_users = df_users.withColumn(\"upgrade\", when(df_users.upgrade != 0, True).otherwise(False))\n",
    "df_users = df_users.withColumn(\"downgrade\", when(df_users.upgrade != 0, True).otherwise(False))\n",
    "df_users.select(\"userId\", \"upgrade\", \"downgrade\").show(5)\n",
    "\n",
    "print(f\"Operations took {time.time() - start_time:.1f} seconds.\")"
   ]
  },
  {
   "cell_type": "markdown",
   "metadata": {},
   "source": [
    "**New feature 14**: User currently paying for the service (`paying`)."
   ]
  },
  {
   "cell_type": "code",
   "execution_count": 43,
   "metadata": {},
   "outputs": [
    {
     "name": "stdout",
     "output_type": "stream",
     "text": [
      "+------+------+\n",
      "|userId|paying|\n",
      "+------+------+\n",
      "|100010| false|\n",
      "|200002|  true|\n",
      "|   125| false|\n",
      "|   124|  true|\n",
      "|    51|  true|\n",
      "+------+------+\n",
      "only showing top 5 rows\n",
      "\n",
      "Operations took 26.9 seconds.\n"
     ]
    }
   ],
   "source": [
    "start_time = time.time()\n",
    "\n",
    "w = Window.partitionBy(\"userId\")\n",
    "df_temp = df.withColumn(\"maxTimestamp\", max(\"timestamp\").over(w)) \\\n",
    "            .where(col(\"timestamp\") == col(\"maxTimestamp\")) \\\n",
    "            .select(\"userId\", \"level\") \\\n",
    "            .dropDuplicates()\n",
    "df_users = df_users.join(df_temp, \"userId\", \"left\")\n",
    "df_users = df_users.withColumn(\"paying\", when(df_users.level == \"paid\", True).otherwise(False)).drop(\"level\")\n",
    "df_users.select(\"userId\", \"paying\").show(5)\n",
    "\n",
    "print(f\"Operations took {time.time() - start_time:.1f} seconds.\")"
   ]
  },
  {
   "cell_type": "markdown",
   "metadata": {},
   "source": [
    "**New feature 15**: User has cancelled the service (`cancelled`)."
   ]
  },
  {
   "cell_type": "code",
   "execution_count": 44,
   "metadata": {},
   "outputs": [
    {
     "name": "stdout",
     "output_type": "stream",
     "text": [
      "+------+---------+\n",
      "|userId|cancelled|\n",
      "+------+---------+\n",
      "|100010|    false|\n",
      "|200002|    false|\n",
      "|   125|     true|\n",
      "|   124|    false|\n",
      "|    51|     true|\n",
      "+------+---------+\n",
      "only showing top 5 rows\n",
      "\n",
      "Operations took 29.0 seconds.\n"
     ]
    }
   ],
   "source": [
    "start_time = time.time()\n",
    "\n",
    "df_users = count_interactions(\"Cancellation Confirmation\", \"cancelled\", df, df_users)\n",
    "df_users = df_users.withColumn(\"cancelled\", when(df_users.cancelled != 0, True).otherwise(False))\n",
    "df_users.select(\"userId\", \"cancelled\").show(5)\n",
    "\n",
    "print(f\"Operations took {time.time() - start_time:.1f} seconds.\")"
   ]
  },
  {
   "cell_type": "code",
   "execution_count": 45,
   "metadata": {
    "scrolled": true
   },
   "outputs": [
    {
     "name": "stdout",
     "output_type": "stream",
     "text": [
      "root\n",
      " |-- userId: string (nullable = true)\n",
      " |-- count_interactions: long (nullable = false)\n",
      " |-- male: boolean (nullable = true)\n",
      " |-- count_thumbs_up: long (nullable = true)\n",
      " |-- count_thumbs_down: long (nullable = true)\n",
      " |-- count_playlist: long (nullable = true)\n",
      " |-- count_friends: long (nullable = true)\n",
      " |-- count_ads: long (nullable = true)\n",
      " |-- count_errors: long (nullable = true)\n",
      " |-- duration_inactivity_hrs: float (nullable = true)\n",
      " |-- count_songs_7d: long (nullable = true)\n",
      " |-- avg_time_song_min: double (nullable = true)\n",
      " |-- upgrade: boolean (nullable = false)\n",
      " |-- downgrade: boolean (nullable = false)\n",
      " |-- paying: boolean (nullable = false)\n",
      " |-- cancelled: boolean (nullable = false)\n",
      "\n"
     ]
    }
   ],
   "source": [
    "df_users.printSchema()"
   ]
  },
  {
   "cell_type": "code",
   "execution_count": 47,
   "metadata": {
    "scrolled": true
   },
   "outputs": [],
   "source": [
    "df_users.write.mode('overwrite').save(\"users_df.json\")"
   ]
  },
  {
   "cell_type": "markdown",
   "metadata": {},
   "source": [
    "# Modeling\n",
    "The full dataset is to be split into a train, test, and validation set. Three alternative machine learning methods will be implemented before selecting the most useful model. The model optimization and the model selection will be based on the F1 score."
   ]
  },
  {
   "cell_type": "code",
   "execution_count": 48,
   "metadata": {
    "scrolled": true
   },
   "outputs": [
    {
     "name": "stdout",
     "output_type": "stream",
     "text": [
      "+------+------------------+-----+---------------+-----------------+--------------+-------------+---------+------------+-----------------------+--------------+------------------+-------+---------+------+---------+\n",
      "|userId|count_interactions| male|count_thumbs_up|count_thumbs_down|count_playlist|count_friends|count_ads|count_errors|duration_inactivity_hrs|count_songs_7d| avg_time_song_min|upgrade|downgrade|paying|cancelled|\n",
      "+------+------------------+-----+---------------+-----------------+--------------+-------------+---------+------------+-----------------------+--------------+------------------+-------+---------+------+---------+\n",
      "|100004|              1245|false|             35|               11|            23|           19|       86|           2|                  94.56|           325| 4.095548288924273|   true|     true|  true|    false|\n",
      "|   104|              2132|false|             84|               17|            43|           23|       23|           1|                  125.2|            33|4.1333937979599416|   true|     true|  true|    false|\n",
      "|    60|              1950| true|             84|                9|            58|           27|        3|           2|                 169.11|             0| 4.180063879562043|   true|     true|  true|    false|\n",
      "|    68|                48|false|              2|                0|             0|            7|        4|           0|                 221.81|             0| 4.068789063218391|  false|    false| false|    false|\n",
      "|    90|                45| true|              0|                0|             0|            0|        3|           0|                 275.71|             0|  4.27082458108108|  false|    false| false|    false|\n",
      "+------+------------------+-----+---------------+-----------------+--------------+-------------+---------+------------+-----------------------+--------------+------------------+-------+---------+------+---------+\n",
      "only showing top 5 rows\n",
      "\n"
     ]
    }
   ],
   "source": [
    "df_users = spark.read.load(\"users_df.json\")\n",
    "df_users.show(5)"
   ]
  },
  {
   "cell_type": "code",
   "execution_count": 49,
   "metadata": {
    "scrolled": false
   },
   "outputs": [
    {
     "name": "stdout",
     "output_type": "stream",
     "text": [
      "+------+--------------------+\n",
      "|userId|  user_features_norm|\n",
      "+------+--------------------+\n",
      "|100004|[0.96218712022672...|\n",
      "|   104|[0.99703909886638...|\n",
      "|    60|[0.99479921632502...|\n",
      "|    68|(14,[0,2,5,6,8,10...|\n",
      "|    90|(14,[0,1,6,8,10],...|\n",
      "+------+--------------------+\n",
      "only showing top 5 rows\n",
      "\n"
     ]
    }
   ],
   "source": [
    "# convert independent features into vector\n",
    "ignore = [\"userId\", \"cancelled\"]\n",
    "inputCols = [c for c in df_users.columns if c not in ignore]\n",
    "vec_assembler = VectorAssembler(inputCols=inputCols, outputCol=\"user_features\")\n",
    "df_users = vec_assembler.transform(df_users)\n",
    "\n",
    "# normalize features vector\n",
    "scaler = Normalizer(inputCol=\"user_features\", outputCol=\"user_features_norm\")\n",
    "df_users = scaler.transform(df_users)\n",
    "\n",
    "df_users.select(\"userId\", \"user_features_norm\").show(5)"
   ]
  },
  {
   "cell_type": "code",
   "execution_count": 50,
   "metadata": {
    "scrolled": true
   },
   "outputs": [
    {
     "data": {
      "text/plain": [
       "225"
      ]
     },
     "execution_count": 50,
     "metadata": {},
     "output_type": "execute_result"
    }
   ],
   "source": [
    "data = df_users.select(col(\"user_features_norm\").alias(\"features\"),\n",
    "                       col(\"cancelled\").alias(\"label\"))\n",
    "# convert label into numeric\n",
    "data = data.withColumn(\"label\", col(\"label\").cast(\"integer\"))\n",
    "data.count()"
   ]
  },
  {
   "cell_type": "code",
   "execution_count": 51,
   "metadata": {},
   "outputs": [
    {
     "data": {
      "text/plain": [
       "(134, 48, 43)"
      ]
     },
     "execution_count": 51,
     "metadata": {},
     "output_type": "execute_result"
    }
   ],
   "source": [
    "# split the data into a training, testing and validation set\n",
    "train, temp = data.randomSplit([0.6, 0.4], seed=42)\n",
    "test, validate = temp.randomSplit([0.5, 0.5], seed=42)\n",
    "train.count(), test.count(), validate.count()"
   ]
  },
  {
   "cell_type": "code",
   "execution_count": 52,
   "metadata": {},
   "outputs": [],
   "source": [
    "def evaluation(preds):\n",
    "    \"\"\"Prints aggregated prediction results and calculates evaluation metrics. \n",
    "    \n",
    "    Input \n",
    "    preds: PySpark ml prediction dataframe\n",
    "    \n",
    "    Returns Nothing\n",
    "    \"\"\"\n",
    "    \n",
    "    preds.groupBy('label','prediction').count().show()\n",
    "\n",
    "    accuracy = MulticlassClassificationEvaluator(metricName='accuracy').evaluate(preds)\n",
    "    recall_label0 = preds.filter((preds.label == 0) & (preds.prediction == 0)).count() / \\\n",
    "                    preds.filter(preds.label == 0).count()\n",
    "    recall_label1 = preds.filter((preds.label == 1) & (preds.prediction == 1)).count() / \\\n",
    "                    preds.filter(preds.label == 1).count()\n",
    "    f1 = MulticlassClassificationEvaluator(metricName='f1').evaluate(preds)\n",
    "\n",
    "    print(f\"Accuracy: {accuracy:.2f}\")\n",
    "    print(f\"Recall: [{recall_label0:.2f}, \" \\\n",
    "                     f\"{recall_label1:.2f}]\")\n",
    "    print(f\"F1 score: {f1:.2f}\")"
   ]
  },
  {
   "cell_type": "markdown",
   "metadata": {},
   "source": [
    "### Model 1: Logistic regressor"
   ]
  },
  {
   "cell_type": "code",
   "execution_count": 53,
   "metadata": {
    "scrolled": true
   },
   "outputs": [
    {
     "name": "stdout",
     "output_type": "stream",
     "text": [
      "+--------------------+-----+--------------------+--------------------+----------+\n",
      "|            features|label|       rawPrediction|         probability|prediction|\n",
      "+--------------------+-----+--------------------+--------------------+----------+\n",
      "|(14,[0,1,3,4,6,8,...|  1.0|[-1.0525201198485...|[0.25874146235375...|       1.0|\n",
      "|(14,[0,1,6,8,9,10...|  0.0|[16.8659853482594...|[0.99999995266355...|       0.0|\n",
      "|(14,[0,1,6,8,10],...|  0.0|[7.77406467944662...|[0.99957967615809...|       0.0|\n",
      "|(14,[0,2,3,4,5,6,...|  0.0|[1.12908541560613...|[0.75567007629418...|       0.0|\n",
      "|(14,[0,2,3,4,5,6,...|  0.0|[2.55175855950894...|[0.92769156743476...|       0.0|\n",
      "+--------------------+-----+--------------------+--------------------+----------+\n",
      "only showing top 5 rows\n",
      "\n",
      "Operations took 89.7 seconds.\n"
     ]
    }
   ],
   "source": [
    "start_time = time.time()\n",
    "\n",
    "lr = LogisticRegression(maxIter=10)\n",
    "param_grid = ParamGridBuilder() \\\n",
    "             .addGrid(lr.regParam, [0, 0.05, 0.1]) \\\n",
    "             .addGrid(lr.elasticNetParam, [0.1, 0.2, 0.5, 1]) \\\n",
    "             .addGrid(lr.fitIntercept, [True, False]) \\\n",
    "             .build()\n",
    "lr_cross_val = CrossValidator(estimator=lr,\n",
    "                              estimatorParamMaps=param_grid,\n",
    "                              evaluator=MulticlassClassificationEvaluator(metricName=\"f1\"),\n",
    "                              numFolds=3,\n",
    "                              seed=42)\n",
    "lr_cv_model = lr_cross_val.fit(train)\n",
    "lr_best_model = lr_cv_model.bestModel\n",
    "\n",
    "lr_best_model.summary.predictions.show(5)\n",
    "\n",
    "print(f\"Operations took {time.time() - start_time:.1f} seconds.\")"
   ]
  },
  {
   "cell_type": "code",
   "execution_count": 54,
   "metadata": {},
   "outputs": [
    {
     "name": "stdout",
     "output_type": "stream",
     "text": [
      "Logistic Regression - TRAINING Evaluation\n",
      "+-----+----------+-----+\n",
      "|label|prediction|count|\n",
      "+-----+----------+-----+\n",
      "|  1.0|       1.0|   31|\n",
      "|  0.0|       1.0|    7|\n",
      "|  1.0|       0.0|    7|\n",
      "|  0.0|       0.0|   89|\n",
      "+-----+----------+-----+\n",
      "\n",
      "Accuracy: 0.90\n",
      "Recall: [0.93, 0.82]\n",
      "F1 score: 0.90\n"
     ]
    }
   ],
   "source": [
    "print(\"Logistic Regression - TRAINING Evaluation\")\n",
    "lr_best_model.summary.predictions.groupBy('label','prediction').count().show()\n",
    "print(f\"Accuracy: {lr_best_model.summary.accuracy:.2f}\")\n",
    "print(f\"Recall: [{lr_best_model.summary.recallByLabel[0]:.2f}, \" \\\n",
    "                 f\"{lr_best_model.summary.recallByLabel[1]:.2f}]\")\n",
    "f1 = MulticlassClassificationEvaluator(metricName='f1').evaluate(lr_best_model.summary.predictions)\n",
    "print(f\"F1 score: {f1:.2f}\")"
   ]
  },
  {
   "cell_type": "markdown",
   "metadata": {},
   "source": [
    "81 % of users who cancelled the service are identified as such."
   ]
  },
  {
   "cell_type": "code",
   "execution_count": 55,
   "metadata": {
    "scrolled": true
   },
   "outputs": [
    {
     "data": {
      "text/plain": [
       "{Param(parent='LogisticRegression_0b19b4a0db77', name='aggregationDepth', doc='suggested depth for treeAggregate (>= 2)'): 2,\n",
       " Param(parent='LogisticRegression_0b19b4a0db77', name='elasticNetParam', doc='the ElasticNet mixing parameter, in range [0, 1]. For alpha = 0, the penalty is an L2 penalty. For alpha = 1, it is an L1 penalty'): 0.1,\n",
       " Param(parent='LogisticRegression_0b19b4a0db77', name='family', doc='The name of family which is a description of the label distribution to be used in the model. Supported options: auto, binomial, multinomial.'): 'auto',\n",
       " Param(parent='LogisticRegression_0b19b4a0db77', name='featuresCol', doc='features column name'): 'features',\n",
       " Param(parent='LogisticRegression_0b19b4a0db77', name='fitIntercept', doc='whether to fit an intercept term'): True,\n",
       " Param(parent='LogisticRegression_0b19b4a0db77', name='labelCol', doc='label column name'): 'label',\n",
       " Param(parent='LogisticRegression_0b19b4a0db77', name='maxIter', doc='maximum number of iterations (>= 0)'): 10,\n",
       " Param(parent='LogisticRegression_0b19b4a0db77', name='predictionCol', doc='prediction column name'): 'prediction',\n",
       " Param(parent='LogisticRegression_0b19b4a0db77', name='probabilityCol', doc='Column name for predicted class conditional probabilities. Note: Not all models output well-calibrated probability estimates! These probabilities should be treated as confidences, not precise probabilities'): 'probability',\n",
       " Param(parent='LogisticRegression_0b19b4a0db77', name='rawPredictionCol', doc='raw prediction (a.k.a. confidence) column name'): 'rawPrediction',\n",
       " Param(parent='LogisticRegression_0b19b4a0db77', name='regParam', doc='regularization parameter (>= 0)'): 0.0,\n",
       " Param(parent='LogisticRegression_0b19b4a0db77', name='standardization', doc='whether to standardize the training features before fitting the model'): True,\n",
       " Param(parent='LogisticRegression_0b19b4a0db77', name='threshold', doc='threshold in binary classification prediction, in range [0, 1]'): 0.5,\n",
       " Param(parent='LogisticRegression_0b19b4a0db77', name='tol', doc='the convergence tolerance for iterative algorithms (>= 0)'): 1e-06}"
      ]
     },
     "execution_count": 55,
     "metadata": {},
     "output_type": "execute_result"
    }
   ],
   "source": [
    "lr_best_model.extractParamMap()"
   ]
  },
  {
   "cell_type": "code",
   "execution_count": 56,
   "metadata": {
    "scrolled": true
   },
   "outputs": [
    {
     "name": "stdout",
     "output_type": "stream",
     "text": [
      "+--------------------+-----+--------------------+--------------------+----------+\n",
      "|            features|label|       rawPrediction|         probability|prediction|\n",
      "+--------------------+-----+--------------------+--------------------+----------+\n",
      "|(14,[0,2,3,4,5,6,...|    0|[-1.2271265506002...|[0.22668474224588...|       1.0|\n",
      "|(14,[0,2,5,6,8,10...|    0|[9.47776679042581...|[0.99992347119271...|       0.0|\n",
      "|(14,[0,2,5,6,8,10...|    0|[8.26047512886067...|[0.99974153069958...|       0.0|\n",
      "|[0.52153946193275...|    1|[-0.6914717456120...|[0.33370575611854...|       1.0|\n",
      "|[0.62421092678694...|    1|[-1.4201005625885...|[0.19464581903436...|       1.0|\n",
      "+--------------------+-----+--------------------+--------------------+----------+\n",
      "only showing top 5 rows\n",
      "\n"
     ]
    }
   ],
   "source": [
    "lr_test_preds = lr_best_model.transform(test)\n",
    "lr_test_preds.show(5)"
   ]
  },
  {
   "cell_type": "code",
   "execution_count": 57,
   "metadata": {
    "scrolled": true
   },
   "outputs": [
    {
     "name": "stdout",
     "output_type": "stream",
     "text": [
      "Logistic Regression - TEST Evalutation\n",
      "+-----+----------+-----+\n",
      "|label|prediction|count|\n",
      "+-----+----------+-----+\n",
      "|    1|       0.0|    2|\n",
      "|    0|       0.0|   39|\n",
      "|    1|       1.0|    5|\n",
      "|    0|       1.0|    2|\n",
      "+-----+----------+-----+\n",
      "\n",
      "Accuracy: 0.92\n",
      "Recall: [0.95, 0.71]\n",
      "F1 score: 0.92\n"
     ]
    }
   ],
   "source": [
    "print(\"Logistic Regression - TEST Evalutation\")\n",
    "evaluation(lr_test_preds)"
   ]
  },
  {
   "cell_type": "markdown",
   "metadata": {},
   "source": [
    "86 % of users who cancelled the service are identified as such."
   ]
  },
  {
   "cell_type": "markdown",
   "metadata": {},
   "source": [
    "### Model 2: Naive Bayes classifier"
   ]
  },
  {
   "cell_type": "code",
   "execution_count": 58,
   "metadata": {},
   "outputs": [
    {
     "name": "stdout",
     "output_type": "stream",
     "text": [
      "+--------------------+-----+--------------------+--------------------+----------+\n",
      "|            features|label|       rawPrediction|         probability|prediction|\n",
      "+--------------------+-----+--------------------+--------------------+----------+\n",
      "|(14,[0,1,3,4,6,8,...|    1|[-1.7929874260709...|[0.58040168534853...|       1.0|\n",
      "|(14,[0,1,6,8,9,10...|    0|[-2.0230173114033...|[0.58730185455228...|       1.0|\n",
      "|(14,[0,1,6,8,10],...|    0|[-1.9564933523227...|[0.59427048794050...|       1.0|\n",
      "|(14,[0,2,3,4,5,6,...|    0|[-2.1846293160900...|[0.64086424153697...|       1.0|\n",
      "|(14,[0,2,3,4,5,6,...|    0|[-2.1685149216613...|[0.68502790567176...|       0.0|\n",
      "|(14,[0,2,3,4,5,8,...|    0|[-1.9088645780680...|[0.60012617732343...|       1.0|\n",
      "|(14,[0,2,3,4,6,8,...|    1|[-2.2120181264073...|[0.65245401649007...|       0.0|\n",
      "|(14,[0,2,4,5,6,8,...|    0|[-2.7228938397498...|[0.70993159063136...|       0.0|\n",
      "|(14,[0,2,4,5,6,9,...|    0|[-1.2498746140820...|[0.78616574300724...|       0.0|\n",
      "|(14,[0,2,4,5,8,10...|    0|[-1.8573336984318...|[0.58869835993515...|       1.0|\n",
      "+--------------------+-----+--------------------+--------------------+----------+\n",
      "only showing top 10 rows\n",
      "\n",
      "Operations took 41.4 seconds.\n"
     ]
    }
   ],
   "source": [
    "start_time = time.time()\n",
    "\n",
    "nb = NaiveBayes()\n",
    "\n",
    "param_grid = ParamGridBuilder() \\\n",
    "             .addGrid(nb.smoothing, [0, 0.1, 0.3, 0.5]) \\\n",
    "             .addGrid(nb.thresholds, [[0.75, 0.25], [0.7, 0.3], [0.65, 0.35]]) \\\n",
    "             .build()\n",
    "nb_cross_val = CrossValidator(estimator=nb,\n",
    "                              estimatorParamMaps=param_grid,\n",
    "                              evaluator=MulticlassClassificationEvaluator(metricName=\"f1\"),\n",
    "                              numFolds=5,\n",
    "                              seed=42)\n",
    "nb_cv_model = nb_cross_val.fit(train)\n",
    "nb_best_model = nb_cv_model.bestModel\n",
    "\n",
    "nb_train_preds = nb_best_model.transform(train)\n",
    "nb_train_preds.show(10)\n",
    "\n",
    "print(f\"Operations took {time.time() - start_time:.1f} seconds.\")"
   ]
  },
  {
   "cell_type": "code",
   "execution_count": 59,
   "metadata": {},
   "outputs": [
    {
     "data": {
      "text/plain": [
       "{Param(parent='NaiveBayes_03b16ec4def2', name='featuresCol', doc='features column name'): 'features',\n",
       " Param(parent='NaiveBayes_03b16ec4def2', name='labelCol', doc='label column name'): 'label',\n",
       " Param(parent='NaiveBayes_03b16ec4def2', name='modelType', doc='The model type which is a string (case-sensitive). Supported options: multinomial (default) and bernoulli.'): 'multinomial',\n",
       " Param(parent='NaiveBayes_03b16ec4def2', name='predictionCol', doc='prediction column name'): 'prediction',\n",
       " Param(parent='NaiveBayes_03b16ec4def2', name='probabilityCol', doc='Column name for predicted class conditional probabilities. Note: Not all models output well-calibrated probability estimates! These probabilities should be treated as confidences, not precise probabilities'): 'probability',\n",
       " Param(parent='NaiveBayes_03b16ec4def2', name='rawPredictionCol', doc='raw prediction (a.k.a. confidence) column name'): 'rawPrediction',\n",
       " Param(parent='NaiveBayes_03b16ec4def2', name='smoothing', doc='The smoothing parameter.'): 0.5,\n",
       " Param(parent='NaiveBayes_03b16ec4def2', name='thresholds', doc=\"Thresholds in multi-class classification to adjust the probability of predicting each class. Array must have length equal to the number of classes, with values > 0 excepting that at most one value may be 0. The class with largest value p/t is predicted, where p is the original probability of that class and t is the class's threshold\"): [0.65,\n",
       "  0.35]}"
      ]
     },
     "execution_count": 59,
     "metadata": {},
     "output_type": "execute_result"
    }
   ],
   "source": [
    "nb_best_model.extractParamMap()"
   ]
  },
  {
   "cell_type": "code",
   "execution_count": 60,
   "metadata": {
    "scrolled": true
   },
   "outputs": [
    {
     "name": "stdout",
     "output_type": "stream",
     "text": [
      "Naive Bayes - TRAINING Evalutation\n",
      "+-----+----------+-----+\n",
      "|label|prediction|count|\n",
      "+-----+----------+-----+\n",
      "|    1|       0.0|   23|\n",
      "|    0|       0.0|   81|\n",
      "|    1|       1.0|   15|\n",
      "|    0|       1.0|   15|\n",
      "+-----+----------+-----+\n",
      "\n",
      "Accuracy: 0.72\n",
      "Recall: [0.84, 0.39]\n",
      "F1 score: 0.71\n"
     ]
    }
   ],
   "source": [
    "print(\"Naive Bayes - TRAINING Evalutation\")\n",
    "evaluation(nb_train_preds)"
   ]
  },
  {
   "cell_type": "markdown",
   "metadata": {},
   "source": [
    "59 % of users who cancelled the service are identified as such."
   ]
  },
  {
   "cell_type": "code",
   "execution_count": 61,
   "metadata": {},
   "outputs": [
    {
     "name": "stdout",
     "output_type": "stream",
     "text": [
      "+--------------------+-----+--------------------+--------------------+----------+\n",
      "|            features|label|       rawPrediction|         probability|prediction|\n",
      "+--------------------+-----+--------------------+--------------------+----------+\n",
      "|(14,[0,2,3,4,5,6,...|    0|[-2.3461615022255...|[0.70373506877228...|       0.0|\n",
      "|(14,[0,2,5,6,8,10...|    0|[-2.0913446400085...|[0.59650859073510...|       1.0|\n",
      "|(14,[0,2,5,6,8,10...|    0|[-2.1535376431645...|[0.60037061565416...|       1.0|\n",
      "|[0.52153946193275...|    1|[-2.2147082189297...|[0.64471360592210...|       1.0|\n",
      "|[0.62421092678694...|    1|[-2.1418083260783...|[0.66390748559650...|       0.0|\n",
      "+--------------------+-----+--------------------+--------------------+----------+\n",
      "only showing top 5 rows\n",
      "\n"
     ]
    }
   ],
   "source": [
    "nb_test_preds = nb_best_model.transform(test)\n",
    "nb_test_preds.show(5)"
   ]
  },
  {
   "cell_type": "code",
   "execution_count": 62,
   "metadata": {},
   "outputs": [
    {
     "name": "stdout",
     "output_type": "stream",
     "text": [
      "Naive Bayes - TEST Evalutation\n",
      "+-----+----------+-----+\n",
      "|label|prediction|count|\n",
      "+-----+----------+-----+\n",
      "|    1|       0.0|    4|\n",
      "|    0|       0.0|   34|\n",
      "|    1|       1.0|    3|\n",
      "|    0|       1.0|    7|\n",
      "+-----+----------+-----+\n",
      "\n",
      "Accuracy: 0.77\n",
      "Recall: [0.83, 0.43]\n",
      "F1 score: 0.79\n"
     ]
    }
   ],
   "source": [
    "print(\"Naive Bayes - TEST Evalutation\")\n",
    "evaluation(nb_test_preds)"
   ]
  },
  {
   "cell_type": "markdown",
   "metadata": {},
   "source": [
    "71 % of users who cancelled the service are identified as such."
   ]
  },
  {
   "cell_type": "markdown",
   "metadata": {},
   "source": [
    "### Model 3: Random forest classifier"
   ]
  },
  {
   "cell_type": "code",
   "execution_count": 63,
   "metadata": {},
   "outputs": [
    {
     "name": "stdout",
     "output_type": "stream",
     "text": [
      "+--------------------+-----+-------------+--------------------+----------+\n",
      "|            features|label|rawPrediction|         probability|prediction|\n",
      "+--------------------+-----+-------------+--------------------+----------+\n",
      "|(14,[0,1,3,4,6,8,...|    1|   [4.5,25.5]|         [0.15,0.85]|       1.0|\n",
      "|(14,[0,1,6,8,9,10...|    0|   [29.0,1.0]|[0.96666666666666...|       0.0|\n",
      "|(14,[0,1,6,8,10],...|    0|   [30.0,0.0]|           [1.0,0.0]|       0.0|\n",
      "|(14,[0,2,3,4,5,6,...|    0|   [25.0,5.0]|[0.83333333333333...|       0.0|\n",
      "|(14,[0,2,3,4,5,6,...|    0|   [26.0,4.0]|[0.86666666666666...|       0.0|\n",
      "|(14,[0,2,3,4,5,8,...|    0| [22.75,7.25]|[0.75833333333333...|       0.0|\n",
      "|(14,[0,2,3,4,6,8,...|    1|   [8.0,22.0]|[0.26666666666666...|       1.0|\n",
      "|(14,[0,2,4,5,6,8,...|    0|   [30.0,0.0]|           [1.0,0.0]|       0.0|\n",
      "|(14,[0,2,4,5,6,9,...|    0|   [30.0,0.0]|           [1.0,0.0]|       0.0|\n",
      "|(14,[0,2,4,5,8,10...|    0|   [26.0,4.0]|[0.86666666666666...|       0.0|\n",
      "+--------------------+-----+-------------+--------------------+----------+\n",
      "only showing top 10 rows\n",
      "\n",
      "Operations took 74.5 seconds.\n"
     ]
    }
   ],
   "source": [
    "start_time = time.time()\n",
    "\n",
    "rfc = RandomForestClassifier()\n",
    "\n",
    "param_grid = ParamGridBuilder() \\\n",
    "             .addGrid(rfc.maxDepth, [5, 10, 15]) \\\n",
    "             .addGrid(rfc.numTrees, [10, 20, 30]) \\\n",
    "             .build()\n",
    "rfc_cross_val = CrossValidator(estimator=rfc,\n",
    "                               estimatorParamMaps=param_grid,\n",
    "                               evaluator=MulticlassClassificationEvaluator(metricName=\"f1\"),\n",
    "                               numFolds=5,\n",
    "                               seed=42)\n",
    "rfc_cv_model = rfc_cross_val.fit(train)\n",
    "rfc_best_model = rfc_cv_model.bestModel\n",
    "\n",
    "rfc_train_preds = rfc_best_model.transform(train)\n",
    "rfc_train_preds.show(10)\n",
    "\n",
    "print(f\"Operations took {time.time() - start_time:.1f} seconds.\")"
   ]
  },
  {
   "cell_type": "code",
   "execution_count": 64,
   "metadata": {
    "scrolled": true
   },
   "outputs": [
    {
     "name": "stdout",
     "output_type": "stream",
     "text": [
      "Random Forest - TRAINING Evalutation\n",
      "+-----+----------+-----+\n",
      "|label|prediction|count|\n",
      "+-----+----------+-----+\n",
      "|    0|       0.0|   96|\n",
      "|    1|       1.0|   38|\n",
      "+-----+----------+-----+\n",
      "\n",
      "Accuracy: 1.00\n",
      "Recall: [1.00, 1.00]\n",
      "F1 score: 1.00\n"
     ]
    }
   ],
   "source": [
    "print(\"Random Forest - TRAINING Evalutation\")\n",
    "evaluation(rfc_train_preds)"
   ]
  },
  {
   "cell_type": "markdown",
   "metadata": {},
   "source": [
    "95 % of users who cancelled the service are identified as such."
   ]
  },
  {
   "cell_type": "code",
   "execution_count": 65,
   "metadata": {},
   "outputs": [
    {
     "data": {
      "text/plain": [
       "{Param(parent='RandomForestClassifier_40b82def72df', name='cacheNodeIds', doc='If false, the algorithm will pass trees to executors to match instances with nodes. If true, the algorithm will cache node IDs for each instance. Caching can speed up training of deeper trees.'): False,\n",
       " Param(parent='RandomForestClassifier_40b82def72df', name='checkpointInterval', doc='set checkpoint interval (>= 1) or disable checkpoint (-1). E.g. 10 means that the cache will get checkpointed every 10 iterations. Note: this setting will be ignored if the checkpoint directory is not set in the SparkContext'): 10,\n",
       " Param(parent='RandomForestClassifier_40b82def72df', name='featureSubsetStrategy', doc='The number of features to consider for splits at each tree node. Supported options: auto, all, onethird, sqrt, log2, (0.0-1.0], [1-n].'): 'auto',\n",
       " Param(parent='RandomForestClassifier_40b82def72df', name='featuresCol', doc='features column name'): 'features',\n",
       " Param(parent='RandomForestClassifier_40b82def72df', name='impurity', doc='Criterion used for information gain calculation (case-insensitive). Supported options: entropy, gini'): 'gini',\n",
       " Param(parent='RandomForestClassifier_40b82def72df', name='labelCol', doc='label column name'): 'label',\n",
       " Param(parent='RandomForestClassifier_40b82def72df', name='maxBins', doc='Max number of bins for discretizing continuous features.  Must be >=2 and >= number of categories for any categorical feature.'): 32,\n",
       " Param(parent='RandomForestClassifier_40b82def72df', name='maxDepth', doc='Maximum depth of the tree. (>= 0) E.g., depth 0 means 1 leaf node; depth 1 means 1 internal node + 2 leaf nodes.'): 10,\n",
       " Param(parent='RandomForestClassifier_40b82def72df', name='maxMemoryInMB', doc='Maximum memory in MB allocated to histogram aggregation.'): 256,\n",
       " Param(parent='RandomForestClassifier_40b82def72df', name='minInfoGain', doc='Minimum information gain for a split to be considered at a tree node.'): 0.0,\n",
       " Param(parent='RandomForestClassifier_40b82def72df', name='minInstancesPerNode', doc='Minimum number of instances each child must have after split.  If a split causes the left or right child to have fewer than minInstancesPerNode, the split will be discarded as invalid. Should be >= 1.'): 1,\n",
       " Param(parent='RandomForestClassifier_40b82def72df', name='numTrees', doc='Number of trees to train (>= 1)'): 30,\n",
       " Param(parent='RandomForestClassifier_40b82def72df', name='predictionCol', doc='prediction column name'): 'prediction',\n",
       " Param(parent='RandomForestClassifier_40b82def72df', name='probabilityCol', doc='Column name for predicted class conditional probabilities. Note: Not all models output well-calibrated probability estimates! These probabilities should be treated as confidences, not precise probabilities'): 'probability',\n",
       " Param(parent='RandomForestClassifier_40b82def72df', name='rawPredictionCol', doc='raw prediction (a.k.a. confidence) column name'): 'rawPrediction',\n",
       " Param(parent='RandomForestClassifier_40b82def72df', name='seed', doc='random seed'): 8503088471842225487,\n",
       " Param(parent='RandomForestClassifier_40b82def72df', name='subsamplingRate', doc='Fraction of the training data used for learning each decision tree, in range (0, 1].'): 1.0}"
      ]
     },
     "execution_count": 65,
     "metadata": {},
     "output_type": "execute_result"
    }
   ],
   "source": [
    "rfc_best_model.extractParamMap()"
   ]
  },
  {
   "cell_type": "code",
   "execution_count": 66,
   "metadata": {},
   "outputs": [
    {
     "name": "stdout",
     "output_type": "stream",
     "text": [
      "+--------------------+-----+-------------+--------------------+----------+\n",
      "|            features|label|rawPrediction|         probability|prediction|\n",
      "+--------------------+-----+-------------+--------------------+----------+\n",
      "|(14,[0,2,3,4,5,6,...|    0|  [16.0,14.0]|[0.53333333333333...|       0.0|\n",
      "|(14,[0,2,5,6,8,10...|    0|   [30.0,0.0]|           [1.0,0.0]|       0.0|\n",
      "|(14,[0,2,5,6,8,10...|    0|   [28.0,2.0]|[0.93333333333333...|       0.0|\n",
      "|[0.52153946193275...|    1|   [23.0,7.0]|[0.76666666666666...|       0.0|\n",
      "|[0.62421092678694...|    1|  [17.0,13.0]|[0.56666666666666...|       0.0|\n",
      "+--------------------+-----+-------------+--------------------+----------+\n",
      "only showing top 5 rows\n",
      "\n"
     ]
    }
   ],
   "source": [
    "rfc_test_preds = rfc_best_model.transform(test)\n",
    "rfc_test_preds.show(5)"
   ]
  },
  {
   "cell_type": "code",
   "execution_count": 67,
   "metadata": {
    "scrolled": false
   },
   "outputs": [
    {
     "name": "stdout",
     "output_type": "stream",
     "text": [
      "Random Forest - TEST Evalutation\n",
      "+-----+----------+-----+\n",
      "|label|prediction|count|\n",
      "+-----+----------+-----+\n",
      "|    1|       0.0|    4|\n",
      "|    0|       0.0|   41|\n",
      "|    1|       1.0|    3|\n",
      "+-----+----------+-----+\n",
      "\n",
      "Accuracy: 0.92\n",
      "Recall: [1.00, 0.43]\n",
      "F1 score: 0.90\n"
     ]
    }
   ],
   "source": [
    "print(\"Random Forest - TEST Evalutation\")\n",
    "evaluation(rfc_test_preds)"
   ]
  },
  {
   "cell_type": "markdown",
   "metadata": {},
   "source": [
    "57 % of users who cancelled the service are identified as such."
   ]
  },
  {
   "cell_type": "markdown",
   "metadata": {},
   "source": [
    "### Model selection and validation"
   ]
  },
  {
   "cell_type": "markdown",
   "metadata": {},
   "source": [
    "**Best model** of the models tested: **Logistic regression model** with a regularization parameter of 0.0, an ElasticNet mixing parameter of 0.1 and a fitted intercept term. The model's f1 score on the test set was 0.94, which was significantly higher than that of the Naive Bayes model (0.80) and slightly higher than the Random Forest model (0.93). \n",
    "\n",
    "**Next step**: Valdidate the result."
   ]
  },
  {
   "cell_type": "code",
   "execution_count": 68,
   "metadata": {},
   "outputs": [
    {
     "name": "stdout",
     "output_type": "stream",
     "text": [
      "+--------------------+-----+--------------------+--------------------+----------+\n",
      "|            features|label|       rawPrediction|         probability|prediction|\n",
      "+--------------------+-----+--------------------+--------------------+----------+\n",
      "|(14,[0,1,2,3,4,6,...|    1|[-0.3609317138187...|[0.41073404302487...|       1.0|\n",
      "|(14,[0,1,2,3,4,6,...|    0|[5.72569182642253...|[0.99674950379867...|       0.0|\n",
      "|(14,[0,1,2,4,6,8,...|    0|[-0.6892238455191...|[0.33420575491256...|       1.0|\n",
      "|(14,[0,1,2,6,8,10...|    1|[-1.0764676121846...|[0.25417507011975...|       1.0|\n",
      "|(14,[0,2,4,5,6,8,...|    0|[5.97904889606741...|[0.99747515834852...|       0.0|\n",
      "+--------------------+-----+--------------------+--------------------+----------+\n",
      "only showing top 5 rows\n",
      "\n"
     ]
    }
   ],
   "source": [
    "lr_validation_preds = lr_best_model.transform(validate)\n",
    "lr_validation_preds.show(5)"
   ]
  },
  {
   "cell_type": "code",
   "execution_count": 69,
   "metadata": {
    "scrolled": true
   },
   "outputs": [
    {
     "name": "stdout",
     "output_type": "stream",
     "text": [
      "Logistic Regression - VALIDATION\n",
      "+-----+----------+-----+\n",
      "|label|prediction|count|\n",
      "+-----+----------+-----+\n",
      "|    1|       0.0|    1|\n",
      "|    0|       0.0|   34|\n",
      "|    1|       1.0|    6|\n",
      "|    0|       1.0|    2|\n",
      "+-----+----------+-----+\n",
      "\n",
      "Accuracy: 0.93\n",
      "Recall: [0.94, 0.86]\n",
      "F1 score: 0.93\n"
     ]
    }
   ],
   "source": [
    "print(\"Logistic Regression - VALIDATION\")\n",
    "evaluation(lr_validation_preds)"
   ]
  },
  {
   "cell_type": "markdown",
   "metadata": {},
   "source": [
    "**Successfully validated!**"
   ]
  }
 ],
 "metadata": {
  "kernelspec": {
   "display_name": "Python 3",
   "language": "python",
   "name": "python3"
  },
  "language_info": {
   "codemirror_mode": {
    "name": "ipython",
    "version": 3
   },
   "file_extension": ".py",
   "mimetype": "text/x-python",
   "name": "python",
   "nbconvert_exporter": "python",
   "pygments_lexer": "ipython3",
   "version": "3.6.3"
  }
 },
 "nbformat": 4,
 "nbformat_minor": 2
}
